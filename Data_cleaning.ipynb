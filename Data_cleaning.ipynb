{
 "cells": [
  {
   "cell_type": "markdown",
   "metadata": {},
   "source": [
    "# DATA CLEANING"
   ]
  },
  {
   "cell_type": "code",
   "execution_count": 1,
   "metadata": {},
   "outputs": [],
   "source": [
    "import pandas as pd\n",
    "import numpy as np"
   ]
  },
  {
   "cell_type": "code",
   "execution_count": null,
   "metadata": {},
   "outputs": [],
   "source": []
  },
  {
   "cell_type": "markdown",
   "metadata": {},
   "source": [
    "If we look at the above table, the first line for instance, has the tag \"acid rap\" associated but this tag isn't considered as a genre by Musicbrainz so, if we decide not to take into consideration this information, we would lose many items for our visualization:"
   ]
  },
  {
   "cell_type": "code",
   "execution_count": 131,
   "metadata": {},
   "outputs": [
    {
     "data": {
      "text/plain": [
       "1745126"
      ]
     },
     "execution_count": 131,
     "metadata": {},
     "output_type": "execute_result"
    }
   ],
   "source": [
    "release_group_genre['group_id'].nunique()"
   ]
  },
  {
   "cell_type": "code",
   "execution_count": 132,
   "metadata": {},
   "outputs": [
    {
     "data": {
      "text/plain": [
       "False    1609337\n",
       "True      135789\n",
       "Name: Main_genre, dtype: int64"
      ]
     },
     "execution_count": 132,
     "metadata": {},
     "output_type": "execute_result"
    }
   ],
   "source": [
    "#How many release groups did we retrieved the Main genre for?\n",
    "pd.notna(release_group_genre['Main_genre']).value_counts()"
   ]
  },
  {
   "cell_type": "code",
   "execution_count": 133,
   "metadata": {},
   "outputs": [
    {
     "data": {
      "text/html": [
       "<div>\n",
       "<style scoped>\n",
       "    .dataframe tbody tr th:only-of-type {\n",
       "        vertical-align: middle;\n",
       "    }\n",
       "\n",
       "    .dataframe tbody tr th {\n",
       "        vertical-align: top;\n",
       "    }\n",
       "\n",
       "    .dataframe thead th {\n",
       "        text-align: right;\n",
       "    }\n",
       "</style>\n",
       "<table border=\"1\" class=\"dataframe\">\n",
       "  <thead>\n",
       "    <tr style=\"text-align: right;\">\n",
       "      <th></th>\n",
       "      <th>group_id</th>\n",
       "      <th>group_mbid</th>\n",
       "      <th>release_group_name</th>\n",
       "      <th>artist_credit</th>\n",
       "      <th>tag_id</th>\n",
       "      <th>tag_counts</th>\n",
       "      <th>tag_name</th>\n",
       "      <th>Main_genre</th>\n",
       "    </tr>\n",
       "  </thead>\n",
       "  <tbody>\n",
       "    <tr>\n",
       "      <th>312152</th>\n",
       "      <td>2</td>\n",
       "      <td>e8bee759-9efc-35c2-93d7-09ace9123467</td>\n",
       "      <td>Eclectic Electric</td>\n",
       "      <td>1</td>\n",
       "      <td>1186.0</td>\n",
       "      <td>2.0</td>\n",
       "      <td>acid rap</td>\n",
       "      <td>NaN</td>\n",
       "    </tr>\n",
       "    <tr>\n",
       "      <th>1</th>\n",
       "      <td>12</td>\n",
       "      <td>2b10653e-655d-34fe-9db4-77242d817a17</td>\n",
       "      <td>Chore of Enchantment</td>\n",
       "      <td>12</td>\n",
       "      <td>41017.0</td>\n",
       "      <td>2.0</td>\n",
       "      <td>alternative/indie rock</td>\n",
       "      <td>NaN</td>\n",
       "    </tr>\n",
       "    <tr>\n",
       "      <th>271</th>\n",
       "      <td>30</td>\n",
       "      <td>2c644807-3b5d-39d4-8c65-dec603bf3f3a</td>\n",
       "      <td>Let It Be</td>\n",
       "      <td>28</td>\n",
       "      <td>41017.0</td>\n",
       "      <td>1.0</td>\n",
       "      <td>alternative/indie rock</td>\n",
       "      <td>NaN</td>\n",
       "    </tr>\n",
       "    <tr>\n",
       "      <th>1089677</th>\n",
       "      <td>37</td>\n",
       "      <td>857c3dff-efec-387e-8e07-5b6bdb746afa</td>\n",
       "      <td>Liz Story</td>\n",
       "      <td>1097111</td>\n",
       "      <td>507.0</td>\n",
       "      <td>1.0</td>\n",
       "      <td>piano</td>\n",
       "      <td>NaN</td>\n",
       "    </tr>\n",
       "    <tr>\n",
       "      <th>33</th>\n",
       "      <td>421</td>\n",
       "      <td>d767a49e-dccc-3001-b1ff-5cc4c4ad5064</td>\n",
       "      <td>Baja Sessions</td>\n",
       "      <td>313</td>\n",
       "      <td>40899.0</td>\n",
       "      <td>2.0</td>\n",
       "      <td>rock &amp; roll</td>\n",
       "      <td>NaN</td>\n",
       "    </tr>\n",
       "  </tbody>\n",
       "</table>\n",
       "</div>"
      ],
      "text/plain": [
       "         group_id                            group_mbid    release_group_name  \\\n",
       "312152          2  e8bee759-9efc-35c2-93d7-09ace9123467     Eclectic Electric   \n",
       "1              12  2b10653e-655d-34fe-9db4-77242d817a17  Chore of Enchantment   \n",
       "271            30  2c644807-3b5d-39d4-8c65-dec603bf3f3a             Let It Be   \n",
       "1089677        37  857c3dff-efec-387e-8e07-5b6bdb746afa             Liz Story   \n",
       "33            421  d767a49e-dccc-3001-b1ff-5cc4c4ad5064         Baja Sessions   \n",
       "\n",
       "         artist_credit   tag_id  tag_counts                tag_name Main_genre  \n",
       "312152               1   1186.0         2.0                acid rap        NaN  \n",
       "1                   12  41017.0         2.0  alternative/indie rock        NaN  \n",
       "271                 28  41017.0         1.0  alternative/indie rock        NaN  \n",
       "1089677        1097111    507.0         1.0                   piano        NaN  \n",
       "33                 313  40899.0         2.0             rock & roll        NaN  "
      ]
     },
     "execution_count": 133,
     "metadata": {},
     "output_type": "execute_result"
    }
   ],
   "source": [
    "#Wah are the tag names that don't have a genre?\n",
    "genreless = release_group_genre[pd.notna(release_group_genre.tag_name) & pd.isnull(release_group_genre.Main_genre)]\n",
    "genreless.head()"
   ]
  },
  {
   "cell_type": "code",
   "execution_count": 134,
   "metadata": {},
   "outputs": [
    {
     "data": {
      "text/plain": [
       "52612"
      ]
     },
     "execution_count": 134,
     "metadata": {},
     "output_type": "execute_result"
    }
   ],
   "source": [
    "len(genreless)"
   ]
  },
  {
   "cell_type": "markdown",
   "metadata": {},
   "source": [
    "As we can see above, some of the tags that don't have a Main genre associated could be easily classified (for instance: \"alternative/indie rock\", or \"rock_indie rock\"). \n",
    "\n",
    "What I will do now is to group this genreless subset by tag_name, export it to a csv file and manually classify the tags I can, using the same criteria I did before."
   ]
  },
  {
   "cell_type": "code",
   "execution_count": 135,
   "metadata": {},
   "outputs": [],
   "source": [
    "genreless_grouped = genreless.groupby('tag_name').count().reset_index()[['tag_name','tag_counts','Main_genre']].copy()\n",
    "genreless_grouped.to_csv('genreless.csv', sep='\\t', index=None, encoding='utf-8')"
   ]
  },
  {
   "cell_type": "code",
   "execution_count": 136,
   "metadata": {},
   "outputs": [
    {
     "ename": "NameError",
     "evalue": "name 'release_genre' is not defined",
     "output_type": "error",
     "traceback": [
      "\u001b[0;31m---------------------------------------------------------------------------\u001b[0m",
      "\u001b[0;31mNameError\u001b[0m                                 Traceback (most recent call last)",
      "\u001b[0;32m<ipython-input-136-d97a2c3f3597>\u001b[0m in \u001b[0;36m<module>\u001b[0;34m\u001b[0m\n\u001b[0;32m----> 1\u001b[0;31m \u001b[0mtype\u001b[0m\u001b[0;34m(\u001b[0m\u001b[0mrelease_genre\u001b[0m\u001b[0;34m[\u001b[0m\u001b[0mrelease_genre\u001b[0m\u001b[0;34m[\u001b[0m\u001b[0;34m'release_id'\u001b[0m\u001b[0;34m]\u001b[0m\u001b[0;34m==\u001b[0m\u001b[0;36m8340\u001b[0m\u001b[0;34m]\u001b[0m\u001b[0;34m)\u001b[0m\u001b[0;34m\u001b[0m\u001b[0;34m\u001b[0m\u001b[0m\n\u001b[0m",
      "\u001b[0;31mNameError\u001b[0m: name 'release_genre' is not defined"
     ]
    }
   ],
   "source": [
    "type(release_genre[release_genre['release_id']==8340])"
   ]
  },
  {
   "cell_type": "code",
   "execution_count": null,
   "metadata": {},
   "outputs": [],
   "source": [
    "tags[tags['tag_id']==7]"
   ]
  },
  {
   "cell_type": "code",
   "execution_count": null,
   "metadata": {},
   "outputs": [],
   "source": [
    "tags[tags['tag_id']==40899]"
   ]
  },
  {
   "cell_type": "code",
   "execution_count": null,
   "metadata": {},
   "outputs": [],
   "source": [
    "tags[tags['tag_id']==714]"
   ]
  },
  {
   "cell_type": "code",
   "execution_count": null,
   "metadata": {},
   "outputs": [],
   "source": [
    "artist_tag = pd.read_csv('Musicbrainz/Tables_used/artist_tag.txt',sep='\\t', header=None, engine='c', usecols=[0,1,2])\n",
    "artist_tag.columns = ['artist_id','tag_id','tag_count']\n",
    "artist_tag.head()"
   ]
  },
  {
   "cell_type": "code",
   "execution_count": null,
   "metadata": {},
   "outputs": [],
   "source": []
  },
  {
   "cell_type": "code",
   "execution_count": null,
   "metadata": {},
   "outputs": [],
   "source": []
  },
  {
   "cell_type": "code",
   "execution_count": null,
   "metadata": {},
   "outputs": [],
   "source": []
  }
 ],
 "metadata": {
  "kernelspec": {
   "display_name": "Python 3",
   "language": "python",
   "name": "python3"
  },
  "language_info": {
   "codemirror_mode": {
    "name": "ipython",
    "version": 3
   },
   "file_extension": ".py",
   "mimetype": "text/x-python",
   "name": "python",
   "nbconvert_exporter": "python",
   "pygments_lexer": "ipython3",
   "version": "3.7.2"
  }
 },
 "nbformat": 4,
 "nbformat_minor": 2
}
