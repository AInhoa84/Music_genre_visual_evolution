{
 "cells": [
  {
   "cell_type": "markdown",
   "metadata": {},
   "source": [
    "# <font color=red>WIKIPEDIA ARTIST INFORMATION RETRIEVAL</font>"
   ]
  },
  {
   "cell_type": "markdown",
   "metadata": {},
   "source": [
    "This is an auxiliary notebook in which we will use the Wikipedia API to retrieve information about the artists whose origin and/or genre we weren't able to identify in our main notebooks."
   ]
  },
  {
   "cell_type": "code",
   "execution_count": 1,
   "metadata": {},
   "outputs": [],
   "source": [
    "import wikipedia #!pip install wikipedia in console first\n",
    "import requests\n",
    "import json\n",
    "import pandas as pd\n",
    "import numpy as np\n",
    "import warnings\n",
    "warnings.filterwarnings('ignore')\n",
    "import time\n",
    "import pycountry #!pip install pycountry in console\n",
    "from pygeocoder import Geocoder #If you want to follow the geocoding later, you will need your own Google Maps API key\n",
    "import tqdm\n",
    "import re"
   ]
  },
  {
   "cell_type": "markdown",
   "metadata": {},
   "source": [
    "We load the unknown_artist_origin dataframe that we had left from our notebook \"Data_gathering_releases_origin\":"
   ]
  },
  {
   "cell_type": "code",
   "execution_count": 96,
   "metadata": {},
   "outputs": [],
   "source": [
    "%run -i 'Wikipedia_script.py'"
   ]
  },
  {
   "cell_type": "code",
   "execution_count": 5,
   "metadata": {},
   "outputs": [
    {
     "data": {
      "text/plain": [
       "Index(['artist_id', 'artist_name'], dtype='object')"
      ]
     },
     "execution_count": 5,
     "metadata": {},
     "output_type": "execute_result"
    }
   ],
   "source": [
    "#Load data:\n",
    "data_1 = pd.read_csv('Data_out/unknown_artist_origin_2.csv',\\\n",
    "                     sep='\\t', header=0,usecols=[5, 6], encoding='utf-8')\n",
    "data_1.columns"
   ]
  },
  {
   "cell_type": "code",
   "execution_count": 6,
   "metadata": {},
   "outputs": [
    {
     "data": {
      "text/plain": [
       "483640"
      ]
     },
     "execution_count": 6,
     "metadata": {},
     "output_type": "execute_result"
    }
   ],
   "source": [
    "len(data_1)"
   ]
  },
  {
   "cell_type": "markdown",
   "metadata": {},
   "source": [
    "To see how many releases does each of the artists, we create a \"count\" column:"
   ]
  },
  {
   "cell_type": "code",
   "execution_count": 7,
   "metadata": {},
   "outputs": [
    {
     "data": {
      "text/html": [
       "<div>\n",
       "<style scoped>\n",
       "    .dataframe tbody tr th:only-of-type {\n",
       "        vertical-align: middle;\n",
       "    }\n",
       "\n",
       "    .dataframe tbody tr th {\n",
       "        vertical-align: top;\n",
       "    }\n",
       "\n",
       "    .dataframe thead th {\n",
       "        text-align: right;\n",
       "    }\n",
       "</style>\n",
       "<table border=\"1\" class=\"dataframe\">\n",
       "  <thead>\n",
       "    <tr style=\"text-align: right;\">\n",
       "      <th></th>\n",
       "      <th>artist_id</th>\n",
       "      <th>artist_name</th>\n",
       "      <th>count</th>\n",
       "    </tr>\n",
       "  </thead>\n",
       "  <tbody>\n",
       "    <tr>\n",
       "      <th>0</th>\n",
       "      <td>59115.0</td>\n",
       "      <td>Busted</td>\n",
       "      <td>1</td>\n",
       "    </tr>\n",
       "    <tr>\n",
       "      <th>1</th>\n",
       "      <td>59115.0</td>\n",
       "      <td>Busted</td>\n",
       "      <td>1</td>\n",
       "    </tr>\n",
       "    <tr>\n",
       "      <th>2</th>\n",
       "      <td>59115.0</td>\n",
       "      <td>Busted</td>\n",
       "      <td>1</td>\n",
       "    </tr>\n",
       "    <tr>\n",
       "      <th>3</th>\n",
       "      <td>59115.0</td>\n",
       "      <td>Busted</td>\n",
       "      <td>1</td>\n",
       "    </tr>\n",
       "    <tr>\n",
       "      <th>4</th>\n",
       "      <td>118094.0</td>\n",
       "      <td>Genie Nilsson and Troy Nilsson</td>\n",
       "      <td>1</td>\n",
       "    </tr>\n",
       "  </tbody>\n",
       "</table>\n",
       "</div>"
      ],
      "text/plain": [
       "   artist_id                     artist_name  count\n",
       "0    59115.0                          Busted      1\n",
       "1    59115.0                          Busted      1\n",
       "2    59115.0                          Busted      1\n",
       "3    59115.0                          Busted      1\n",
       "4   118094.0  Genie Nilsson and Troy Nilsson      1"
      ]
     },
     "execution_count": 7,
     "metadata": {},
     "output_type": "execute_result"
    }
   ],
   "source": [
    "data_1['count'] = 1\n",
    "data_1.head()"
   ]
  },
  {
   "cell_type": "code",
   "execution_count": 9,
   "metadata": {},
   "outputs": [
    {
     "data": {
      "text/html": [
       "<div>\n",
       "<style scoped>\n",
       "    .dataframe tbody tr th:only-of-type {\n",
       "        vertical-align: middle;\n",
       "    }\n",
       "\n",
       "    .dataframe tbody tr th {\n",
       "        vertical-align: top;\n",
       "    }\n",
       "\n",
       "    .dataframe thead th {\n",
       "        text-align: right;\n",
       "    }\n",
       "</style>\n",
       "<table border=\"1\" class=\"dataframe\">\n",
       "  <thead>\n",
       "    <tr style=\"text-align: right;\">\n",
       "      <th></th>\n",
       "      <th>artist_id</th>\n",
       "      <th>count</th>\n",
       "    </tr>\n",
       "  </thead>\n",
       "  <tbody>\n",
       "    <tr>\n",
       "      <th>82390</th>\n",
       "      <td>559517.0</td>\n",
       "      <td>267</td>\n",
       "    </tr>\n",
       "    <tr>\n",
       "      <th>2701</th>\n",
       "      <td>33800.0</td>\n",
       "      <td>260</td>\n",
       "    </tr>\n",
       "    <tr>\n",
       "      <th>82926</th>\n",
       "      <td>562672.0</td>\n",
       "      <td>249</td>\n",
       "    </tr>\n",
       "    <tr>\n",
       "      <th>11779</th>\n",
       "      <td>102893.0</td>\n",
       "      <td>244</td>\n",
       "    </tr>\n",
       "    <tr>\n",
       "      <th>73594</th>\n",
       "      <td>505638.0</td>\n",
       "      <td>233</td>\n",
       "    </tr>\n",
       "  </tbody>\n",
       "</table>\n",
       "</div>"
      ],
      "text/plain": [
       "       artist_id  count\n",
       "82390   559517.0    267\n",
       "2701     33800.0    260\n",
       "82926   562672.0    249\n",
       "11779   102893.0    244\n",
       "73594   505638.0    233"
      ]
     },
     "execution_count": 9,
     "metadata": {},
     "output_type": "execute_result"
    }
   ],
   "source": [
    "#We can now group by count:\n",
    "count = data_1[['artist_id', 'count']].groupby(by='artist_id').sum()\n",
    "count.reset_index(drop=False, inplace=True)\n",
    "count.sort_values(by='count', ascending=False, inplace=True)\n",
    "count.head()"
   ]
  },
  {
   "cell_type": "code",
   "execution_count": 10,
   "metadata": {},
   "outputs": [
    {
     "data": {
      "text/html": [
       "<div>\n",
       "<style scoped>\n",
       "    .dataframe tbody tr th:only-of-type {\n",
       "        vertical-align: middle;\n",
       "    }\n",
       "\n",
       "    .dataframe tbody tr th {\n",
       "        vertical-align: top;\n",
       "    }\n",
       "\n",
       "    .dataframe thead th {\n",
       "        text-align: right;\n",
       "    }\n",
       "</style>\n",
       "<table border=\"1\" class=\"dataframe\">\n",
       "  <thead>\n",
       "    <tr style=\"text-align: right;\">\n",
       "      <th></th>\n",
       "      <th>artist_id</th>\n",
       "      <th>count</th>\n",
       "      <th>artist_name</th>\n",
       "    </tr>\n",
       "  </thead>\n",
       "  <tbody>\n",
       "    <tr>\n",
       "      <th>0</th>\n",
       "      <td>559517.0</td>\n",
       "      <td>267</td>\n",
       "      <td>The Cherry Blues Project</td>\n",
       "    </tr>\n",
       "    <tr>\n",
       "      <th>267</th>\n",
       "      <td>33800.0</td>\n",
       "      <td>260</td>\n",
       "      <td>Duke Ellington &amp; His Orchestra</td>\n",
       "    </tr>\n",
       "    <tr>\n",
       "      <th>527</th>\n",
       "      <td>562672.0</td>\n",
       "      <td>249</td>\n",
       "      <td>Vitamin String Quartet</td>\n",
       "    </tr>\n",
       "    <tr>\n",
       "      <th>776</th>\n",
       "      <td>102893.0</td>\n",
       "      <td>244</td>\n",
       "      <td>Die drei ???</td>\n",
       "    </tr>\n",
       "    <tr>\n",
       "      <th>1020</th>\n",
       "      <td>505638.0</td>\n",
       "      <td>233</td>\n",
       "      <td>Senmuth</td>\n",
       "    </tr>\n",
       "    <tr>\n",
       "      <th>1253</th>\n",
       "      <td>41636.0</td>\n",
       "      <td>215</td>\n",
       "      <td>モーニング娘。</td>\n",
       "    </tr>\n",
       "    <tr>\n",
       "      <th>1468</th>\n",
       "      <td>118813.0</td>\n",
       "      <td>211</td>\n",
       "      <td>Stefan Wolf</td>\n",
       "    </tr>\n",
       "    <tr>\n",
       "      <th>1679</th>\n",
       "      <td>647066.0</td>\n",
       "      <td>200</td>\n",
       "      <td>Glee Cast</td>\n",
       "    </tr>\n",
       "    <tr>\n",
       "      <th>1879</th>\n",
       "      <td>1.0</td>\n",
       "      <td>188</td>\n",
       "      <td>Artistes variés</td>\n",
       "    </tr>\n",
       "    <tr>\n",
       "      <th>2067</th>\n",
       "      <td>1127509.0</td>\n",
       "      <td>180</td>\n",
       "      <td>Dwelling of Duels</td>\n",
       "    </tr>\n",
       "    <tr>\n",
       "      <th>2247</th>\n",
       "      <td>210784.0</td>\n",
       "      <td>166</td>\n",
       "      <td>THE ALFEE</td>\n",
       "    </tr>\n",
       "    <tr>\n",
       "      <th>2413</th>\n",
       "      <td>618288.0</td>\n",
       "      <td>164</td>\n",
       "      <td>Enid Blyton</td>\n",
       "    </tr>\n",
       "    <tr>\n",
       "      <th>2577</th>\n",
       "      <td>57991.0</td>\n",
       "      <td>157</td>\n",
       "      <td>101 Strings Orchestra</td>\n",
       "    </tr>\n",
       "    <tr>\n",
       "      <th>2734</th>\n",
       "      <td>432637.0</td>\n",
       "      <td>139</td>\n",
       "      <td>TAMUSIC</td>\n",
       "    </tr>\n",
       "    <tr>\n",
       "      <th>2873</th>\n",
       "      <td>368737.0</td>\n",
       "      <td>126</td>\n",
       "      <td>Pritam</td>\n",
       "    </tr>\n",
       "    <tr>\n",
       "      <th>2999</th>\n",
       "      <td>247354.0</td>\n",
       "      <td>126</td>\n",
       "      <td>Benny Goodman and His Orchestra</td>\n",
       "    </tr>\n",
       "    <tr>\n",
       "      <th>3125</th>\n",
       "      <td>65273.0</td>\n",
       "      <td>126</td>\n",
       "      <td>Falcom Sound Team jdk</td>\n",
       "    </tr>\n",
       "    <tr>\n",
       "      <th>3251</th>\n",
       "      <td>9617.0</td>\n",
       "      <td>120</td>\n",
       "      <td>Léo Ferré</td>\n",
       "    </tr>\n",
       "    <tr>\n",
       "      <th>3371</th>\n",
       "      <td>524811.0</td>\n",
       "      <td>118</td>\n",
       "      <td>Peerless Orchestra</td>\n",
       "    </tr>\n",
       "    <tr>\n",
       "      <th>3489</th>\n",
       "      <td>104.0</td>\n",
       "      <td>117</td>\n",
       "      <td>[Disney]</td>\n",
       "    </tr>\n",
       "  </tbody>\n",
       "</table>\n",
       "</div>"
      ],
      "text/plain": [
       "      artist_id  count                      artist_name\n",
       "0      559517.0    267         The Cherry Blues Project\n",
       "267     33800.0    260   Duke Ellington & His Orchestra\n",
       "527    562672.0    249           Vitamin String Quartet\n",
       "776    102893.0    244                     Die drei ???\n",
       "1020   505638.0    233                          Senmuth\n",
       "1253    41636.0    215                          モーニング娘。\n",
       "1468   118813.0    211                      Stefan Wolf\n",
       "1679   647066.0    200                        Glee Cast\n",
       "1879        1.0    188                  Artistes variés\n",
       "2067  1127509.0    180                Dwelling of Duels\n",
       "2247   210784.0    166                        THE ALFEE\n",
       "2413   618288.0    164                      Enid Blyton\n",
       "2577    57991.0    157            101 Strings Orchestra\n",
       "2734   432637.0    139                          TAMUSIC\n",
       "2873   368737.0    126                           Pritam\n",
       "2999   247354.0    126  Benny Goodman and His Orchestra\n",
       "3125    65273.0    126            Falcom Sound Team jdk\n",
       "3251     9617.0    120                        Léo Ferré\n",
       "3371   524811.0    118               Peerless Orchestra\n",
       "3489      104.0    117                         [Disney]"
      ]
     },
     "execution_count": 10,
     "metadata": {},
     "output_type": "execute_result"
    }
   ],
   "source": [
    "#And input the artist names:\n",
    "artists_sorted = pd.merge(count, data_1[['artist_id','artist_name']], how='left', on='artist_id')\n",
    "artists_sorted.drop_duplicates(subset='artist_id', keep='first', inplace=True)\n",
    "artists_sorted.head(20)"
   ]
  },
  {
   "cell_type": "markdown",
   "metadata": {},
   "source": [
    "For the foreign names, we need to get a new column from the Musicbrainz table \"artist\":"
   ]
  },
  {
   "cell_type": "code",
   "execution_count": 11,
   "metadata": {},
   "outputs": [
    {
     "data": {
      "text/html": [
       "<div>\n",
       "<style scoped>\n",
       "    .dataframe tbody tr th:only-of-type {\n",
       "        vertical-align: middle;\n",
       "    }\n",
       "\n",
       "    .dataframe tbody tr th {\n",
       "        vertical-align: top;\n",
       "    }\n",
       "\n",
       "    .dataframe thead th {\n",
       "        text-align: right;\n",
       "    }\n",
       "</style>\n",
       "<table border=\"1\" class=\"dataframe\">\n",
       "  <thead>\n",
       "    <tr style=\"text-align: right;\">\n",
       "      <th></th>\n",
       "      <th>artist_id</th>\n",
       "      <th>artist_name</th>\n",
       "    </tr>\n",
       "  </thead>\n",
       "  <tbody>\n",
       "    <tr>\n",
       "      <th>0</th>\n",
       "      <td>805192</td>\n",
       "      <td>WIK▲N</td>\n",
       "    </tr>\n",
       "    <tr>\n",
       "      <th>1</th>\n",
       "      <td>371203</td>\n",
       "      <td>Moutso, Pete</td>\n",
       "    </tr>\n",
       "    <tr>\n",
       "      <th>2</th>\n",
       "      <td>273232</td>\n",
       "      <td>Zachary</td>\n",
       "    </tr>\n",
       "    <tr>\n",
       "      <th>3</th>\n",
       "      <td>101060</td>\n",
       "      <td>Silhouettes, The</td>\n",
       "    </tr>\n",
       "    <tr>\n",
       "      <th>4</th>\n",
       "      <td>145773</td>\n",
       "      <td>Leavitt, Aric</td>\n",
       "    </tr>\n",
       "  </tbody>\n",
       "</table>\n",
       "</div>"
      ],
      "text/plain": [
       "   artist_id       artist_name\n",
       "0     805192             WIK▲N\n",
       "1     371203      Moutso, Pete\n",
       "2     273232           Zachary\n",
       "3     101060  Silhouettes, The\n",
       "4     145773     Leavitt, Aric"
      ]
     },
     "execution_count": 11,
     "metadata": {},
     "output_type": "execute_result"
    }
   ],
   "source": [
    "names = pd.read_csv('Data_in/Musicbrainz/artist.txt', \\\n",
    "                    sep='\\t', header=None, engine='c', usecols=[0,3])\n",
    "names.columns = ['artist_id','artist_name']\n",
    "names.head()"
   ]
  },
  {
   "cell_type": "code",
   "execution_count": 12,
   "metadata": {},
   "outputs": [
    {
     "data": {
      "text/html": [
       "<div>\n",
       "<style scoped>\n",
       "    .dataframe tbody tr th:only-of-type {\n",
       "        vertical-align: middle;\n",
       "    }\n",
       "\n",
       "    .dataframe tbody tr th {\n",
       "        vertical-align: top;\n",
       "    }\n",
       "\n",
       "    .dataframe thead th {\n",
       "        text-align: right;\n",
       "    }\n",
       "</style>\n",
       "<table border=\"1\" class=\"dataframe\">\n",
       "  <thead>\n",
       "    <tr style=\"text-align: right;\">\n",
       "      <th></th>\n",
       "      <th>artist_id</th>\n",
       "      <th>count</th>\n",
       "      <th>artist_name_x</th>\n",
       "      <th>artist_name_y</th>\n",
       "    </tr>\n",
       "  </thead>\n",
       "  <tbody>\n",
       "    <tr>\n",
       "      <th>0</th>\n",
       "      <td>559517.0</td>\n",
       "      <td>267</td>\n",
       "      <td>The Cherry Blues Project</td>\n",
       "      <td>Cherry Blues Project, The</td>\n",
       "    </tr>\n",
       "    <tr>\n",
       "      <th>1</th>\n",
       "      <td>33800.0</td>\n",
       "      <td>260</td>\n",
       "      <td>Duke Ellington &amp; His Orchestra</td>\n",
       "      <td>Ellington, Duke &amp; His Orchestra</td>\n",
       "    </tr>\n",
       "    <tr>\n",
       "      <th>2</th>\n",
       "      <td>562672.0</td>\n",
       "      <td>249</td>\n",
       "      <td>Vitamin String Quartet</td>\n",
       "      <td>Vitamin String Quartet</td>\n",
       "    </tr>\n",
       "    <tr>\n",
       "      <th>3</th>\n",
       "      <td>102893.0</td>\n",
       "      <td>244</td>\n",
       "      <td>Die drei ???</td>\n",
       "      <td>drei ???, Die</td>\n",
       "    </tr>\n",
       "    <tr>\n",
       "      <th>4</th>\n",
       "      <td>505638.0</td>\n",
       "      <td>233</td>\n",
       "      <td>Senmuth</td>\n",
       "      <td>Senmuth</td>\n",
       "    </tr>\n",
       "    <tr>\n",
       "      <th>5</th>\n",
       "      <td>41636.0</td>\n",
       "      <td>215</td>\n",
       "      <td>モーニング娘。</td>\n",
       "      <td>Morning Musume.</td>\n",
       "    </tr>\n",
       "    <tr>\n",
       "      <th>6</th>\n",
       "      <td>118813.0</td>\n",
       "      <td>211</td>\n",
       "      <td>Stefan Wolf</td>\n",
       "      <td>Wolf, Stefan</td>\n",
       "    </tr>\n",
       "    <tr>\n",
       "      <th>7</th>\n",
       "      <td>647066.0</td>\n",
       "      <td>200</td>\n",
       "      <td>Glee Cast</td>\n",
       "      <td>Glee Cast</td>\n",
       "    </tr>\n",
       "    <tr>\n",
       "      <th>8</th>\n",
       "      <td>1.0</td>\n",
       "      <td>188</td>\n",
       "      <td>Artistes variés</td>\n",
       "      <td>Various Artists</td>\n",
       "    </tr>\n",
       "    <tr>\n",
       "      <th>9</th>\n",
       "      <td>1127509.0</td>\n",
       "      <td>180</td>\n",
       "      <td>Dwelling of Duels</td>\n",
       "      <td>Dwelling of Duels</td>\n",
       "    </tr>\n",
       "    <tr>\n",
       "      <th>10</th>\n",
       "      <td>210784.0</td>\n",
       "      <td>166</td>\n",
       "      <td>THE ALFEE</td>\n",
       "      <td>Alfee, The</td>\n",
       "    </tr>\n",
       "    <tr>\n",
       "      <th>11</th>\n",
       "      <td>618288.0</td>\n",
       "      <td>164</td>\n",
       "      <td>Enid Blyton</td>\n",
       "      <td>Blyton, Enid</td>\n",
       "    </tr>\n",
       "    <tr>\n",
       "      <th>12</th>\n",
       "      <td>57991.0</td>\n",
       "      <td>157</td>\n",
       "      <td>101 Strings Orchestra</td>\n",
       "      <td>101 Strings</td>\n",
       "    </tr>\n",
       "    <tr>\n",
       "      <th>13</th>\n",
       "      <td>432637.0</td>\n",
       "      <td>139</td>\n",
       "      <td>TAMUSIC</td>\n",
       "      <td>TAMUSIC</td>\n",
       "    </tr>\n",
       "    <tr>\n",
       "      <th>14</th>\n",
       "      <td>368737.0</td>\n",
       "      <td>126</td>\n",
       "      <td>Pritam</td>\n",
       "      <td>Pritam</td>\n",
       "    </tr>\n",
       "    <tr>\n",
       "      <th>15</th>\n",
       "      <td>247354.0</td>\n",
       "      <td>126</td>\n",
       "      <td>Benny Goodman and His Orchestra</td>\n",
       "      <td>Goodman, Benny and His Orchestra</td>\n",
       "    </tr>\n",
       "    <tr>\n",
       "      <th>16</th>\n",
       "      <td>65273.0</td>\n",
       "      <td>126</td>\n",
       "      <td>Falcom Sound Team jdk</td>\n",
       "      <td>Falcom Sound Team jdk</td>\n",
       "    </tr>\n",
       "    <tr>\n",
       "      <th>17</th>\n",
       "      <td>9617.0</td>\n",
       "      <td>120</td>\n",
       "      <td>Léo Ferré</td>\n",
       "      <td>Ferré, Léo</td>\n",
       "    </tr>\n",
       "    <tr>\n",
       "      <th>18</th>\n",
       "      <td>524811.0</td>\n",
       "      <td>118</td>\n",
       "      <td>Peerless Orchestra</td>\n",
       "      <td>Peerless Orchestra</td>\n",
       "    </tr>\n",
       "    <tr>\n",
       "      <th>19</th>\n",
       "      <td>104.0</td>\n",
       "      <td>117</td>\n",
       "      <td>[Disney]</td>\n",
       "      <td>[Disney]</td>\n",
       "    </tr>\n",
       "  </tbody>\n",
       "</table>\n",
       "</div>"
      ],
      "text/plain": [
       "    artist_id  count                    artist_name_x  \\\n",
       "0    559517.0    267         The Cherry Blues Project   \n",
       "1     33800.0    260   Duke Ellington & His Orchestra   \n",
       "2    562672.0    249           Vitamin String Quartet   \n",
       "3    102893.0    244                     Die drei ???   \n",
       "4    505638.0    233                          Senmuth   \n",
       "5     41636.0    215                          モーニング娘。   \n",
       "6    118813.0    211                      Stefan Wolf   \n",
       "7    647066.0    200                        Glee Cast   \n",
       "8         1.0    188                  Artistes variés   \n",
       "9   1127509.0    180                Dwelling of Duels   \n",
       "10   210784.0    166                        THE ALFEE   \n",
       "11   618288.0    164                      Enid Blyton   \n",
       "12    57991.0    157            101 Strings Orchestra   \n",
       "13   432637.0    139                          TAMUSIC   \n",
       "14   368737.0    126                           Pritam   \n",
       "15   247354.0    126  Benny Goodman and His Orchestra   \n",
       "16    65273.0    126            Falcom Sound Team jdk   \n",
       "17     9617.0    120                        Léo Ferré   \n",
       "18   524811.0    118               Peerless Orchestra   \n",
       "19      104.0    117                         [Disney]   \n",
       "\n",
       "                       artist_name_y  \n",
       "0          Cherry Blues Project, The  \n",
       "1    Ellington, Duke & His Orchestra  \n",
       "2             Vitamin String Quartet  \n",
       "3                      drei ???, Die  \n",
       "4                            Senmuth  \n",
       "5                    Morning Musume.  \n",
       "6                       Wolf, Stefan  \n",
       "7                          Glee Cast  \n",
       "8                    Various Artists  \n",
       "9                  Dwelling of Duels  \n",
       "10                        Alfee, The  \n",
       "11                      Blyton, Enid  \n",
       "12                       101 Strings  \n",
       "13                           TAMUSIC  \n",
       "14                            Pritam  \n",
       "15  Goodman, Benny and His Orchestra  \n",
       "16             Falcom Sound Team jdk  \n",
       "17                        Ferré, Léo  \n",
       "18                Peerless Orchestra  \n",
       "19                          [Disney]  "
      ]
     },
     "execution_count": 12,
     "metadata": {},
     "output_type": "execute_result"
    }
   ],
   "source": [
    "#Bring that information into our previous dataframe:\n",
    "artists_names = pd.merge(artists_sorted, names, how='left', on='artist_id')\n",
    "artists_names.head(20)"
   ]
  },
  {
   "cell_type": "code",
   "execution_count": 14,
   "metadata": {},
   "outputs": [
    {
     "data": {
      "text/html": [
       "<div>\n",
       "<style scoped>\n",
       "    .dataframe tbody tr th:only-of-type {\n",
       "        vertical-align: middle;\n",
       "    }\n",
       "\n",
       "    .dataframe tbody tr th {\n",
       "        vertical-align: top;\n",
       "    }\n",
       "\n",
       "    .dataframe thead th {\n",
       "        text-align: right;\n",
       "    }\n",
       "</style>\n",
       "<table border=\"1\" class=\"dataframe\">\n",
       "  <thead>\n",
       "    <tr style=\"text-align: right;\">\n",
       "      <th></th>\n",
       "      <th>artist_id</th>\n",
       "      <th>count</th>\n",
       "      <th>artist_name_x</th>\n",
       "      <th>artist_name_y</th>\n",
       "      <th>artist_name</th>\n",
       "    </tr>\n",
       "  </thead>\n",
       "  <tbody>\n",
       "    <tr>\n",
       "      <th>0</th>\n",
       "      <td>559517.0</td>\n",
       "      <td>267</td>\n",
       "      <td>The Cherry Blues Project</td>\n",
       "      <td>Cherry Blues Project, The</td>\n",
       "      <td>Cherry Blues Project  The</td>\n",
       "    </tr>\n",
       "    <tr>\n",
       "      <th>1</th>\n",
       "      <td>33800.0</td>\n",
       "      <td>260</td>\n",
       "      <td>Duke Ellington &amp; His Orchestra</td>\n",
       "      <td>Ellington, Duke &amp; His Orchestra</td>\n",
       "      <td>Ellington  Duke   His Orchestra</td>\n",
       "    </tr>\n",
       "    <tr>\n",
       "      <th>2</th>\n",
       "      <td>562672.0</td>\n",
       "      <td>249</td>\n",
       "      <td>Vitamin String Quartet</td>\n",
       "      <td>Vitamin String Quartet</td>\n",
       "      <td>Vitamin String Quartet</td>\n",
       "    </tr>\n",
       "    <tr>\n",
       "      <th>3</th>\n",
       "      <td>102893.0</td>\n",
       "      <td>244</td>\n",
       "      <td>Die drei ???</td>\n",
       "      <td>drei ???, Die</td>\n",
       "      <td>drei      Die</td>\n",
       "    </tr>\n",
       "    <tr>\n",
       "      <th>4</th>\n",
       "      <td>505638.0</td>\n",
       "      <td>233</td>\n",
       "      <td>Senmuth</td>\n",
       "      <td>Senmuth</td>\n",
       "      <td>Senmuth</td>\n",
       "    </tr>\n",
       "  </tbody>\n",
       "</table>\n",
       "</div>"
      ],
      "text/plain": [
       "   artist_id  count                   artist_name_x  \\\n",
       "0   559517.0    267        The Cherry Blues Project   \n",
       "1    33800.0    260  Duke Ellington & His Orchestra   \n",
       "2   562672.0    249          Vitamin String Quartet   \n",
       "3   102893.0    244                    Die drei ???   \n",
       "4   505638.0    233                         Senmuth   \n",
       "\n",
       "                     artist_name_y                      artist_name  \n",
       "0        Cherry Blues Project, The        Cherry Blues Project  The  \n",
       "1  Ellington, Duke & His Orchestra  Ellington  Duke   His Orchestra  \n",
       "2           Vitamin String Quartet           Vitamin String Quartet  \n",
       "3                    drei ???, Die                    drei      Die  \n",
       "4                          Senmuth                          Senmuth  "
      ]
     },
     "execution_count": 14,
     "metadata": {},
     "output_type": "execute_result"
    }
   ],
   "source": [
    "#We remove the punctuation:\n",
    "artists_names['artist_name'] = artists_names['artist_name_y'].apply(lambda x: \\\n",
    "                                                                     re.sub(r\"[^\\w ]\", \" \", str(x), 0, re.MULTILINE))\n",
    "artists_names.head()"
   ]
  },
  {
   "cell_type": "code",
   "execution_count": 15,
   "metadata": {},
   "outputs": [
    {
     "data": {
      "text/html": [
       "<div>\n",
       "<style scoped>\n",
       "    .dataframe tbody tr th:only-of-type {\n",
       "        vertical-align: middle;\n",
       "    }\n",
       "\n",
       "    .dataframe tbody tr th {\n",
       "        vertical-align: top;\n",
       "    }\n",
       "\n",
       "    .dataframe thead th {\n",
       "        text-align: right;\n",
       "    }\n",
       "</style>\n",
       "<table border=\"1\" class=\"dataframe\">\n",
       "  <thead>\n",
       "    <tr style=\"text-align: right;\">\n",
       "      <th></th>\n",
       "      <th>artist_id</th>\n",
       "      <th>count</th>\n",
       "      <th>artist_name_x</th>\n",
       "      <th>artist_name_y</th>\n",
       "      <th>artist_name</th>\n",
       "      <th>name_formatted</th>\n",
       "    </tr>\n",
       "  </thead>\n",
       "  <tbody>\n",
       "    <tr>\n",
       "      <th>0</th>\n",
       "      <td>559517.0</td>\n",
       "      <td>267</td>\n",
       "      <td>The Cherry Blues Project</td>\n",
       "      <td>Cherry Blues Project, The</td>\n",
       "      <td>Cherry Blues Project  The</td>\n",
       "      <td>Cherry Blues Project  The</td>\n",
       "    </tr>\n",
       "    <tr>\n",
       "      <th>1</th>\n",
       "      <td>33800.0</td>\n",
       "      <td>260</td>\n",
       "      <td>Duke Ellington &amp; His Orchestra</td>\n",
       "      <td>Ellington, Duke &amp; His Orchestra</td>\n",
       "      <td>Ellington  Duke   His Orchestra</td>\n",
       "      <td>Ellington  Duke   His Orchestra</td>\n",
       "    </tr>\n",
       "    <tr>\n",
       "      <th>2</th>\n",
       "      <td>562672.0</td>\n",
       "      <td>249</td>\n",
       "      <td>Vitamin String Quartet</td>\n",
       "      <td>Vitamin String Quartet</td>\n",
       "      <td>Vitamin String Quartet</td>\n",
       "      <td>Vitamin String Quartet</td>\n",
       "    </tr>\n",
       "    <tr>\n",
       "      <th>3</th>\n",
       "      <td>102893.0</td>\n",
       "      <td>244</td>\n",
       "      <td>Die drei ???</td>\n",
       "      <td>drei ???, Die</td>\n",
       "      <td>drei      Die</td>\n",
       "      <td>drei      Die</td>\n",
       "    </tr>\n",
       "    <tr>\n",
       "      <th>4</th>\n",
       "      <td>505638.0</td>\n",
       "      <td>233</td>\n",
       "      <td>Senmuth</td>\n",
       "      <td>Senmuth</td>\n",
       "      <td>Senmuth</td>\n",
       "      <td>Senmuth</td>\n",
       "    </tr>\n",
       "  </tbody>\n",
       "</table>\n",
       "</div>"
      ],
      "text/plain": [
       "   artist_id  count                   artist_name_x  \\\n",
       "0   559517.0    267        The Cherry Blues Project   \n",
       "1    33800.0    260  Duke Ellington & His Orchestra   \n",
       "2   562672.0    249          Vitamin String Quartet   \n",
       "3   102893.0    244                    Die drei ???   \n",
       "4   505638.0    233                         Senmuth   \n",
       "\n",
       "                     artist_name_y                      artist_name  \\\n",
       "0        Cherry Blues Project, The        Cherry Blues Project  The   \n",
       "1  Ellington, Duke & His Orchestra  Ellington  Duke   His Orchestra   \n",
       "2           Vitamin String Quartet           Vitamin String Quartet   \n",
       "3                    drei ???, Die                    drei      Die   \n",
       "4                          Senmuth                          Senmuth   \n",
       "\n",
       "                    name_formatted  \n",
       "0        Cherry Blues Project  The  \n",
       "1  Ellington  Duke   His Orchestra  \n",
       "2           Vitamin String Quartet  \n",
       "3                    drei      Die  \n",
       "4                          Senmuth  "
      ]
     },
     "execution_count": 15,
     "metadata": {},
     "output_type": "execute_result"
    }
   ],
   "source": [
    "#And we reverse the order of \"artist_name\":\n",
    "artists_names['name_formatted'] = artists_names['artist_name'].apply(lambda x: reverse(str(x)))\n",
    "artists_names.head()"
   ]
  },
  {
   "cell_type": "code",
   "execution_count": 16,
   "metadata": {},
   "outputs": [],
   "source": [
    "artists_names.drop(labels=['artist_name_x', 'artist_name_y','artist_name'], axis=1, inplace=True)"
   ]
  },
  {
   "cell_type": "code",
   "execution_count": 17,
   "metadata": {},
   "outputs": [
    {
     "data": {
      "text/plain": [
       "214130"
      ]
     },
     "execution_count": 17,
     "metadata": {},
     "output_type": "execute_result"
    }
   ],
   "source": [
    "len(artists_names)"
   ]
  },
  {
   "cell_type": "markdown",
   "metadata": {},
   "source": [
    "In the following two lines, what I did was to split the artists_names dataframe into chunks and retrieve metadata for each chunk. \n",
    "\n",
    "Please note that each chunk takes between 14 and 25 to run, so it took more than 50h to complete all the chunks.\n",
    "\n",
    "I have attached the chunks completed to the repo, so that we have the info available at all times."
   ]
  },
  {
   "cell_type": "code",
   "execution_count": 16,
   "metadata": {
    "scrolled": false
   },
   "outputs": [],
   "source": [
    "#splitdf_1st(artists_names)"
   ]
  },
  {
   "cell_type": "code",
   "execution_count": 17,
   "metadata": {},
   "outputs": [],
   "source": [
    "#retrieve_metadata_first_round(0,297)"
   ]
  },
  {
   "cell_type": "markdown",
   "metadata": {},
   "source": [
    "### Importing all the retrieved information"
   ]
  },
  {
   "cell_type": "code",
   "execution_count": 22,
   "metadata": {},
   "outputs": [
    {
     "name": "stderr",
     "output_type": "stream",
     "text": [
      "100%|██████████| 296/296 [00:04<00:00, 65.99it/s] \n"
     ]
    }
   ],
   "source": [
    "concat_chunks_first_round(0,297)"
   ]
  },
  {
   "cell_type": "code",
   "execution_count": 23,
   "metadata": {},
   "outputs": [
    {
     "data": {
      "text/html": [
       "<div>\n",
       "<style scoped>\n",
       "    .dataframe tbody tr th:only-of-type {\n",
       "        vertical-align: middle;\n",
       "    }\n",
       "\n",
       "    .dataframe tbody tr th {\n",
       "        vertical-align: top;\n",
       "    }\n",
       "\n",
       "    .dataframe thead th {\n",
       "        text-align: right;\n",
       "    }\n",
       "</style>\n",
       "<table border=\"1\" class=\"dataframe\">\n",
       "  <thead>\n",
       "    <tr style=\"text-align: right;\">\n",
       "      <th></th>\n",
       "      <th>artist_id</th>\n",
       "      <th>count</th>\n",
       "      <th>name_formatted</th>\n",
       "      <th>birth_place</th>\n",
       "      <th>genre</th>\n",
       "    </tr>\n",
       "  </thead>\n",
       "  <tbody>\n",
       "    <tr>\n",
       "      <th>0</th>\n",
       "      <td>88814.0</td>\n",
       "      <td>298</td>\n",
       "      <td>Arthur Francis Collins</td>\n",
       "      <td>NaN</td>\n",
       "      <td>REDIRECT [[Arthur Collins (singer)</td>\n",
       "    </tr>\n",
       "    <tr>\n",
       "      <th>1</th>\n",
       "      <td>559517.0</td>\n",
       "      <td>267</td>\n",
       "      <td>The Cherry Blues Project</td>\n",
       "      <td>NaN</td>\n",
       "      <td>NaN</td>\n",
       "    </tr>\n",
       "    <tr>\n",
       "      <th>2</th>\n",
       "      <td>33800.0</td>\n",
       "      <td>260</td>\n",
       "      <td>Duke &amp; His Orchestra Ellington</td>\n",
       "      <td>NaN</td>\n",
       "      <td>NaN</td>\n",
       "    </tr>\n",
       "    <tr>\n",
       "      <th>3</th>\n",
       "      <td>562672.0</td>\n",
       "      <td>249</td>\n",
       "      <td>Vitamin String Quartet</td>\n",
       "      <td>[[Los Angeles, California]], United States</td>\n",
       "      <td>Rock music|Rock</td>\n",
       "    </tr>\n",
       "    <tr>\n",
       "      <th>4</th>\n",
       "      <td>102893.0</td>\n",
       "      <td>244</td>\n",
       "      <td>Die drei ???</td>\n",
       "      <td>NaN</td>\n",
       "      <td>NaN</td>\n",
       "    </tr>\n",
       "  </tbody>\n",
       "</table>\n",
       "</div>"
      ],
      "text/plain": [
       "   artist_id  count                  name_formatted  \\\n",
       "0    88814.0    298          Arthur Francis Collins   \n",
       "1   559517.0    267        The Cherry Blues Project   \n",
       "2    33800.0    260  Duke & His Orchestra Ellington   \n",
       "3   562672.0    249          Vitamin String Quartet   \n",
       "4   102893.0    244                    Die drei ???   \n",
       "\n",
       "                                  birth_place  \\\n",
       "0                                         NaN   \n",
       "1                                         NaN   \n",
       "2                                         NaN   \n",
       "3  [[Los Angeles, California]], United States   \n",
       "4                                         NaN   \n",
       "\n",
       "                                genre  \n",
       "0  REDIRECT [[Arthur Collins (singer)  \n",
       "1                                 NaN  \n",
       "2                                 NaN  \n",
       "3                     Rock music|Rock  \n",
       "4                                 NaN  "
      ]
     },
     "execution_count": 23,
     "metadata": {},
     "output_type": "execute_result"
    }
   ],
   "source": [
    "df = pd.read_csv('Data_out/Wikipedia_chunks_all_first_round.csv', sep='\\t', header=0, encoding='utf-8')\n",
    "df.head()"
   ]
  },
  {
   "cell_type": "code",
   "execution_count": 24,
   "metadata": {},
   "outputs": [
    {
     "data": {
      "text/plain": [
       "296177"
      ]
     },
     "execution_count": 24,
     "metadata": {},
     "output_type": "execute_result"
    }
   ],
   "source": [
    "len(df)"
   ]
  },
  {
   "cell_type": "code",
   "execution_count": 25,
   "metadata": {},
   "outputs": [
    {
     "data": {
      "text/plain": [
       "artist_id         float64\n",
       "count               int64\n",
       "name_formatted     object\n",
       "birth_place        object\n",
       "genre              object\n",
       "dtype: object"
      ]
     },
     "execution_count": 25,
     "metadata": {},
     "output_type": "execute_result"
    }
   ],
   "source": [
    "df.dtypes"
   ]
  },
  {
   "cell_type": "markdown",
   "metadata": {},
   "source": [
    "### 1) Geographical data\n",
    "\n",
    "The artists for which we didn't have the origin are in data_1. We will retrieve only the origin for the artist_id contained in that dataframe:"
   ]
  },
  {
   "cell_type": "code",
   "execution_count": 26,
   "metadata": {},
   "outputs": [
    {
     "data": {
      "text/plain": [
       "214131"
      ]
     },
     "execution_count": 26,
     "metadata": {},
     "output_type": "execute_result"
    }
   ],
   "source": [
    "#How many artists are there?\n",
    "data_1.drop_duplicates(subset='artist_id', keep='first', inplace=True)\n",
    "len(data_1)"
   ]
  },
  {
   "cell_type": "code",
   "execution_count": 27,
   "metadata": {},
   "outputs": [],
   "source": [
    "#We keep the artist_id's in a list:\n",
    "pending_origin = data_1.artist_id.values.tolist()"
   ]
  },
  {
   "cell_type": "code",
   "execution_count": 28,
   "metadata": {},
   "outputs": [
    {
     "data": {
      "text/plain": [
       "214104"
      ]
     },
     "execution_count": 28,
     "metadata": {},
     "output_type": "execute_result"
    }
   ],
   "source": [
    "retrieved_origin = df[df['artist_id'].isin(pending_origin)]\n",
    "len(retrieved_origin)"
   ]
  },
  {
   "cell_type": "code",
   "execution_count": 29,
   "metadata": {},
   "outputs": [
    {
     "data": {
      "text/html": [
       "<div>\n",
       "<style scoped>\n",
       "    .dataframe tbody tr th:only-of-type {\n",
       "        vertical-align: middle;\n",
       "    }\n",
       "\n",
       "    .dataframe tbody tr th {\n",
       "        vertical-align: top;\n",
       "    }\n",
       "\n",
       "    .dataframe thead th {\n",
       "        text-align: right;\n",
       "    }\n",
       "</style>\n",
       "<table border=\"1\" class=\"dataframe\">\n",
       "  <thead>\n",
       "    <tr style=\"text-align: right;\">\n",
       "      <th></th>\n",
       "      <th>artist_id</th>\n",
       "      <th>name_formatted</th>\n",
       "      <th>birth_place</th>\n",
       "    </tr>\n",
       "  </thead>\n",
       "  <tbody>\n",
       "    <tr>\n",
       "      <th>1</th>\n",
       "      <td>559517.0</td>\n",
       "      <td>The Cherry Blues Project</td>\n",
       "      <td>NaN</td>\n",
       "    </tr>\n",
       "    <tr>\n",
       "      <th>2</th>\n",
       "      <td>33800.0</td>\n",
       "      <td>Duke &amp; His Orchestra Ellington</td>\n",
       "      <td>NaN</td>\n",
       "    </tr>\n",
       "    <tr>\n",
       "      <th>3</th>\n",
       "      <td>562672.0</td>\n",
       "      <td>Vitamin String Quartet</td>\n",
       "      <td>[[Los Angeles, California]], United States</td>\n",
       "    </tr>\n",
       "    <tr>\n",
       "      <th>4</th>\n",
       "      <td>102893.0</td>\n",
       "      <td>Die drei ???</td>\n",
       "      <td>NaN</td>\n",
       "    </tr>\n",
       "    <tr>\n",
       "      <th>6</th>\n",
       "      <td>505638.0</td>\n",
       "      <td>Senmuth</td>\n",
       "      <td>NaN</td>\n",
       "    </tr>\n",
       "  </tbody>\n",
       "</table>\n",
       "</div>"
      ],
      "text/plain": [
       "   artist_id                  name_formatted  \\\n",
       "1   559517.0        The Cherry Blues Project   \n",
       "2    33800.0  Duke & His Orchestra Ellington   \n",
       "3   562672.0          Vitamin String Quartet   \n",
       "4   102893.0                    Die drei ???   \n",
       "6   505638.0                         Senmuth   \n",
       "\n",
       "                                  birth_place  \n",
       "1                                         NaN  \n",
       "2                                         NaN  \n",
       "3  [[Los Angeles, California]], United States  \n",
       "4                                         NaN  \n",
       "6                                         NaN  "
      ]
     },
     "execution_count": 29,
     "metadata": {},
     "output_type": "execute_result"
    }
   ],
   "source": [
    "retrieved_origin.drop(labels=['count', 'genre'], axis=1, inplace=True)\n",
    "retrieved_origin.head()"
   ]
  },
  {
   "cell_type": "code",
   "execution_count": 30,
   "metadata": {},
   "outputs": [
    {
     "data": {
      "text/plain": [
       "artist_id         214104\n",
       "name_formatted    214103\n",
       "birth_place        20582\n",
       "dtype: int64"
      ]
     },
     "execution_count": 30,
     "metadata": {},
     "output_type": "execute_result"
    }
   ],
   "source": [
    "retrieved_origin.notnull().sum(axis=0)"
   ]
  },
  {
   "cell_type": "markdown",
   "metadata": {},
   "source": [
    "We have been able to retrieve the birth place for 20.582 artists. Let's see how we can format that information:"
   ]
  },
  {
   "cell_type": "code",
   "execution_count": 31,
   "metadata": {},
   "outputs": [
    {
     "data": {
      "text/html": [
       "<div>\n",
       "<style scoped>\n",
       "    .dataframe tbody tr th:only-of-type {\n",
       "        vertical-align: middle;\n",
       "    }\n",
       "\n",
       "    .dataframe tbody tr th {\n",
       "        vertical-align: top;\n",
       "    }\n",
       "\n",
       "    .dataframe thead th {\n",
       "        text-align: right;\n",
       "    }\n",
       "</style>\n",
       "<table border=\"1\" class=\"dataframe\">\n",
       "  <thead>\n",
       "    <tr style=\"text-align: right;\">\n",
       "      <th></th>\n",
       "      <th>artist_id</th>\n",
       "      <th>name_formatted</th>\n",
       "      <th>birth_place</th>\n",
       "    </tr>\n",
       "  </thead>\n",
       "  <tbody>\n",
       "    <tr>\n",
       "      <th>3</th>\n",
       "      <td>562672.0</td>\n",
       "      <td>Vitamin String Quartet</td>\n",
       "      <td>[[Los Angeles, California]], United States</td>\n",
       "    </tr>\n",
       "    <tr>\n",
       "      <th>16</th>\n",
       "      <td>210784.0</td>\n",
       "      <td>The Alfee</td>\n",
       "      <td>[[Tokyo]], [[Japan]]</td>\n",
       "    </tr>\n",
       "    <tr>\n",
       "      <th>17</th>\n",
       "      <td>618288.0</td>\n",
       "      <td>Enid Blyton</td>\n",
       "      <td>[[East Dulwich]], [[London]], England</td>\n",
       "    </tr>\n",
       "    <tr>\n",
       "      <th>26</th>\n",
       "      <td>368737.0</td>\n",
       "      <td>Pritam</td>\n",
       "      <td>[[Kolkata]], [[West Bengal]], [[India]]</td>\n",
       "    </tr>\n",
       "    <tr>\n",
       "      <th>28</th>\n",
       "      <td>9617.0</td>\n",
       "      <td>Léo Ferré</td>\n",
       "      <td>[[Monaco]]</td>\n",
       "    </tr>\n",
       "  </tbody>\n",
       "</table>\n",
       "</div>"
      ],
      "text/plain": [
       "    artist_id          name_formatted  \\\n",
       "3    562672.0  Vitamin String Quartet   \n",
       "16   210784.0               The Alfee   \n",
       "17   618288.0             Enid Blyton   \n",
       "26   368737.0                  Pritam   \n",
       "28     9617.0               Léo Ferré   \n",
       "\n",
       "                                   birth_place  \n",
       "3   [[Los Angeles, California]], United States  \n",
       "16                        [[Tokyo]], [[Japan]]  \n",
       "17       [[East Dulwich]], [[London]], England  \n",
       "26     [[Kolkata]], [[West Bengal]], [[India]]  \n",
       "28                                  [[Monaco]]  "
      ]
     },
     "execution_count": 31,
     "metadata": {},
     "output_type": "execute_result"
    }
   ],
   "source": [
    "retrieved_origin1 = retrieved_origin[retrieved_origin['birth_place'].notnull()]\n",
    "retrieved_origin1.head()"
   ]
  },
  {
   "cell_type": "markdown",
   "metadata": {},
   "source": [
    "Using the script country_functions, we will extract the city, state and country for each of the rows:"
   ]
  },
  {
   "cell_type": "code",
   "execution_count": 34,
   "metadata": {},
   "outputs": [],
   "source": [
    "%run -i 'country_state_functions.py'"
   ]
  },
  {
   "cell_type": "code",
   "execution_count": 35,
   "metadata": {},
   "outputs": [
    {
     "data": {
      "text/html": [
       "<div>\n",
       "<style scoped>\n",
       "    .dataframe tbody tr th:only-of-type {\n",
       "        vertical-align: middle;\n",
       "    }\n",
       "\n",
       "    .dataframe tbody tr th {\n",
       "        vertical-align: top;\n",
       "    }\n",
       "\n",
       "    .dataframe thead th {\n",
       "        text-align: right;\n",
       "    }\n",
       "</style>\n",
       "<table border=\"1\" class=\"dataframe\">\n",
       "  <thead>\n",
       "    <tr style=\"text-align: right;\">\n",
       "      <th></th>\n",
       "      <th>artist_id</th>\n",
       "      <th>name_formatted</th>\n",
       "      <th>birth_place</th>\n",
       "      <th>area</th>\n",
       "    </tr>\n",
       "  </thead>\n",
       "  <tbody>\n",
       "    <tr>\n",
       "      <th>3</th>\n",
       "      <td>562672.0</td>\n",
       "      <td>Vitamin String Quartet</td>\n",
       "      <td>[[Los Angeles, California]], United States</td>\n",
       "      <td>[Los Angeles, California, [United States]]</td>\n",
       "    </tr>\n",
       "    <tr>\n",
       "      <th>16</th>\n",
       "      <td>210784.0</td>\n",
       "      <td>The Alfee</td>\n",
       "      <td>[[Tokyo]], [[Japan]]</td>\n",
       "      <td>[Tokyo, , [Japan]]</td>\n",
       "    </tr>\n",
       "    <tr>\n",
       "      <th>17</th>\n",
       "      <td>618288.0</td>\n",
       "      <td>Enid Blyton</td>\n",
       "      <td>[[East Dulwich]], [[London]], England</td>\n",
       "      <td>[East Dulwich, , [United Kingdom]]</td>\n",
       "    </tr>\n",
       "    <tr>\n",
       "      <th>26</th>\n",
       "      <td>368737.0</td>\n",
       "      <td>Pritam</td>\n",
       "      <td>[[Kolkata]], [[West Bengal]], [[India]]</td>\n",
       "      <td>[Kolkata, , [India]]</td>\n",
       "    </tr>\n",
       "    <tr>\n",
       "      <th>28</th>\n",
       "      <td>9617.0</td>\n",
       "      <td>Léo Ferré</td>\n",
       "      <td>[[Monaco]]</td>\n",
       "      <td>[Monaco, , [Monaco]]</td>\n",
       "    </tr>\n",
       "  </tbody>\n",
       "</table>\n",
       "</div>"
      ],
      "text/plain": [
       "    artist_id          name_formatted  \\\n",
       "3    562672.0  Vitamin String Quartet   \n",
       "16   210784.0               The Alfee   \n",
       "17   618288.0             Enid Blyton   \n",
       "26   368737.0                  Pritam   \n",
       "28     9617.0               Léo Ferré   \n",
       "\n",
       "                                   birth_place  \\\n",
       "3   [[Los Angeles, California]], United States   \n",
       "16                        [[Tokyo]], [[Japan]]   \n",
       "17       [[East Dulwich]], [[London]], England   \n",
       "26     [[Kolkata]], [[West Bengal]], [[India]]   \n",
       "28                                  [[Monaco]]   \n",
       "\n",
       "                                          area  \n",
       "3   [Los Angeles, California, [United States]]  \n",
       "16                          [Tokyo, , [Japan]]  \n",
       "17          [East Dulwich, , [United Kingdom]]  \n",
       "26                        [Kolkata, , [India]]  \n",
       "28                        [Monaco, , [Monaco]]  "
      ]
     },
     "execution_count": 35,
     "metadata": {},
     "output_type": "execute_result"
    }
   ],
   "source": [
    "retrieved_origin1['area'] = retrieved_origin1['birth_place'].apply(get_country_state_city_check)\n",
    "retrieved_origin1.head()"
   ]
  },
  {
   "cell_type": "code",
   "execution_count": 36,
   "metadata": {},
   "outputs": [],
   "source": [
    "#Reset index before next step:\n",
    "retrieved_origin1.reset_index(drop=True, inplace=True)"
   ]
  },
  {
   "cell_type": "code",
   "execution_count": 37,
   "metadata": {},
   "outputs": [],
   "source": [
    "#Split the areas into 3 columns. First, the city:\n",
    "retrieved_origin1['city'] = [retrieved_origin1['area'][row][0] for row in range(len(retrieved_origin1))]"
   ]
  },
  {
   "cell_type": "code",
   "execution_count": 38,
   "metadata": {},
   "outputs": [],
   "source": [
    "#After, the state:\n",
    "retrieved_origin1['state'] = [retrieved_origin1['area'][row][1] for row in range(len(retrieved_origin1))]"
   ]
  },
  {
   "cell_type": "code",
   "execution_count": 39,
   "metadata": {},
   "outputs": [
    {
     "data": {
      "text/html": [
       "<div>\n",
       "<style scoped>\n",
       "    .dataframe tbody tr th:only-of-type {\n",
       "        vertical-align: middle;\n",
       "    }\n",
       "\n",
       "    .dataframe tbody tr th {\n",
       "        vertical-align: top;\n",
       "    }\n",
       "\n",
       "    .dataframe thead th {\n",
       "        text-align: right;\n",
       "    }\n",
       "</style>\n",
       "<table border=\"1\" class=\"dataframe\">\n",
       "  <thead>\n",
       "    <tr style=\"text-align: right;\">\n",
       "      <th></th>\n",
       "      <th>artist_id</th>\n",
       "      <th>name_formatted</th>\n",
       "      <th>birth_place</th>\n",
       "      <th>area</th>\n",
       "      <th>city</th>\n",
       "      <th>state</th>\n",
       "      <th>country</th>\n",
       "    </tr>\n",
       "  </thead>\n",
       "  <tbody>\n",
       "    <tr>\n",
       "      <th>0</th>\n",
       "      <td>562672.0</td>\n",
       "      <td>Vitamin String Quartet</td>\n",
       "      <td>[[Los Angeles, California]], United States</td>\n",
       "      <td>[Los Angeles, California, [United States]]</td>\n",
       "      <td>Los Angeles</td>\n",
       "      <td>California</td>\n",
       "      <td>United States</td>\n",
       "    </tr>\n",
       "    <tr>\n",
       "      <th>1</th>\n",
       "      <td>210784.0</td>\n",
       "      <td>The Alfee</td>\n",
       "      <td>[[Tokyo]], [[Japan]]</td>\n",
       "      <td>[Tokyo, , [Japan]]</td>\n",
       "      <td>Tokyo</td>\n",
       "      <td></td>\n",
       "      <td>Japan</td>\n",
       "    </tr>\n",
       "    <tr>\n",
       "      <th>2</th>\n",
       "      <td>618288.0</td>\n",
       "      <td>Enid Blyton</td>\n",
       "      <td>[[East Dulwich]], [[London]], England</td>\n",
       "      <td>[East Dulwich, , [United Kingdom]]</td>\n",
       "      <td>East Dulwich</td>\n",
       "      <td></td>\n",
       "      <td>United Kingdom</td>\n",
       "    </tr>\n",
       "    <tr>\n",
       "      <th>3</th>\n",
       "      <td>368737.0</td>\n",
       "      <td>Pritam</td>\n",
       "      <td>[[Kolkata]], [[West Bengal]], [[India]]</td>\n",
       "      <td>[Kolkata, , [India]]</td>\n",
       "      <td>Kolkata</td>\n",
       "      <td></td>\n",
       "      <td>India</td>\n",
       "    </tr>\n",
       "    <tr>\n",
       "      <th>4</th>\n",
       "      <td>9617.0</td>\n",
       "      <td>Léo Ferré</td>\n",
       "      <td>[[Monaco]]</td>\n",
       "      <td>[Monaco, , [Monaco]]</td>\n",
       "      <td>Monaco</td>\n",
       "      <td></td>\n",
       "      <td>Monaco</td>\n",
       "    </tr>\n",
       "  </tbody>\n",
       "</table>\n",
       "</div>"
      ],
      "text/plain": [
       "   artist_id          name_formatted  \\\n",
       "0   562672.0  Vitamin String Quartet   \n",
       "1   210784.0               The Alfee   \n",
       "2   618288.0             Enid Blyton   \n",
       "3   368737.0                  Pritam   \n",
       "4     9617.0               Léo Ferré   \n",
       "\n",
       "                                  birth_place  \\\n",
       "0  [[Los Angeles, California]], United States   \n",
       "1                        [[Tokyo]], [[Japan]]   \n",
       "2       [[East Dulwich]], [[London]], England   \n",
       "3     [[Kolkata]], [[West Bengal]], [[India]]   \n",
       "4                                  [[Monaco]]   \n",
       "\n",
       "                                         area          city       state  \\\n",
       "0  [Los Angeles, California, [United States]]   Los Angeles  California   \n",
       "1                          [Tokyo, , [Japan]]         Tokyo               \n",
       "2          [East Dulwich, , [United Kingdom]]  East Dulwich               \n",
       "3                        [Kolkata, , [India]]       Kolkata               \n",
       "4                        [Monaco, , [Monaco]]        Monaco               \n",
       "\n",
       "          country  \n",
       "0   United States  \n",
       "1           Japan  \n",
       "2  United Kingdom  \n",
       "3           India  \n",
       "4          Monaco  "
      ]
     },
     "execution_count": 39,
     "metadata": {},
     "output_type": "execute_result"
    }
   ],
   "source": [
    "#And lastly, the country:\n",
    "retrieved_origin1['country'] = [str(retrieved_origin1['area'][row][2]).strip('[]').strip(\"'\")\\\n",
    "                                for row in range(len(retrieved_origin1))]\n",
    "retrieved_origin1.head()"
   ]
  },
  {
   "cell_type": "markdown",
   "metadata": {},
   "source": [
    "What we will do now, is to try to match the retrieved areas with the geocoded areas we defined in our first notebook, so that we can have the coordinates:"
   ]
  },
  {
   "cell_type": "code",
   "execution_count": 40,
   "metadata": {},
   "outputs": [
    {
     "data": {
      "text/html": [
       "<div>\n",
       "<style scoped>\n",
       "    .dataframe tbody tr th:only-of-type {\n",
       "        vertical-align: middle;\n",
       "    }\n",
       "\n",
       "    .dataframe tbody tr th {\n",
       "        vertical-align: top;\n",
       "    }\n",
       "\n",
       "    .dataframe thead th {\n",
       "        text-align: right;\n",
       "    }\n",
       "</style>\n",
       "<table border=\"1\" class=\"dataframe\">\n",
       "  <thead>\n",
       "    <tr style=\"text-align: right;\">\n",
       "      <th></th>\n",
       "      <th>area_id</th>\n",
       "      <th>area_name</th>\n",
       "      <th>subdivision_name</th>\n",
       "      <th>country_name</th>\n",
       "      <th>latitude</th>\n",
       "      <th>longitude</th>\n",
       "    </tr>\n",
       "  </thead>\n",
       "  <tbody>\n",
       "    <tr>\n",
       "      <th>0</th>\n",
       "      <td>262</td>\n",
       "      <td>NaN</td>\n",
       "      <td>Alaska</td>\n",
       "      <td>United States</td>\n",
       "      <td>64.200841</td>\n",
       "      <td>-149.493673</td>\n",
       "    </tr>\n",
       "    <tr>\n",
       "      <th>1</th>\n",
       "      <td>339</td>\n",
       "      <td>NaN</td>\n",
       "      <td>Sachsen-Anhalt</td>\n",
       "      <td>Germany</td>\n",
       "      <td>51.950265</td>\n",
       "      <td>11.692273</td>\n",
       "    </tr>\n",
       "    <tr>\n",
       "      <th>2</th>\n",
       "      <td>263</td>\n",
       "      <td>NaN</td>\n",
       "      <td>Alabama</td>\n",
       "      <td>United States</td>\n",
       "      <td>32.318231</td>\n",
       "      <td>-86.902298</td>\n",
       "    </tr>\n",
       "    <tr>\n",
       "      <th>3</th>\n",
       "      <td>261</td>\n",
       "      <td>NaN</td>\n",
       "      <td>Maryland</td>\n",
       "      <td>United States</td>\n",
       "      <td>39.045755</td>\n",
       "      <td>-76.641271</td>\n",
       "    </tr>\n",
       "    <tr>\n",
       "      <th>4</th>\n",
       "      <td>264</td>\n",
       "      <td>NaN</td>\n",
       "      <td>Arkansas</td>\n",
       "      <td>United States</td>\n",
       "      <td>35.201050</td>\n",
       "      <td>-91.831833</td>\n",
       "    </tr>\n",
       "  </tbody>\n",
       "</table>\n",
       "</div>"
      ],
      "text/plain": [
       "   area_id area_name subdivision_name   country_name   latitude   longitude\n",
       "0      262       NaN           Alaska  United States  64.200841 -149.493673\n",
       "1      339       NaN   Sachsen-Anhalt        Germany  51.950265   11.692273\n",
       "2      263       NaN          Alabama  United States  32.318231  -86.902298\n",
       "3      261       NaN         Maryland  United States  39.045755  -76.641271\n",
       "4      264       NaN         Arkansas  United States  35.201050  -91.831833"
      ]
     },
     "execution_count": 40,
     "metadata": {},
     "output_type": "execute_result"
    }
   ],
   "source": [
    "areas = pd.read_csv('Data_out/subdivisions_all.csv',\\\n",
    "                    sep='\\t', header=0, encoding='utf-8')\n",
    "areas.head()"
   ]
  },
  {
   "cell_type": "code",
   "execution_count": 41,
   "metadata": {},
   "outputs": [
    {
     "data": {
      "text/html": [
       "<div>\n",
       "<style scoped>\n",
       "    .dataframe tbody tr th:only-of-type {\n",
       "        vertical-align: middle;\n",
       "    }\n",
       "\n",
       "    .dataframe tbody tr th {\n",
       "        vertical-align: top;\n",
       "    }\n",
       "\n",
       "    .dataframe thead th {\n",
       "        text-align: right;\n",
       "    }\n",
       "</style>\n",
       "<table border=\"1\" class=\"dataframe\">\n",
       "  <thead>\n",
       "    <tr style=\"text-align: right;\">\n",
       "      <th></th>\n",
       "      <th>area_id</th>\n",
       "      <th>area_name</th>\n",
       "      <th>subdivision_name</th>\n",
       "      <th>country_name</th>\n",
       "      <th>latitude</th>\n",
       "      <th>longitude</th>\n",
       "    </tr>\n",
       "  </thead>\n",
       "  <tbody>\n",
       "    <tr>\n",
       "      <th>0</th>\n",
       "      <td>262</td>\n",
       "      <td></td>\n",
       "      <td>Alaska</td>\n",
       "      <td>United States</td>\n",
       "      <td>64.200841</td>\n",
       "      <td>-149.493673</td>\n",
       "    </tr>\n",
       "    <tr>\n",
       "      <th>1</th>\n",
       "      <td>339</td>\n",
       "      <td></td>\n",
       "      <td>Sachsen-Anhalt</td>\n",
       "      <td>Germany</td>\n",
       "      <td>51.950265</td>\n",
       "      <td>11.692273</td>\n",
       "    </tr>\n",
       "    <tr>\n",
       "      <th>2</th>\n",
       "      <td>263</td>\n",
       "      <td></td>\n",
       "      <td>Alabama</td>\n",
       "      <td>United States</td>\n",
       "      <td>32.318231</td>\n",
       "      <td>-86.902298</td>\n",
       "    </tr>\n",
       "    <tr>\n",
       "      <th>3</th>\n",
       "      <td>261</td>\n",
       "      <td></td>\n",
       "      <td>Maryland</td>\n",
       "      <td>United States</td>\n",
       "      <td>39.045755</td>\n",
       "      <td>-76.641271</td>\n",
       "    </tr>\n",
       "    <tr>\n",
       "      <th>4</th>\n",
       "      <td>264</td>\n",
       "      <td></td>\n",
       "      <td>Arkansas</td>\n",
       "      <td>United States</td>\n",
       "      <td>35.201050</td>\n",
       "      <td>-91.831833</td>\n",
       "    </tr>\n",
       "  </tbody>\n",
       "</table>\n",
       "</div>"
      ],
      "text/plain": [
       "   area_id area_name subdivision_name   country_name   latitude   longitude\n",
       "0      262                     Alaska  United States  64.200841 -149.493673\n",
       "1      339             Sachsen-Anhalt        Germany  51.950265   11.692273\n",
       "2      263                    Alabama  United States  32.318231  -86.902298\n",
       "3      261                   Maryland  United States  39.045755  -76.641271\n",
       "4      264                   Arkansas  United States  35.201050  -91.831833"
      ]
     },
     "execution_count": 41,
     "metadata": {},
     "output_type": "execute_result"
    }
   ],
   "source": [
    "#FillNa with empty string for the next step:\n",
    "areas['area_name'].fillna(value='', inplace=True)\n",
    "areas.head()"
   ]
  },
  {
   "cell_type": "code",
   "execution_count": 42,
   "metadata": {},
   "outputs": [
    {
     "data": {
      "text/html": [
       "<div>\n",
       "<style scoped>\n",
       "    .dataframe tbody tr th:only-of-type {\n",
       "        vertical-align: middle;\n",
       "    }\n",
       "\n",
       "    .dataframe tbody tr th {\n",
       "        vertical-align: top;\n",
       "    }\n",
       "\n",
       "    .dataframe thead th {\n",
       "        text-align: right;\n",
       "    }\n",
       "</style>\n",
       "<table border=\"1\" class=\"dataframe\">\n",
       "  <thead>\n",
       "    <tr style=\"text-align: right;\">\n",
       "      <th></th>\n",
       "      <th>area_id</th>\n",
       "      <th>area_name</th>\n",
       "      <th>subdivision_name</th>\n",
       "      <th>country_name</th>\n",
       "      <th>latitude</th>\n",
       "      <th>longitude</th>\n",
       "      <th>area_match</th>\n",
       "    </tr>\n",
       "  </thead>\n",
       "  <tbody>\n",
       "    <tr>\n",
       "      <th>0</th>\n",
       "      <td>262</td>\n",
       "      <td></td>\n",
       "      <td>Alaska</td>\n",
       "      <td>United States</td>\n",
       "      <td>64.200841</td>\n",
       "      <td>-149.493673</td>\n",
       "      <td>AlaskaUnitedStates</td>\n",
       "    </tr>\n",
       "    <tr>\n",
       "      <th>1</th>\n",
       "      <td>339</td>\n",
       "      <td></td>\n",
       "      <td>Sachsen-Anhalt</td>\n",
       "      <td>Germany</td>\n",
       "      <td>51.950265</td>\n",
       "      <td>11.692273</td>\n",
       "      <td>Sachsen-AnhaltGermany</td>\n",
       "    </tr>\n",
       "    <tr>\n",
       "      <th>2</th>\n",
       "      <td>263</td>\n",
       "      <td></td>\n",
       "      <td>Alabama</td>\n",
       "      <td>United States</td>\n",
       "      <td>32.318231</td>\n",
       "      <td>-86.902298</td>\n",
       "      <td>AlabamaUnitedStates</td>\n",
       "    </tr>\n",
       "    <tr>\n",
       "      <th>3</th>\n",
       "      <td>261</td>\n",
       "      <td></td>\n",
       "      <td>Maryland</td>\n",
       "      <td>United States</td>\n",
       "      <td>39.045755</td>\n",
       "      <td>-76.641271</td>\n",
       "      <td>MarylandUnitedStates</td>\n",
       "    </tr>\n",
       "    <tr>\n",
       "      <th>4</th>\n",
       "      <td>264</td>\n",
       "      <td></td>\n",
       "      <td>Arkansas</td>\n",
       "      <td>United States</td>\n",
       "      <td>35.201050</td>\n",
       "      <td>-91.831833</td>\n",
       "      <td>ArkansasUnitedStates</td>\n",
       "    </tr>\n",
       "  </tbody>\n",
       "</table>\n",
       "</div>"
      ],
      "text/plain": [
       "   area_id area_name subdivision_name   country_name   latitude   longitude  \\\n",
       "0      262                     Alaska  United States  64.200841 -149.493673   \n",
       "1      339             Sachsen-Anhalt        Germany  51.950265   11.692273   \n",
       "2      263                    Alabama  United States  32.318231  -86.902298   \n",
       "3      261                   Maryland  United States  39.045755  -76.641271   \n",
       "4      264                   Arkansas  United States  35.201050  -91.831833   \n",
       "\n",
       "              area_match  \n",
       "0     AlaskaUnitedStates  \n",
       "1  Sachsen-AnhaltGermany  \n",
       "2    AlabamaUnitedStates  \n",
       "3   MarylandUnitedStates  \n",
       "4   ArkansasUnitedStates  "
      ]
     },
     "execution_count": 42,
     "metadata": {},
     "output_type": "execute_result"
    }
   ],
   "source": [
    "#We create a column that concatenates the area_name , subdivision and the country:\n",
    "areas['area_match'] = areas['area_name'] + areas['subdivision_name'] + areas['country_name']\n",
    "areas['area_match'].str.strip()\n",
    "areas['area_match'] = areas['area_match'].apply(lambda x: ''.join(c for c in x if c not in([' '])))\n",
    "areas.head()"
   ]
  },
  {
   "cell_type": "code",
   "execution_count": 43,
   "metadata": {},
   "outputs": [
    {
     "data": {
      "text/html": [
       "<div>\n",
       "<style scoped>\n",
       "    .dataframe tbody tr th:only-of-type {\n",
       "        vertical-align: middle;\n",
       "    }\n",
       "\n",
       "    .dataframe tbody tr th {\n",
       "        vertical-align: top;\n",
       "    }\n",
       "\n",
       "    .dataframe thead th {\n",
       "        text-align: right;\n",
       "    }\n",
       "</style>\n",
       "<table border=\"1\" class=\"dataframe\">\n",
       "  <thead>\n",
       "    <tr style=\"text-align: right;\">\n",
       "      <th></th>\n",
       "      <th>area_id</th>\n",
       "      <th>area_name</th>\n",
       "      <th>subdivision_name</th>\n",
       "      <th>country_name</th>\n",
       "      <th>latitude</th>\n",
       "      <th>longitude</th>\n",
       "      <th>area_match</th>\n",
       "      <th>area_match2</th>\n",
       "    </tr>\n",
       "  </thead>\n",
       "  <tbody>\n",
       "    <tr>\n",
       "      <th>0</th>\n",
       "      <td>262</td>\n",
       "      <td></td>\n",
       "      <td>Alaska</td>\n",
       "      <td>United States</td>\n",
       "      <td>64.200841</td>\n",
       "      <td>-149.493673</td>\n",
       "      <td>AlaskaUnitedStates</td>\n",
       "      <td>UnitedStates</td>\n",
       "    </tr>\n",
       "    <tr>\n",
       "      <th>1</th>\n",
       "      <td>339</td>\n",
       "      <td></td>\n",
       "      <td>Sachsen-Anhalt</td>\n",
       "      <td>Germany</td>\n",
       "      <td>51.950265</td>\n",
       "      <td>11.692273</td>\n",
       "      <td>Sachsen-AnhaltGermany</td>\n",
       "      <td>Germany</td>\n",
       "    </tr>\n",
       "    <tr>\n",
       "      <th>2</th>\n",
       "      <td>263</td>\n",
       "      <td></td>\n",
       "      <td>Alabama</td>\n",
       "      <td>United States</td>\n",
       "      <td>32.318231</td>\n",
       "      <td>-86.902298</td>\n",
       "      <td>AlabamaUnitedStates</td>\n",
       "      <td>UnitedStates</td>\n",
       "    </tr>\n",
       "    <tr>\n",
       "      <th>3</th>\n",
       "      <td>261</td>\n",
       "      <td></td>\n",
       "      <td>Maryland</td>\n",
       "      <td>United States</td>\n",
       "      <td>39.045755</td>\n",
       "      <td>-76.641271</td>\n",
       "      <td>MarylandUnitedStates</td>\n",
       "      <td>UnitedStates</td>\n",
       "    </tr>\n",
       "    <tr>\n",
       "      <th>4</th>\n",
       "      <td>264</td>\n",
       "      <td></td>\n",
       "      <td>Arkansas</td>\n",
       "      <td>United States</td>\n",
       "      <td>35.201050</td>\n",
       "      <td>-91.831833</td>\n",
       "      <td>ArkansasUnitedStates</td>\n",
       "      <td>UnitedStates</td>\n",
       "    </tr>\n",
       "  </tbody>\n",
       "</table>\n",
       "</div>"
      ],
      "text/plain": [
       "   area_id area_name subdivision_name   country_name   latitude   longitude  \\\n",
       "0      262                     Alaska  United States  64.200841 -149.493673   \n",
       "1      339             Sachsen-Anhalt        Germany  51.950265   11.692273   \n",
       "2      263                    Alabama  United States  32.318231  -86.902298   \n",
       "3      261                   Maryland  United States  39.045755  -76.641271   \n",
       "4      264                   Arkansas  United States  35.201050  -91.831833   \n",
       "\n",
       "              area_match   area_match2  \n",
       "0     AlaskaUnitedStates  UnitedStates  \n",
       "1  Sachsen-AnhaltGermany       Germany  \n",
       "2    AlabamaUnitedStates  UnitedStates  \n",
       "3   MarylandUnitedStates  UnitedStates  \n",
       "4   ArkansasUnitedStates  UnitedStates  "
      ]
     },
     "execution_count": 43,
     "metadata": {},
     "output_type": "execute_result"
    }
   ],
   "source": [
    "#And another one that concatenates the area name and the country (this will help to match\n",
    "#the rows that don't have a subdivision in our retrieved_origin1 dataframe):\n",
    "areas['area_match2'] = areas['area_name'] + areas['country_name']\n",
    "areas['area_match2'].str.strip()\n",
    "areas['area_match2'] = areas['area_match2'].apply(lambda x: ''.join(c for c in x if c not in([' '])))\n",
    "areas.head()"
   ]
  },
  {
   "cell_type": "markdown",
   "metadata": {},
   "source": [
    "We do the same in our retrieved_origin1 dataframe:"
   ]
  },
  {
   "cell_type": "code",
   "execution_count": 44,
   "metadata": {},
   "outputs": [
    {
     "data": {
      "text/html": [
       "<div>\n",
       "<style scoped>\n",
       "    .dataframe tbody tr th:only-of-type {\n",
       "        vertical-align: middle;\n",
       "    }\n",
       "\n",
       "    .dataframe tbody tr th {\n",
       "        vertical-align: top;\n",
       "    }\n",
       "\n",
       "    .dataframe thead th {\n",
       "        text-align: right;\n",
       "    }\n",
       "</style>\n",
       "<table border=\"1\" class=\"dataframe\">\n",
       "  <thead>\n",
       "    <tr style=\"text-align: right;\">\n",
       "      <th></th>\n",
       "      <th>artist_id</th>\n",
       "      <th>name_formatted</th>\n",
       "      <th>birth_place</th>\n",
       "      <th>area</th>\n",
       "      <th>city</th>\n",
       "      <th>state</th>\n",
       "      <th>country</th>\n",
       "    </tr>\n",
       "  </thead>\n",
       "  <tbody>\n",
       "    <tr>\n",
       "      <th>0</th>\n",
       "      <td>562672.0</td>\n",
       "      <td>Vitamin String Quartet</td>\n",
       "      <td>[[Los Angeles, California]], United States</td>\n",
       "      <td>[Los Angeles, California, [United States]]</td>\n",
       "      <td>Los Angeles</td>\n",
       "      <td>California</td>\n",
       "      <td>United States</td>\n",
       "    </tr>\n",
       "    <tr>\n",
       "      <th>1</th>\n",
       "      <td>210784.0</td>\n",
       "      <td>The Alfee</td>\n",
       "      <td>[[Tokyo]], [[Japan]]</td>\n",
       "      <td>[Tokyo, , [Japan]]</td>\n",
       "      <td>Tokyo</td>\n",
       "      <td></td>\n",
       "      <td>Japan</td>\n",
       "    </tr>\n",
       "    <tr>\n",
       "      <th>2</th>\n",
       "      <td>618288.0</td>\n",
       "      <td>Enid Blyton</td>\n",
       "      <td>[[East Dulwich]], [[London]], England</td>\n",
       "      <td>[East Dulwich, , [United Kingdom]]</td>\n",
       "      <td>East Dulwich</td>\n",
       "      <td></td>\n",
       "      <td>United Kingdom</td>\n",
       "    </tr>\n",
       "    <tr>\n",
       "      <th>3</th>\n",
       "      <td>368737.0</td>\n",
       "      <td>Pritam</td>\n",
       "      <td>[[Kolkata]], [[West Bengal]], [[India]]</td>\n",
       "      <td>[Kolkata, , [India]]</td>\n",
       "      <td>Kolkata</td>\n",
       "      <td></td>\n",
       "      <td>India</td>\n",
       "    </tr>\n",
       "    <tr>\n",
       "      <th>4</th>\n",
       "      <td>9617.0</td>\n",
       "      <td>Léo Ferré</td>\n",
       "      <td>[[Monaco]]</td>\n",
       "      <td>[Monaco, , [Monaco]]</td>\n",
       "      <td>Monaco</td>\n",
       "      <td></td>\n",
       "      <td>Monaco</td>\n",
       "    </tr>\n",
       "  </tbody>\n",
       "</table>\n",
       "</div>"
      ],
      "text/plain": [
       "   artist_id          name_formatted  \\\n",
       "0   562672.0  Vitamin String Quartet   \n",
       "1   210784.0               The Alfee   \n",
       "2   618288.0             Enid Blyton   \n",
       "3   368737.0                  Pritam   \n",
       "4     9617.0               Léo Ferré   \n",
       "\n",
       "                                  birth_place  \\\n",
       "0  [[Los Angeles, California]], United States   \n",
       "1                        [[Tokyo]], [[Japan]]   \n",
       "2       [[East Dulwich]], [[London]], England   \n",
       "3     [[Kolkata]], [[West Bengal]], [[India]]   \n",
       "4                                  [[Monaco]]   \n",
       "\n",
       "                                         area          city       state  \\\n",
       "0  [Los Angeles, California, [United States]]   Los Angeles  California   \n",
       "1                          [Tokyo, , [Japan]]         Tokyo               \n",
       "2          [East Dulwich, , [United Kingdom]]  East Dulwich               \n",
       "3                        [Kolkata, , [India]]       Kolkata               \n",
       "4                        [Monaco, , [Monaco]]        Monaco               \n",
       "\n",
       "          country  \n",
       "0   United States  \n",
       "1           Japan  \n",
       "2  United Kingdom  \n",
       "3           India  \n",
       "4          Monaco  "
      ]
     },
     "execution_count": 44,
     "metadata": {},
     "output_type": "execute_result"
    }
   ],
   "source": [
    "#FillNa with empty string for the next step:\n",
    "retrieved_origin1['city'].fillna(value='', inplace=True)\n",
    "retrieved_origin1['state'].fillna(value='', inplace=True)\n",
    "retrieved_origin1.head()"
   ]
  },
  {
   "cell_type": "code",
   "execution_count": 45,
   "metadata": {},
   "outputs": [
    {
     "data": {
      "text/html": [
       "<div>\n",
       "<style scoped>\n",
       "    .dataframe tbody tr th:only-of-type {\n",
       "        vertical-align: middle;\n",
       "    }\n",
       "\n",
       "    .dataframe tbody tr th {\n",
       "        vertical-align: top;\n",
       "    }\n",
       "\n",
       "    .dataframe thead th {\n",
       "        text-align: right;\n",
       "    }\n",
       "</style>\n",
       "<table border=\"1\" class=\"dataframe\">\n",
       "  <thead>\n",
       "    <tr style=\"text-align: right;\">\n",
       "      <th></th>\n",
       "      <th>artist_id</th>\n",
       "      <th>name_formatted</th>\n",
       "      <th>birth_place</th>\n",
       "      <th>area</th>\n",
       "      <th>city</th>\n",
       "      <th>state</th>\n",
       "      <th>country</th>\n",
       "      <th>area_match</th>\n",
       "    </tr>\n",
       "  </thead>\n",
       "  <tbody>\n",
       "    <tr>\n",
       "      <th>0</th>\n",
       "      <td>562672.0</td>\n",
       "      <td>Vitamin String Quartet</td>\n",
       "      <td>[[Los Angeles, California]], United States</td>\n",
       "      <td>[Los Angeles, California, [United States]]</td>\n",
       "      <td>Los Angeles</td>\n",
       "      <td>California</td>\n",
       "      <td>United States</td>\n",
       "      <td>LosAngelesCaliforniaUnitedStates</td>\n",
       "    </tr>\n",
       "    <tr>\n",
       "      <th>1</th>\n",
       "      <td>210784.0</td>\n",
       "      <td>The Alfee</td>\n",
       "      <td>[[Tokyo]], [[Japan]]</td>\n",
       "      <td>[Tokyo, , [Japan]]</td>\n",
       "      <td>Tokyo</td>\n",
       "      <td></td>\n",
       "      <td>Japan</td>\n",
       "      <td>TokyoJapan</td>\n",
       "    </tr>\n",
       "    <tr>\n",
       "      <th>2</th>\n",
       "      <td>618288.0</td>\n",
       "      <td>Enid Blyton</td>\n",
       "      <td>[[East Dulwich]], [[London]], England</td>\n",
       "      <td>[East Dulwich, , [United Kingdom]]</td>\n",
       "      <td>East Dulwich</td>\n",
       "      <td></td>\n",
       "      <td>United Kingdom</td>\n",
       "      <td>EastDulwichUnitedKingdom</td>\n",
       "    </tr>\n",
       "    <tr>\n",
       "      <th>3</th>\n",
       "      <td>368737.0</td>\n",
       "      <td>Pritam</td>\n",
       "      <td>[[Kolkata]], [[West Bengal]], [[India]]</td>\n",
       "      <td>[Kolkata, , [India]]</td>\n",
       "      <td>Kolkata</td>\n",
       "      <td></td>\n",
       "      <td>India</td>\n",
       "      <td>KolkataIndia</td>\n",
       "    </tr>\n",
       "    <tr>\n",
       "      <th>4</th>\n",
       "      <td>9617.0</td>\n",
       "      <td>Léo Ferré</td>\n",
       "      <td>[[Monaco]]</td>\n",
       "      <td>[Monaco, , [Monaco]]</td>\n",
       "      <td>Monaco</td>\n",
       "      <td></td>\n",
       "      <td>Monaco</td>\n",
       "      <td>MonacoMonaco</td>\n",
       "    </tr>\n",
       "  </tbody>\n",
       "</table>\n",
       "</div>"
      ],
      "text/plain": [
       "   artist_id          name_formatted  \\\n",
       "0   562672.0  Vitamin String Quartet   \n",
       "1   210784.0               The Alfee   \n",
       "2   618288.0             Enid Blyton   \n",
       "3   368737.0                  Pritam   \n",
       "4     9617.0               Léo Ferré   \n",
       "\n",
       "                                  birth_place  \\\n",
       "0  [[Los Angeles, California]], United States   \n",
       "1                        [[Tokyo]], [[Japan]]   \n",
       "2       [[East Dulwich]], [[London]], England   \n",
       "3     [[Kolkata]], [[West Bengal]], [[India]]   \n",
       "4                                  [[Monaco]]   \n",
       "\n",
       "                                         area          city       state  \\\n",
       "0  [Los Angeles, California, [United States]]   Los Angeles  California   \n",
       "1                          [Tokyo, , [Japan]]         Tokyo               \n",
       "2          [East Dulwich, , [United Kingdom]]  East Dulwich               \n",
       "3                        [Kolkata, , [India]]       Kolkata               \n",
       "4                        [Monaco, , [Monaco]]        Monaco               \n",
       "\n",
       "          country                        area_match  \n",
       "0   United States  LosAngelesCaliforniaUnitedStates  \n",
       "1           Japan                        TokyoJapan  \n",
       "2  United Kingdom          EastDulwichUnitedKingdom  \n",
       "3           India                      KolkataIndia  \n",
       "4          Monaco                      MonacoMonaco  "
      ]
     },
     "execution_count": 45,
     "metadata": {},
     "output_type": "execute_result"
    }
   ],
   "source": [
    "#We create a column that concatenates the city , state and the country:\n",
    "retrieved_origin1['area_match'] = retrieved_origin1['city'] \\\n",
    "                                + retrieved_origin1['state']\\\n",
    "                                + retrieved_origin1['country']\n",
    "retrieved_origin1['area_match'].str.strip()\n",
    "retrieved_origin1['area_match'] = retrieved_origin1['area_match'].apply(lambda x: ''.join(c for c\\\n",
    "                                                                                          in x if c not in([' '])))\n",
    "retrieved_origin1.head()"
   ]
  },
  {
   "cell_type": "code",
   "execution_count": 46,
   "metadata": {},
   "outputs": [],
   "source": [
    "#We remove the word \"Prefecture\" to be able to match the Japanese areas:\n",
    "retrieved_origin1['area_match'] = retrieved_origin1['area_match'].str.replace('Prefecture', '')"
   ]
  },
  {
   "cell_type": "code",
   "execution_count": 47,
   "metadata": {},
   "outputs": [
    {
     "data": {
      "text/html": [
       "<div>\n",
       "<style scoped>\n",
       "    .dataframe tbody tr th:only-of-type {\n",
       "        vertical-align: middle;\n",
       "    }\n",
       "\n",
       "    .dataframe tbody tr th {\n",
       "        vertical-align: top;\n",
       "    }\n",
       "\n",
       "    .dataframe thead th {\n",
       "        text-align: right;\n",
       "    }\n",
       "</style>\n",
       "<table border=\"1\" class=\"dataframe\">\n",
       "  <thead>\n",
       "    <tr style=\"text-align: right;\">\n",
       "      <th></th>\n",
       "      <th>artist_id</th>\n",
       "      <th>name_formatted</th>\n",
       "      <th>birth_place</th>\n",
       "      <th>area</th>\n",
       "      <th>city</th>\n",
       "      <th>state</th>\n",
       "      <th>country</th>\n",
       "      <th>area_match</th>\n",
       "      <th>area_match3</th>\n",
       "    </tr>\n",
       "  </thead>\n",
       "  <tbody>\n",
       "    <tr>\n",
       "      <th>0</th>\n",
       "      <td>562672.0</td>\n",
       "      <td>Vitamin String Quartet</td>\n",
       "      <td>[[Los Angeles, California]], United States</td>\n",
       "      <td>[Los Angeles, California, [United States]]</td>\n",
       "      <td>Los Angeles</td>\n",
       "      <td>California</td>\n",
       "      <td>United States</td>\n",
       "      <td>LosAngelesCaliforniaUnitedStates</td>\n",
       "      <td>CaliforniaUnitedStates</td>\n",
       "    </tr>\n",
       "    <tr>\n",
       "      <th>1</th>\n",
       "      <td>210784.0</td>\n",
       "      <td>The Alfee</td>\n",
       "      <td>[[Tokyo]], [[Japan]]</td>\n",
       "      <td>[Tokyo, , [Japan]]</td>\n",
       "      <td>Tokyo</td>\n",
       "      <td></td>\n",
       "      <td>Japan</td>\n",
       "      <td>TokyoJapan</td>\n",
       "      <td>Japan</td>\n",
       "    </tr>\n",
       "    <tr>\n",
       "      <th>2</th>\n",
       "      <td>618288.0</td>\n",
       "      <td>Enid Blyton</td>\n",
       "      <td>[[East Dulwich]], [[London]], England</td>\n",
       "      <td>[East Dulwich, , [United Kingdom]]</td>\n",
       "      <td>East Dulwich</td>\n",
       "      <td></td>\n",
       "      <td>United Kingdom</td>\n",
       "      <td>EastDulwichUnitedKingdom</td>\n",
       "      <td>UnitedKingdom</td>\n",
       "    </tr>\n",
       "    <tr>\n",
       "      <th>3</th>\n",
       "      <td>368737.0</td>\n",
       "      <td>Pritam</td>\n",
       "      <td>[[Kolkata]], [[West Bengal]], [[India]]</td>\n",
       "      <td>[Kolkata, , [India]]</td>\n",
       "      <td>Kolkata</td>\n",
       "      <td></td>\n",
       "      <td>India</td>\n",
       "      <td>KolkataIndia</td>\n",
       "      <td>India</td>\n",
       "    </tr>\n",
       "    <tr>\n",
       "      <th>4</th>\n",
       "      <td>9617.0</td>\n",
       "      <td>Léo Ferré</td>\n",
       "      <td>[[Monaco]]</td>\n",
       "      <td>[Monaco, , [Monaco]]</td>\n",
       "      <td>Monaco</td>\n",
       "      <td></td>\n",
       "      <td>Monaco</td>\n",
       "      <td>MonacoMonaco</td>\n",
       "      <td>Monaco</td>\n",
       "    </tr>\n",
       "  </tbody>\n",
       "</table>\n",
       "</div>"
      ],
      "text/plain": [
       "   artist_id          name_formatted  \\\n",
       "0   562672.0  Vitamin String Quartet   \n",
       "1   210784.0               The Alfee   \n",
       "2   618288.0             Enid Blyton   \n",
       "3   368737.0                  Pritam   \n",
       "4     9617.0               Léo Ferré   \n",
       "\n",
       "                                  birth_place  \\\n",
       "0  [[Los Angeles, California]], United States   \n",
       "1                        [[Tokyo]], [[Japan]]   \n",
       "2       [[East Dulwich]], [[London]], England   \n",
       "3     [[Kolkata]], [[West Bengal]], [[India]]   \n",
       "4                                  [[Monaco]]   \n",
       "\n",
       "                                         area          city       state  \\\n",
       "0  [Los Angeles, California, [United States]]   Los Angeles  California   \n",
       "1                          [Tokyo, , [Japan]]         Tokyo               \n",
       "2          [East Dulwich, , [United Kingdom]]  East Dulwich               \n",
       "3                        [Kolkata, , [India]]       Kolkata               \n",
       "4                        [Monaco, , [Monaco]]        Monaco               \n",
       "\n",
       "          country                        area_match             area_match3  \n",
       "0   United States  LosAngelesCaliforniaUnitedStates  CaliforniaUnitedStates  \n",
       "1           Japan                        TokyoJapan                   Japan  \n",
       "2  United Kingdom          EastDulwichUnitedKingdom           UnitedKingdom  \n",
       "3           India                      KolkataIndia                   India  \n",
       "4          Monaco                      MonacoMonaco                  Monaco  "
      ]
     },
     "execution_count": 47,
     "metadata": {},
     "output_type": "execute_result"
    }
   ],
   "source": [
    "#And another one that concatenates the subdivision and the country (this will be to match some US states):\n",
    "retrieved_origin1['area_match3'] = retrieved_origin1['state'] \\\n",
    "                                + retrieved_origin1['country']\n",
    "retrieved_origin1['area_match3'].str.strip()\n",
    "retrieved_origin1['area_match3'] = retrieved_origin1['area_match3'].apply(lambda x: ''.join(c for c\\\n",
    "                                                                                            in x if c not in([' '])))\n",
    "retrieved_origin1.head()"
   ]
  },
  {
   "cell_type": "code",
   "execution_count": 48,
   "metadata": {},
   "outputs": [
    {
     "data": {
      "text/plain": [
       "20582"
      ]
     },
     "execution_count": 48,
     "metadata": {},
     "output_type": "execute_result"
    }
   ],
   "source": [
    "len(retrieved_origin1)"
   ]
  },
  {
   "cell_type": "code",
   "execution_count": 49,
   "metadata": {},
   "outputs": [
    {
     "data": {
      "text/html": [
       "<div>\n",
       "<style scoped>\n",
       "    .dataframe tbody tr th:only-of-type {\n",
       "        vertical-align: middle;\n",
       "    }\n",
       "\n",
       "    .dataframe tbody tr th {\n",
       "        vertical-align: top;\n",
       "    }\n",
       "\n",
       "    .dataframe thead th {\n",
       "        text-align: right;\n",
       "    }\n",
       "</style>\n",
       "<table border=\"1\" class=\"dataframe\">\n",
       "  <thead>\n",
       "    <tr style=\"text-align: right;\">\n",
       "      <th></th>\n",
       "      <th>artist_id</th>\n",
       "      <th>area_match_x</th>\n",
       "      <th>area_match3</th>\n",
       "      <th>area_id</th>\n",
       "      <th>area_name</th>\n",
       "      <th>subdivision_name</th>\n",
       "      <th>country_name</th>\n",
       "      <th>latitude</th>\n",
       "      <th>longitude</th>\n",
       "      <th>area_match_y</th>\n",
       "      <th>area_match2</th>\n",
       "    </tr>\n",
       "  </thead>\n",
       "  <tbody>\n",
       "    <tr>\n",
       "      <th>0</th>\n",
       "      <td>562672.0</td>\n",
       "      <td>LosAngelesCaliforniaUnitedStates</td>\n",
       "      <td>CaliforniaUnitedStates</td>\n",
       "      <td>266.0</td>\n",
       "      <td></td>\n",
       "      <td>California</td>\n",
       "      <td>United States</td>\n",
       "      <td>36.778261</td>\n",
       "      <td>-119.417932</td>\n",
       "      <td>CaliforniaUnitedStates</td>\n",
       "      <td>UnitedStates</td>\n",
       "    </tr>\n",
       "    <tr>\n",
       "      <th>1</th>\n",
       "      <td>210784.0</td>\n",
       "      <td>TokyoJapan</td>\n",
       "      <td>Japan</td>\n",
       "      <td>NaN</td>\n",
       "      <td>NaN</td>\n",
       "      <td>NaN</td>\n",
       "      <td>NaN</td>\n",
       "      <td>NaN</td>\n",
       "      <td>NaN</td>\n",
       "      <td>NaN</td>\n",
       "      <td>NaN</td>\n",
       "    </tr>\n",
       "    <tr>\n",
       "      <th>2</th>\n",
       "      <td>618288.0</td>\n",
       "      <td>EastDulwichUnitedKingdom</td>\n",
       "      <td>UnitedKingdom</td>\n",
       "      <td>NaN</td>\n",
       "      <td>NaN</td>\n",
       "      <td>NaN</td>\n",
       "      <td>NaN</td>\n",
       "      <td>NaN</td>\n",
       "      <td>NaN</td>\n",
       "      <td>NaN</td>\n",
       "      <td>NaN</td>\n",
       "    </tr>\n",
       "    <tr>\n",
       "      <th>3</th>\n",
       "      <td>368737.0</td>\n",
       "      <td>KolkataIndia</td>\n",
       "      <td>India</td>\n",
       "      <td>NaN</td>\n",
       "      <td>NaN</td>\n",
       "      <td>NaN</td>\n",
       "      <td>NaN</td>\n",
       "      <td>NaN</td>\n",
       "      <td>NaN</td>\n",
       "      <td>NaN</td>\n",
       "      <td>NaN</td>\n",
       "    </tr>\n",
       "    <tr>\n",
       "      <th>4</th>\n",
       "      <td>9617.0</td>\n",
       "      <td>MonacoMonaco</td>\n",
       "      <td>Monaco</td>\n",
       "      <td>NaN</td>\n",
       "      <td>NaN</td>\n",
       "      <td>NaN</td>\n",
       "      <td>NaN</td>\n",
       "      <td>NaN</td>\n",
       "      <td>NaN</td>\n",
       "      <td>NaN</td>\n",
       "      <td>NaN</td>\n",
       "    </tr>\n",
       "  </tbody>\n",
       "</table>\n",
       "</div>"
      ],
      "text/plain": [
       "   artist_id                      area_match_x             area_match3  \\\n",
       "0   562672.0  LosAngelesCaliforniaUnitedStates  CaliforniaUnitedStates   \n",
       "1   210784.0                        TokyoJapan                   Japan   \n",
       "2   618288.0          EastDulwichUnitedKingdom           UnitedKingdom   \n",
       "3   368737.0                      KolkataIndia                   India   \n",
       "4     9617.0                      MonacoMonaco                  Monaco   \n",
       "\n",
       "   area_id area_name subdivision_name   country_name   latitude   longitude  \\\n",
       "0    266.0                 California  United States  36.778261 -119.417932   \n",
       "1      NaN       NaN              NaN            NaN        NaN         NaN   \n",
       "2      NaN       NaN              NaN            NaN        NaN         NaN   \n",
       "3      NaN       NaN              NaN            NaN        NaN         NaN   \n",
       "4      NaN       NaN              NaN            NaN        NaN         NaN   \n",
       "\n",
       "             area_match_y   area_match2  \n",
       "0  CaliforniaUnitedStates  UnitedStates  \n",
       "1                     NaN           NaN  \n",
       "2                     NaN           NaN  \n",
       "3                     NaN           NaN  \n",
       "4                     NaN           NaN  "
      ]
     },
     "execution_count": 49,
     "metadata": {},
     "output_type": "execute_result"
    }
   ],
   "source": [
    "#We can now match with our areas dataframe: first, for the US states with area_match3\n",
    "a = retrieved_origin1[['artist_id', 'area_match', 'area_match3']].copy()\n",
    "retrieved_coords1 = pd.merge(a, areas, how='left', left_on='area_match3', right_on='area_match')\n",
    "retrieved_coords1.head()"
   ]
  },
  {
   "cell_type": "code",
   "execution_count": 50,
   "metadata": {},
   "outputs": [],
   "source": [
    "first_match = retrieved_coords1[retrieved_coords1['latitude'].notnull()]\n",
    "to_drop = ['area_match_x', 'area_match_y','area_match2', 'area_match3']\n",
    "first_match.drop(labels=to_drop, axis=1, inplace=True)"
   ]
  },
  {
   "cell_type": "code",
   "execution_count": 51,
   "metadata": {},
   "outputs": [
    {
     "data": {
      "text/plain": [
       "4907"
      ]
     },
     "execution_count": 51,
     "metadata": {},
     "output_type": "execute_result"
    }
   ],
   "source": [
    "len(first_match)"
   ]
  },
  {
   "cell_type": "code",
   "execution_count": 52,
   "metadata": {},
   "outputs": [],
   "source": [
    "#Preparing the pending areas to match for the second round:\n",
    "b = retrieved_coords1[retrieved_coords1['latitude'].isnull()]\n",
    "pending_match = b[['artist_id', 'area_match_x', 'area_match3']].copy()"
   ]
  },
  {
   "cell_type": "code",
   "execution_count": 53,
   "metadata": {},
   "outputs": [
    {
     "data": {
      "text/html": [
       "<div>\n",
       "<style scoped>\n",
       "    .dataframe tbody tr th:only-of-type {\n",
       "        vertical-align: middle;\n",
       "    }\n",
       "\n",
       "    .dataframe tbody tr th {\n",
       "        vertical-align: top;\n",
       "    }\n",
       "\n",
       "    .dataframe thead th {\n",
       "        text-align: right;\n",
       "    }\n",
       "</style>\n",
       "<table border=\"1\" class=\"dataframe\">\n",
       "  <thead>\n",
       "    <tr style=\"text-align: right;\">\n",
       "      <th></th>\n",
       "      <th>artist_id</th>\n",
       "      <th>area_match_x</th>\n",
       "      <th>area_match3</th>\n",
       "      <th>area_id</th>\n",
       "      <th>area_name</th>\n",
       "      <th>subdivision_name</th>\n",
       "      <th>country_name</th>\n",
       "      <th>latitude</th>\n",
       "      <th>longitude</th>\n",
       "      <th>area_match</th>\n",
       "      <th>area_match2</th>\n",
       "    </tr>\n",
       "  </thead>\n",
       "  <tbody>\n",
       "    <tr>\n",
       "      <th>0</th>\n",
       "      <td>210784.0</td>\n",
       "      <td>TokyoJapan</td>\n",
       "      <td>Japan</td>\n",
       "      <td>NaN</td>\n",
       "      <td>NaN</td>\n",
       "      <td>NaN</td>\n",
       "      <td>NaN</td>\n",
       "      <td>NaN</td>\n",
       "      <td>NaN</td>\n",
       "      <td>NaN</td>\n",
       "      <td>NaN</td>\n",
       "    </tr>\n",
       "    <tr>\n",
       "      <th>1</th>\n",
       "      <td>618288.0</td>\n",
       "      <td>EastDulwichUnitedKingdom</td>\n",
       "      <td>UnitedKingdom</td>\n",
       "      <td>80655.0</td>\n",
       "      <td>East Dulwich</td>\n",
       "      <td>England</td>\n",
       "      <td>United Kingdom</td>\n",
       "      <td>52.355518</td>\n",
       "      <td>-1.174320</td>\n",
       "      <td>EastDulwichEnglandUnitedKingdom</td>\n",
       "      <td>EastDulwichUnitedKingdom</td>\n",
       "    </tr>\n",
       "    <tr>\n",
       "      <th>2</th>\n",
       "      <td>368737.0</td>\n",
       "      <td>KolkataIndia</td>\n",
       "      <td>India</td>\n",
       "      <td>5090.0</td>\n",
       "      <td>Kolkata</td>\n",
       "      <td>West Bengal</td>\n",
       "      <td>India</td>\n",
       "      <td>22.986757</td>\n",
       "      <td>87.854975</td>\n",
       "      <td>KolkataWestBengalIndia</td>\n",
       "      <td>KolkataIndia</td>\n",
       "    </tr>\n",
       "    <tr>\n",
       "      <th>3</th>\n",
       "      <td>9617.0</td>\n",
       "      <td>MonacoMonaco</td>\n",
       "      <td>Monaco</td>\n",
       "      <td>NaN</td>\n",
       "      <td>NaN</td>\n",
       "      <td>NaN</td>\n",
       "      <td>NaN</td>\n",
       "      <td>NaN</td>\n",
       "      <td>NaN</td>\n",
       "      <td>NaN</td>\n",
       "      <td>NaN</td>\n",
       "    </tr>\n",
       "    <tr>\n",
       "      <th>4</th>\n",
       "      <td>60474.0</td>\n",
       "      <td>ParisFrance</td>\n",
       "      <td>France</td>\n",
       "      <td>4434.0</td>\n",
       "      <td>Paris</td>\n",
       "      <td>Île-de-France</td>\n",
       "      <td>France</td>\n",
       "      <td>48.849920</td>\n",
       "      <td>2.637041</td>\n",
       "      <td>ParisÎle-de-FranceFrance</td>\n",
       "      <td>ParisFrance</td>\n",
       "    </tr>\n",
       "  </tbody>\n",
       "</table>\n",
       "</div>"
      ],
      "text/plain": [
       "   artist_id              area_match_x    area_match3  area_id     area_name  \\\n",
       "0   210784.0                TokyoJapan          Japan      NaN           NaN   \n",
       "1   618288.0  EastDulwichUnitedKingdom  UnitedKingdom  80655.0  East Dulwich   \n",
       "2   368737.0              KolkataIndia          India   5090.0       Kolkata   \n",
       "3     9617.0              MonacoMonaco         Monaco      NaN           NaN   \n",
       "4    60474.0               ParisFrance         France   4434.0         Paris   \n",
       "\n",
       "  subdivision_name    country_name   latitude  longitude  \\\n",
       "0              NaN             NaN        NaN        NaN   \n",
       "1          England  United Kingdom  52.355518  -1.174320   \n",
       "2      West Bengal           India  22.986757  87.854975   \n",
       "3              NaN             NaN        NaN        NaN   \n",
       "4    Île-de-France          France  48.849920   2.637041   \n",
       "\n",
       "                        area_match               area_match2  \n",
       "0                              NaN                       NaN  \n",
       "1  EastDulwichEnglandUnitedKingdom  EastDulwichUnitedKingdom  \n",
       "2           KolkataWestBengalIndia              KolkataIndia  \n",
       "3                              NaN                       NaN  \n",
       "4         ParisÎle-de-FranceFrance               ParisFrance  "
      ]
     },
     "execution_count": 53,
     "metadata": {},
     "output_type": "execute_result"
    }
   ],
   "source": [
    "#We can now match with our areas dataframe on area_match2:\n",
    "retrieved_coords2 = pd.merge(pending_match, areas, how='left', \\\n",
    "                             left_on='area_match_x', right_on='area_match2')\n",
    "retrieved_coords2.head()"
   ]
  },
  {
   "cell_type": "code",
   "execution_count": 54,
   "metadata": {},
   "outputs": [],
   "source": [
    "second_match = retrieved_coords2[retrieved_coords2['latitude'].notnull()]\n",
    "to_drop = ['area_match_x','area_match', 'area_match2', 'area_match3']\n",
    "second_match.drop(labels=to_drop, axis=1, inplace=True)"
   ]
  },
  {
   "cell_type": "code",
   "execution_count": 55,
   "metadata": {},
   "outputs": [
    {
     "data": {
      "text/plain": [
       "7238"
      ]
     },
     "execution_count": 55,
     "metadata": {},
     "output_type": "execute_result"
    }
   ],
   "source": [
    "len(second_match)"
   ]
  },
  {
   "cell_type": "code",
   "execution_count": 56,
   "metadata": {},
   "outputs": [
    {
     "data": {
      "text/html": [
       "<div>\n",
       "<style scoped>\n",
       "    .dataframe tbody tr th:only-of-type {\n",
       "        vertical-align: middle;\n",
       "    }\n",
       "\n",
       "    .dataframe tbody tr th {\n",
       "        vertical-align: top;\n",
       "    }\n",
       "\n",
       "    .dataframe thead th {\n",
       "        text-align: right;\n",
       "    }\n",
       "</style>\n",
       "<table border=\"1\" class=\"dataframe\">\n",
       "  <thead>\n",
       "    <tr style=\"text-align: right;\">\n",
       "      <th></th>\n",
       "      <th>artist_id</th>\n",
       "      <th>area_match_x</th>\n",
       "    </tr>\n",
       "  </thead>\n",
       "  <tbody>\n",
       "    <tr>\n",
       "      <th>0</th>\n",
       "      <td>210784.0</td>\n",
       "      <td>TokyoJapan</td>\n",
       "    </tr>\n",
       "    <tr>\n",
       "      <th>3</th>\n",
       "      <td>9617.0</td>\n",
       "      <td>MonacoMonaco</td>\n",
       "    </tr>\n",
       "    <tr>\n",
       "      <th>6</th>\n",
       "      <td>10238.0</td>\n",
       "      <td></td>\n",
       "    </tr>\n",
       "    <tr>\n",
       "      <th>8</th>\n",
       "      <td>187926.0</td>\n",
       "      <td></td>\n",
       "    </tr>\n",
       "    <tr>\n",
       "      <th>10</th>\n",
       "      <td>813033.0</td>\n",
       "      <td></td>\n",
       "    </tr>\n",
       "  </tbody>\n",
       "</table>\n",
       "</div>"
      ],
      "text/plain": [
       "    artist_id  area_match_x\n",
       "0    210784.0    TokyoJapan\n",
       "3      9617.0  MonacoMonaco\n",
       "6     10238.0              \n",
       "8    187926.0              \n",
       "10   813033.0              "
      ]
     },
     "execution_count": 56,
     "metadata": {},
     "output_type": "execute_result"
    }
   ],
   "source": [
    "c = retrieved_coords2[retrieved_coords2['latitude'].isnull()]\n",
    "pending_match2 = c[['artist_id', 'area_match_x']].copy()\n",
    "pending_match2.head()"
   ]
  },
  {
   "cell_type": "code",
   "execution_count": 57,
   "metadata": {},
   "outputs": [
    {
     "data": {
      "text/html": [
       "<div>\n",
       "<style scoped>\n",
       "    .dataframe tbody tr th:only-of-type {\n",
       "        vertical-align: middle;\n",
       "    }\n",
       "\n",
       "    .dataframe tbody tr th {\n",
       "        vertical-align: top;\n",
       "    }\n",
       "\n",
       "    .dataframe thead th {\n",
       "        text-align: right;\n",
       "    }\n",
       "</style>\n",
       "<table border=\"1\" class=\"dataframe\">\n",
       "  <thead>\n",
       "    <tr style=\"text-align: right;\">\n",
       "      <th></th>\n",
       "      <th>artist_id</th>\n",
       "      <th>area_match_x</th>\n",
       "      <th>area_id</th>\n",
       "      <th>area_name</th>\n",
       "      <th>subdivision_name</th>\n",
       "      <th>country_name</th>\n",
       "      <th>latitude</th>\n",
       "      <th>longitude</th>\n",
       "      <th>area_match</th>\n",
       "      <th>area_match2</th>\n",
       "    </tr>\n",
       "  </thead>\n",
       "  <tbody>\n",
       "    <tr>\n",
       "      <th>0</th>\n",
       "      <td>210784.0</td>\n",
       "      <td>TokyoJapan</td>\n",
       "      <td>397.0</td>\n",
       "      <td></td>\n",
       "      <td>Tokyo</td>\n",
       "      <td>Japan</td>\n",
       "      <td>35.676192</td>\n",
       "      <td>139.650311</td>\n",
       "      <td>TokyoJapan</td>\n",
       "      <td>Japan</td>\n",
       "    </tr>\n",
       "    <tr>\n",
       "      <th>1</th>\n",
       "      <td>9617.0</td>\n",
       "      <td>MonacoMonaco</td>\n",
       "      <td>NaN</td>\n",
       "      <td>NaN</td>\n",
       "      <td>NaN</td>\n",
       "      <td>NaN</td>\n",
       "      <td>NaN</td>\n",
       "      <td>NaN</td>\n",
       "      <td>NaN</td>\n",
       "      <td>NaN</td>\n",
       "    </tr>\n",
       "    <tr>\n",
       "      <th>2</th>\n",
       "      <td>10238.0</td>\n",
       "      <td></td>\n",
       "      <td>NaN</td>\n",
       "      <td>NaN</td>\n",
       "      <td>NaN</td>\n",
       "      <td>NaN</td>\n",
       "      <td>NaN</td>\n",
       "      <td>NaN</td>\n",
       "      <td>NaN</td>\n",
       "      <td>NaN</td>\n",
       "    </tr>\n",
       "    <tr>\n",
       "      <th>3</th>\n",
       "      <td>187926.0</td>\n",
       "      <td></td>\n",
       "      <td>NaN</td>\n",
       "      <td>NaN</td>\n",
       "      <td>NaN</td>\n",
       "      <td>NaN</td>\n",
       "      <td>NaN</td>\n",
       "      <td>NaN</td>\n",
       "      <td>NaN</td>\n",
       "      <td>NaN</td>\n",
       "    </tr>\n",
       "    <tr>\n",
       "      <th>4</th>\n",
       "      <td>813033.0</td>\n",
       "      <td></td>\n",
       "      <td>NaN</td>\n",
       "      <td>NaN</td>\n",
       "      <td>NaN</td>\n",
       "      <td>NaN</td>\n",
       "      <td>NaN</td>\n",
       "      <td>NaN</td>\n",
       "      <td>NaN</td>\n",
       "      <td>NaN</td>\n",
       "    </tr>\n",
       "  </tbody>\n",
       "</table>\n",
       "</div>"
      ],
      "text/plain": [
       "   artist_id  area_match_x  area_id area_name subdivision_name country_name  \\\n",
       "0   210784.0    TokyoJapan    397.0                      Tokyo        Japan   \n",
       "1     9617.0  MonacoMonaco      NaN       NaN              NaN          NaN   \n",
       "2    10238.0                    NaN       NaN              NaN          NaN   \n",
       "3   187926.0                    NaN       NaN              NaN          NaN   \n",
       "4   813033.0                    NaN       NaN              NaN          NaN   \n",
       "\n",
       "    latitude   longitude  area_match area_match2  \n",
       "0  35.676192  139.650311  TokyoJapan       Japan  \n",
       "1        NaN         NaN         NaN         NaN  \n",
       "2        NaN         NaN         NaN         NaN  \n",
       "3        NaN         NaN         NaN         NaN  \n",
       "4        NaN         NaN         NaN         NaN  "
      ]
     },
     "execution_count": 57,
     "metadata": {},
     "output_type": "execute_result"
    }
   ],
   "source": [
    "#We can now match with our areas dataframe on area_match_x:\n",
    "retrieved_coords3 = pd.merge(pending_match2, areas, how='left', left_on='area_match_x', right_on='area_match')\n",
    "retrieved_coords3.head()"
   ]
  },
  {
   "cell_type": "code",
   "execution_count": 58,
   "metadata": {},
   "outputs": [
    {
     "data": {
      "text/plain": [
       "artist_id               0\n",
       "area_match_x            0\n",
       "area_id             10082\n",
       "area_name           10082\n",
       "subdivision_name    10082\n",
       "country_name        10082\n",
       "latitude            10082\n",
       "longitude           10082\n",
       "area_match          10082\n",
       "area_match2         10082\n",
       "dtype: int64"
      ]
     },
     "execution_count": 58,
     "metadata": {},
     "output_type": "execute_result"
    }
   ],
   "source": [
    "retrieved_coords3.isnull().sum(axis=0)"
   ]
  },
  {
   "cell_type": "code",
   "execution_count": 59,
   "metadata": {},
   "outputs": [],
   "source": [
    "third_match = retrieved_coords3[retrieved_coords3['latitude'].notnull()]\n",
    "to_drop = ['area_match', 'area_match2']\n",
    "third_match.drop(labels=to_drop, axis=1, inplace=True)"
   ]
  },
  {
   "cell_type": "code",
   "execution_count": 60,
   "metadata": {},
   "outputs": [
    {
     "data": {
      "text/plain": [
       "607"
      ]
     },
     "execution_count": 60,
     "metadata": {},
     "output_type": "execute_result"
    }
   ],
   "source": [
    "len(third_match)"
   ]
  },
  {
   "cell_type": "code",
   "execution_count": 61,
   "metadata": {},
   "outputs": [
    {
     "data": {
      "text/html": [
       "<div>\n",
       "<style scoped>\n",
       "    .dataframe tbody tr th:only-of-type {\n",
       "        vertical-align: middle;\n",
       "    }\n",
       "\n",
       "    .dataframe tbody tr th {\n",
       "        vertical-align: top;\n",
       "    }\n",
       "\n",
       "    .dataframe thead th {\n",
       "        text-align: right;\n",
       "    }\n",
       "</style>\n",
       "<table border=\"1\" class=\"dataframe\">\n",
       "  <thead>\n",
       "    <tr style=\"text-align: right;\">\n",
       "      <th></th>\n",
       "      <th>artist_id</th>\n",
       "      <th>area_match_x</th>\n",
       "    </tr>\n",
       "  </thead>\n",
       "  <tbody>\n",
       "    <tr>\n",
       "      <th>1</th>\n",
       "      <td>9617.0</td>\n",
       "      <td>MonacoMonaco</td>\n",
       "    </tr>\n",
       "    <tr>\n",
       "      <th>2</th>\n",
       "      <td>10238.0</td>\n",
       "      <td></td>\n",
       "    </tr>\n",
       "    <tr>\n",
       "      <th>3</th>\n",
       "      <td>187926.0</td>\n",
       "      <td></td>\n",
       "    </tr>\n",
       "    <tr>\n",
       "      <th>4</th>\n",
       "      <td>813033.0</td>\n",
       "      <td></td>\n",
       "    </tr>\n",
       "    <tr>\n",
       "      <th>5</th>\n",
       "      <td>265728.0</td>\n",
       "      <td></td>\n",
       "    </tr>\n",
       "  </tbody>\n",
       "</table>\n",
       "</div>"
      ],
      "text/plain": [
       "   artist_id  area_match_x\n",
       "1     9617.0  MonacoMonaco\n",
       "2    10238.0              \n",
       "3   187926.0              \n",
       "4   813033.0              \n",
       "5   265728.0              "
      ]
     },
     "execution_count": 61,
     "metadata": {},
     "output_type": "execute_result"
    }
   ],
   "source": [
    "#What are the areas pending?\n",
    "pending_areas = retrieved_coords3[retrieved_coords3['latitude'].isnull()][['artist_id', 'area_match_x']].copy()\n",
    "pending_areas.head()"
   ]
  },
  {
   "cell_type": "code",
   "execution_count": 62,
   "metadata": {},
   "outputs": [],
   "source": [
    "#We define a function to insert a space before a word starting with capital letters:\n",
    "def spacer(text):\n",
    "    return re.sub(r'([A-Z])',r\" \\1\",text,re.MULTILINE)"
   ]
  },
  {
   "cell_type": "code",
   "execution_count": 63,
   "metadata": {},
   "outputs": [
    {
     "data": {
      "text/html": [
       "<div>\n",
       "<style scoped>\n",
       "    .dataframe tbody tr th:only-of-type {\n",
       "        vertical-align: middle;\n",
       "    }\n",
       "\n",
       "    .dataframe tbody tr th {\n",
       "        vertical-align: top;\n",
       "    }\n",
       "\n",
       "    .dataframe thead th {\n",
       "        text-align: right;\n",
       "    }\n",
       "</style>\n",
       "<table border=\"1\" class=\"dataframe\">\n",
       "  <thead>\n",
       "    <tr style=\"text-align: right;\">\n",
       "      <th></th>\n",
       "      <th>artist_id</th>\n",
       "      <th>area_match_x</th>\n",
       "      <th>list</th>\n",
       "    </tr>\n",
       "  </thead>\n",
       "  <tbody>\n",
       "    <tr>\n",
       "      <th>0</th>\n",
       "      <td>9617.0</td>\n",
       "      <td>MonacoMonaco</td>\n",
       "      <td>[Monaco, Monaco]</td>\n",
       "    </tr>\n",
       "    <tr>\n",
       "      <th>1</th>\n",
       "      <td>10238.0</td>\n",
       "      <td></td>\n",
       "      <td>[]</td>\n",
       "    </tr>\n",
       "    <tr>\n",
       "      <th>2</th>\n",
       "      <td>187926.0</td>\n",
       "      <td></td>\n",
       "      <td>[]</td>\n",
       "    </tr>\n",
       "    <tr>\n",
       "      <th>3</th>\n",
       "      <td>813033.0</td>\n",
       "      <td></td>\n",
       "      <td>[]</td>\n",
       "    </tr>\n",
       "    <tr>\n",
       "      <th>4</th>\n",
       "      <td>265728.0</td>\n",
       "      <td></td>\n",
       "      <td>[]</td>\n",
       "    </tr>\n",
       "  </tbody>\n",
       "</table>\n",
       "</div>"
      ],
      "text/plain": [
       "   artist_id  area_match_x              list\n",
       "0     9617.0  MonacoMonaco  [Monaco, Monaco]\n",
       "1    10238.0                              []\n",
       "2   187926.0                              []\n",
       "3   813033.0                              []\n",
       "4   265728.0                              []"
      ]
     },
     "execution_count": 63,
     "metadata": {},
     "output_type": "execute_result"
    }
   ],
   "source": [
    "#We split the elements in area_match_x:\n",
    "pending_areas.reset_index(drop=True, inplace=True)\n",
    "pending_areas['list'] = [spacer(pending_areas['area_match_x'][row]).split() for row in range(len(pending_areas))]\n",
    "pending_areas.head()"
   ]
  },
  {
   "cell_type": "code",
   "execution_count": 64,
   "metadata": {},
   "outputs": [
    {
     "name": "stderr",
     "output_type": "stream",
     "text": [
      "100%|██████████| 10082/10082 [00:04<00:00, 2318.70it/s]\n"
     ]
    }
   ],
   "source": [
    "#Remove empty rows:\n",
    "for i in tqdm.tqdm(range(len(pending_areas))):\n",
    "    if len(pending_areas['list'][i]) == 0:\n",
    "        pending_areas.drop(index=i, inplace=True)"
   ]
  },
  {
   "cell_type": "code",
   "execution_count": 65,
   "metadata": {},
   "outputs": [
    {
     "data": {
      "text/html": [
       "<div>\n",
       "<style scoped>\n",
       "    .dataframe tbody tr th:only-of-type {\n",
       "        vertical-align: middle;\n",
       "    }\n",
       "\n",
       "    .dataframe tbody tr th {\n",
       "        vertical-align: top;\n",
       "    }\n",
       "\n",
       "    .dataframe thead th {\n",
       "        text-align: right;\n",
       "    }\n",
       "</style>\n",
       "<table border=\"1\" class=\"dataframe\">\n",
       "  <thead>\n",
       "    <tr style=\"text-align: right;\">\n",
       "      <th></th>\n",
       "      <th>artist_id</th>\n",
       "      <th>area_match_x</th>\n",
       "      <th>list</th>\n",
       "      <th>first</th>\n",
       "      <th>country</th>\n",
       "    </tr>\n",
       "  </thead>\n",
       "  <tbody>\n",
       "    <tr>\n",
       "      <th>0</th>\n",
       "      <td>9617.0</td>\n",
       "      <td>MonacoMonaco</td>\n",
       "      <td>[Monaco, Monaco]</td>\n",
       "      <td>Monaco</td>\n",
       "      <td>Monaco</td>\n",
       "    </tr>\n",
       "    <tr>\n",
       "      <th>1</th>\n",
       "      <td>89675.0</td>\n",
       "      <td>JapanJapan</td>\n",
       "      <td>[Japan, Japan]</td>\n",
       "      <td>Japan</td>\n",
       "      <td>Japan</td>\n",
       "    </tr>\n",
       "    <tr>\n",
       "      <th>2</th>\n",
       "      <td>492317.0</td>\n",
       "      <td>JapanJapan</td>\n",
       "      <td>[Japan, Japan]</td>\n",
       "      <td>Japan</td>\n",
       "      <td>Japan</td>\n",
       "    </tr>\n",
       "    <tr>\n",
       "      <th>3</th>\n",
       "      <td>192540.0</td>\n",
       "      <td>PragueCzechia</td>\n",
       "      <td>[Prague, Czechia]</td>\n",
       "      <td>Prague</td>\n",
       "      <td>Czechia</td>\n",
       "    </tr>\n",
       "    <tr>\n",
       "      <th>4</th>\n",
       "      <td>40043.0</td>\n",
       "      <td>SriGanganagarIndia</td>\n",
       "      <td>[Sri, Ganganagar, India]</td>\n",
       "      <td>Sri</td>\n",
       "      <td>India</td>\n",
       "    </tr>\n",
       "  </tbody>\n",
       "</table>\n",
       "</div>"
      ],
      "text/plain": [
       "   artist_id        area_match_x                      list   first  country\n",
       "0     9617.0        MonacoMonaco          [Monaco, Monaco]  Monaco   Monaco\n",
       "1    89675.0          JapanJapan            [Japan, Japan]   Japan    Japan\n",
       "2   492317.0          JapanJapan            [Japan, Japan]   Japan    Japan\n",
       "3   192540.0       PragueCzechia         [Prague, Czechia]  Prague  Czechia\n",
       "4    40043.0  SriGanganagarIndia  [Sri, Ganganagar, India]     Sri    India"
      ]
     },
     "execution_count": 65,
     "metadata": {},
     "output_type": "execute_result"
    }
   ],
   "source": [
    "#Split the list in 2 columns:\n",
    "pending_areas.reset_index(drop=True, inplace=True)\n",
    "pending_areas['first'] = [pending_areas['list'][row][0]for row in range(len(pending_areas))]\n",
    "pending_areas['country'] = [pending_areas['list'][row][-1]for row in range(len(pending_areas))]\n",
    "pending_areas.head()"
   ]
  },
  {
   "cell_type": "markdown",
   "metadata": {},
   "source": [
    "For those rows, it looks like we only got the country (not enough detail for our visualization) or, in some cases, an area that hasn't been identified.\n",
    "\n",
    "Let's remove the rows for which we have only a country and try to retrieve the coordinates of the rest:"
   ]
  },
  {
   "cell_type": "code",
   "execution_count": 66,
   "metadata": {},
   "outputs": [
    {
     "name": "stderr",
     "output_type": "stream",
     "text": [
      "100%|██████████| 3889/3889 [00:00<00:00, 5905.60it/s]\n"
     ]
    }
   ],
   "source": [
    "#Remove rows for which first=country\n",
    "for i in tqdm.tqdm(range(len(pending_areas))):\n",
    "    if pending_areas['first'][i] == pending_areas['country'][i]:\n",
    "        pending_areas.drop(index=i, inplace=True)"
   ]
  },
  {
   "cell_type": "code",
   "execution_count": 67,
   "metadata": {},
   "outputs": [
    {
     "name": "stderr",
     "output_type": "stream",
     "text": [
      "100%|██████████| 2931/2931 [00:00<00:00, 37905.25it/s]\n"
     ]
    }
   ],
   "source": [
    "#Drop the rows that have United and Kingdom:\n",
    "pending_areas.reset_index(drop=True, inplace=True)\n",
    "for i in tqdm.tqdm(range(len(pending_areas))):\n",
    "    if pending_areas['first'][i] == 'United' and pending_areas['country'][i] == 'Kingdom':\n",
    "        pending_areas.drop(index=i, inplace=True)"
   ]
  },
  {
   "cell_type": "code",
   "execution_count": 68,
   "metadata": {},
   "outputs": [
    {
     "data": {
      "text/plain": [
       "2839"
      ]
     },
     "execution_count": 68,
     "metadata": {},
     "output_type": "execute_result"
    }
   ],
   "source": [
    "#How many do we have to identify?\n",
    "len(pending_areas)"
   ]
  },
  {
   "cell_type": "code",
   "execution_count": 69,
   "metadata": {},
   "outputs": [
    {
     "data": {
      "text/html": [
       "<div>\n",
       "<style scoped>\n",
       "    .dataframe tbody tr th:only-of-type {\n",
       "        vertical-align: middle;\n",
       "    }\n",
       "\n",
       "    .dataframe tbody tr th {\n",
       "        vertical-align: top;\n",
       "    }\n",
       "\n",
       "    .dataframe thead th {\n",
       "        text-align: right;\n",
       "    }\n",
       "</style>\n",
       "<table border=\"1\" class=\"dataframe\">\n",
       "  <thead>\n",
       "    <tr style=\"text-align: right;\">\n",
       "      <th></th>\n",
       "      <th>artist_id</th>\n",
       "      <th>area_match_x</th>\n",
       "      <th>list</th>\n",
       "      <th>first</th>\n",
       "      <th>country</th>\n",
       "    </tr>\n",
       "  </thead>\n",
       "  <tbody>\n",
       "    <tr>\n",
       "      <th>0</th>\n",
       "      <td>192540.0</td>\n",
       "      <td>PragueCzechia</td>\n",
       "      <td>[Prague, Czechia]</td>\n",
       "      <td>Prague</td>\n",
       "      <td>Czechia</td>\n",
       "    </tr>\n",
       "    <tr>\n",
       "      <th>1</th>\n",
       "      <td>40043.0</td>\n",
       "      <td>SriGanganagarIndia</td>\n",
       "      <td>[Sri, Ganganagar, India]</td>\n",
       "      <td>Sri</td>\n",
       "      <td>India</td>\n",
       "    </tr>\n",
       "    <tr>\n",
       "      <th>2</th>\n",
       "      <td>116590.0</td>\n",
       "      <td>ThebesGreece</td>\n",
       "      <td>[Thebes, Greece]</td>\n",
       "      <td>Thebes</td>\n",
       "      <td>Greece</td>\n",
       "    </tr>\n",
       "    <tr>\n",
       "      <th>3</th>\n",
       "      <td>220297.0</td>\n",
       "      <td>DoumpiaGreece</td>\n",
       "      <td>[Doumpia, Greece]</td>\n",
       "      <td>Doumpia</td>\n",
       "      <td>Greece</td>\n",
       "    </tr>\n",
       "    <tr>\n",
       "      <th>4</th>\n",
       "      <td>39678.0</td>\n",
       "      <td>PalaiokastritsaGreece</td>\n",
       "      <td>[Palaiokastritsa, Greece]</td>\n",
       "      <td>Palaiokastritsa</td>\n",
       "      <td>Greece</td>\n",
       "    </tr>\n",
       "  </tbody>\n",
       "</table>\n",
       "</div>"
      ],
      "text/plain": [
       "   artist_id           area_match_x                       list  \\\n",
       "0   192540.0          PragueCzechia          [Prague, Czechia]   \n",
       "1    40043.0     SriGanganagarIndia   [Sri, Ganganagar, India]   \n",
       "2   116590.0           ThebesGreece           [Thebes, Greece]   \n",
       "3   220297.0          DoumpiaGreece          [Doumpia, Greece]   \n",
       "4    39678.0  PalaiokastritsaGreece  [Palaiokastritsa, Greece]   \n",
       "\n",
       "             first  country  \n",
       "0           Prague  Czechia  \n",
       "1              Sri    India  \n",
       "2           Thebes   Greece  \n",
       "3          Doumpia   Greece  \n",
       "4  Palaiokastritsa   Greece  "
      ]
     },
     "execution_count": 69,
     "metadata": {},
     "output_type": "execute_result"
    }
   ],
   "source": [
    "pending_areas.head()"
   ]
  },
  {
   "cell_type": "code",
   "execution_count": 70,
   "metadata": {},
   "outputs": [
    {
     "data": {
      "text/html": [
       "<div>\n",
       "<style scoped>\n",
       "    .dataframe tbody tr th:only-of-type {\n",
       "        vertical-align: middle;\n",
       "    }\n",
       "\n",
       "    .dataframe tbody tr th {\n",
       "        vertical-align: top;\n",
       "    }\n",
       "\n",
       "    .dataframe thead th {\n",
       "        text-align: right;\n",
       "    }\n",
       "</style>\n",
       "<table border=\"1\" class=\"dataframe\">\n",
       "  <thead>\n",
       "    <tr style=\"text-align: right;\">\n",
       "      <th></th>\n",
       "      <th>artist_id</th>\n",
       "      <th>country</th>\n",
       "      <th>area_name</th>\n",
       "    </tr>\n",
       "  </thead>\n",
       "  <tbody>\n",
       "    <tr>\n",
       "      <th>0</th>\n",
       "      <td>192540.0</td>\n",
       "      <td>Czechia</td>\n",
       "      <td>Prague Czechia</td>\n",
       "    </tr>\n",
       "    <tr>\n",
       "      <th>1</th>\n",
       "      <td>40043.0</td>\n",
       "      <td>India</td>\n",
       "      <td>Sri Ganganagar India</td>\n",
       "    </tr>\n",
       "    <tr>\n",
       "      <th>2</th>\n",
       "      <td>116590.0</td>\n",
       "      <td>Greece</td>\n",
       "      <td>Thebes Greece</td>\n",
       "    </tr>\n",
       "    <tr>\n",
       "      <th>3</th>\n",
       "      <td>220297.0</td>\n",
       "      <td>Greece</td>\n",
       "      <td>Doumpia Greece</td>\n",
       "    </tr>\n",
       "    <tr>\n",
       "      <th>4</th>\n",
       "      <td>39678.0</td>\n",
       "      <td>Greece</td>\n",
       "      <td>Palaiokastritsa Greece</td>\n",
       "    </tr>\n",
       "  </tbody>\n",
       "</table>\n",
       "</div>"
      ],
      "text/plain": [
       "   artist_id  country                area_name\n",
       "0   192540.0  Czechia           Prague Czechia\n",
       "1    40043.0    India     Sri Ganganagar India\n",
       "2   116590.0   Greece            Thebes Greece\n",
       "3   220297.0   Greece           Doumpia Greece\n",
       "4    39678.0   Greece   Palaiokastritsa Greece"
      ]
     },
     "execution_count": 70,
     "metadata": {},
     "output_type": "execute_result"
    }
   ],
   "source": [
    "#Create a column with the area_match name well formatted:\n",
    "pending_areas.reset_index(drop=True, inplace=True)\n",
    "pending_areas['area_name'] = [spacer(pending_areas['area_match_x'][row]) for row in range(len(pending_areas))]\n",
    "pending_areas.drop(labels=['area_match_x', 'list', 'first'], axis=1, inplace=True)\n",
    "pending_areas.head()"
   ]
  },
  {
   "cell_type": "markdown",
   "metadata": {},
   "source": [
    "And now we use again our geocoding tool:\n",
    "\n",
    "If you want to follow the geocoding, please run the following commands (please note that the resulting file is provided):\n",
    "\n",
    "API_key = \"YOUR_API_KEY\"\n",
    "\n",
    "to_search = pending_areas['area_name'].values.tolist()\n",
    "\n",
    "coordinates = []\n",
    "\n",
    "start = time.time()\n",
    "\n",
    "for i in to_search:\n",
    "    \n",
    "    try:\n",
    "        result = Geocoder(api_key=API_key).geocode(i).coordinates\n",
    "        \n",
    "        coordinates.append(result)\n",
    "        \n",
    "    except:\n",
    "        result = np.nan\n",
    "        \n",
    "        coordinates.append(result)\n",
    "        \n",
    "    \n",
    "pending_areas['coordinates'] = coordinates\n",
    "\n",
    "pending_areas.to_csv('Google_API/pending_areas.csv',index=None, sep=\"\\t\")\n",
    "\n",
    "end = time.time()\n",
    "\n",
    "print((end-start)/60)\n",
    "\n",
    "pending_areas.head()"
   ]
  },
  {
   "cell_type": "markdown",
   "metadata": {},
   "source": [
    "#### Note: the above loop took 24 minutes to run in my computer."
   ]
  },
  {
   "cell_type": "code",
   "execution_count": 71,
   "metadata": {},
   "outputs": [
    {
     "data": {
      "text/html": [
       "<div>\n",
       "<style scoped>\n",
       "    .dataframe tbody tr th:only-of-type {\n",
       "        vertical-align: middle;\n",
       "    }\n",
       "\n",
       "    .dataframe tbody tr th {\n",
       "        vertical-align: top;\n",
       "    }\n",
       "\n",
       "    .dataframe thead th {\n",
       "        text-align: right;\n",
       "    }\n",
       "</style>\n",
       "<table border=\"1\" class=\"dataframe\">\n",
       "  <thead>\n",
       "    <tr style=\"text-align: right;\">\n",
       "      <th></th>\n",
       "      <th>artist_id</th>\n",
       "      <th>country</th>\n",
       "      <th>area_name</th>\n",
       "      <th>coordinates</th>\n",
       "    </tr>\n",
       "  </thead>\n",
       "  <tbody>\n",
       "    <tr>\n",
       "      <th>0</th>\n",
       "      <td>192540.0</td>\n",
       "      <td>Czechia</td>\n",
       "      <td>Prague Czechia</td>\n",
       "      <td>(50.0755381, 14.4378005)</td>\n",
       "    </tr>\n",
       "    <tr>\n",
       "      <th>1</th>\n",
       "      <td>40043.0</td>\n",
       "      <td>India</td>\n",
       "      <td>Sri Ganganagar India</td>\n",
       "      <td>(29.9038399, 73.87719009999999)</td>\n",
       "    </tr>\n",
       "    <tr>\n",
       "      <th>2</th>\n",
       "      <td>116590.0</td>\n",
       "      <td>Greece</td>\n",
       "      <td>Thebes Greece</td>\n",
       "      <td>(38.322579, 23.3204309)</td>\n",
       "    </tr>\n",
       "    <tr>\n",
       "      <th>3</th>\n",
       "      <td>220297.0</td>\n",
       "      <td>Greece</td>\n",
       "      <td>Doumpia Greece</td>\n",
       "      <td>(40.5123246, 23.3490202)</td>\n",
       "    </tr>\n",
       "    <tr>\n",
       "      <th>4</th>\n",
       "      <td>39678.0</td>\n",
       "      <td>Greece</td>\n",
       "      <td>Palaiokastritsa Greece</td>\n",
       "      <td>(39.6751982, 19.7081324)</td>\n",
       "    </tr>\n",
       "  </tbody>\n",
       "</table>\n",
       "</div>"
      ],
      "text/plain": [
       "   artist_id  country                area_name  \\\n",
       "0   192540.0  Czechia           Prague Czechia   \n",
       "1    40043.0    India     Sri Ganganagar India   \n",
       "2   116590.0   Greece            Thebes Greece   \n",
       "3   220297.0   Greece           Doumpia Greece   \n",
       "4    39678.0   Greece   Palaiokastritsa Greece   \n",
       "\n",
       "                       coordinates  \n",
       "0         (50.0755381, 14.4378005)  \n",
       "1  (29.9038399, 73.87719009999999)  \n",
       "2          (38.322579, 23.3204309)  \n",
       "3         (40.5123246, 23.3490202)  \n",
       "4         (39.6751982, 19.7081324)  "
      ]
     },
     "execution_count": 71,
     "metadata": {},
     "output_type": "execute_result"
    }
   ],
   "source": [
    "pending_areas = pd.read_csv('Data_in/Google_API/pending_areas.csv', header=0, sep=\"\\t\")\n",
    "pending_areas.head()"
   ]
  },
  {
   "cell_type": "code",
   "execution_count": 72,
   "metadata": {},
   "outputs": [],
   "source": [
    "#First, we drop the rows for which we didn't retrieve any coordinate:\n",
    "pending_areas.dropna(subset=['coordinates'], axis=0, inplace=True)"
   ]
  },
  {
   "cell_type": "code",
   "execution_count": 73,
   "metadata": {},
   "outputs": [],
   "source": [
    "#We split latitude and longitude:\n",
    "coords_df = pd.DataFrame(pending_areas['coordinates'].str.strip('()').str.split(',').values.tolist())"
   ]
  },
  {
   "cell_type": "code",
   "execution_count": 74,
   "metadata": {},
   "outputs": [
    {
     "data": {
      "text/html": [
       "<div>\n",
       "<style scoped>\n",
       "    .dataframe tbody tr th:only-of-type {\n",
       "        vertical-align: middle;\n",
       "    }\n",
       "\n",
       "    .dataframe tbody tr th {\n",
       "        vertical-align: top;\n",
       "    }\n",
       "\n",
       "    .dataframe thead th {\n",
       "        text-align: right;\n",
       "    }\n",
       "</style>\n",
       "<table border=\"1\" class=\"dataframe\">\n",
       "  <thead>\n",
       "    <tr style=\"text-align: right;\">\n",
       "      <th></th>\n",
       "      <th>0</th>\n",
       "      <th>1</th>\n",
       "    </tr>\n",
       "  </thead>\n",
       "  <tbody>\n",
       "    <tr>\n",
       "      <th>0</th>\n",
       "      <td>50.0755381</td>\n",
       "      <td>14.4378005</td>\n",
       "    </tr>\n",
       "    <tr>\n",
       "      <th>1</th>\n",
       "      <td>29.9038399</td>\n",
       "      <td>73.87719009999999</td>\n",
       "    </tr>\n",
       "    <tr>\n",
       "      <th>2</th>\n",
       "      <td>38.322579</td>\n",
       "      <td>23.3204309</td>\n",
       "    </tr>\n",
       "    <tr>\n",
       "      <th>3</th>\n",
       "      <td>40.5123246</td>\n",
       "      <td>23.3490202</td>\n",
       "    </tr>\n",
       "    <tr>\n",
       "      <th>4</th>\n",
       "      <td>39.6751982</td>\n",
       "      <td>19.7081324</td>\n",
       "    </tr>\n",
       "  </tbody>\n",
       "</table>\n",
       "</div>"
      ],
      "text/plain": [
       "            0                   1\n",
       "0  50.0755381          14.4378005\n",
       "1  29.9038399   73.87719009999999\n",
       "2   38.322579          23.3204309\n",
       "3  40.5123246          23.3490202\n",
       "4  39.6751982          19.7081324"
      ]
     },
     "execution_count": 74,
     "metadata": {},
     "output_type": "execute_result"
    }
   ],
   "source": [
    "coords_df.head()"
   ]
  },
  {
   "cell_type": "code",
   "execution_count": 75,
   "metadata": {},
   "outputs": [
    {
     "data": {
      "text/html": [
       "<div>\n",
       "<style scoped>\n",
       "    .dataframe tbody tr th:only-of-type {\n",
       "        vertical-align: middle;\n",
       "    }\n",
       "\n",
       "    .dataframe tbody tr th {\n",
       "        vertical-align: top;\n",
       "    }\n",
       "\n",
       "    .dataframe thead th {\n",
       "        text-align: right;\n",
       "    }\n",
       "</style>\n",
       "<table border=\"1\" class=\"dataframe\">\n",
       "  <thead>\n",
       "    <tr style=\"text-align: right;\">\n",
       "      <th></th>\n",
       "      <th>artist_id</th>\n",
       "      <th>country</th>\n",
       "      <th>area_name</th>\n",
       "      <th>coordinates</th>\n",
       "      <th>0</th>\n",
       "      <th>1</th>\n",
       "    </tr>\n",
       "  </thead>\n",
       "  <tbody>\n",
       "    <tr>\n",
       "      <th>0</th>\n",
       "      <td>192540.0</td>\n",
       "      <td>Czechia</td>\n",
       "      <td>Prague Czechia</td>\n",
       "      <td>(50.0755381, 14.4378005)</td>\n",
       "      <td>50.0755381</td>\n",
       "      <td>14.4378005</td>\n",
       "    </tr>\n",
       "    <tr>\n",
       "      <th>1</th>\n",
       "      <td>40043.0</td>\n",
       "      <td>India</td>\n",
       "      <td>Sri Ganganagar India</td>\n",
       "      <td>(29.9038399, 73.87719009999999)</td>\n",
       "      <td>29.9038399</td>\n",
       "      <td>73.87719009999999</td>\n",
       "    </tr>\n",
       "    <tr>\n",
       "      <th>2</th>\n",
       "      <td>116590.0</td>\n",
       "      <td>Greece</td>\n",
       "      <td>Thebes Greece</td>\n",
       "      <td>(38.322579, 23.3204309)</td>\n",
       "      <td>38.322579</td>\n",
       "      <td>23.3204309</td>\n",
       "    </tr>\n",
       "    <tr>\n",
       "      <th>3</th>\n",
       "      <td>220297.0</td>\n",
       "      <td>Greece</td>\n",
       "      <td>Doumpia Greece</td>\n",
       "      <td>(40.5123246, 23.3490202)</td>\n",
       "      <td>40.5123246</td>\n",
       "      <td>23.3490202</td>\n",
       "    </tr>\n",
       "    <tr>\n",
       "      <th>4</th>\n",
       "      <td>39678.0</td>\n",
       "      <td>Greece</td>\n",
       "      <td>Palaiokastritsa Greece</td>\n",
       "      <td>(39.6751982, 19.7081324)</td>\n",
       "      <td>39.6751982</td>\n",
       "      <td>19.7081324</td>\n",
       "    </tr>\n",
       "  </tbody>\n",
       "</table>\n",
       "</div>"
      ],
      "text/plain": [
       "   artist_id  country                area_name  \\\n",
       "0   192540.0  Czechia           Prague Czechia   \n",
       "1    40043.0    India     Sri Ganganagar India   \n",
       "2   116590.0   Greece            Thebes Greece   \n",
       "3   220297.0   Greece           Doumpia Greece   \n",
       "4    39678.0   Greece   Palaiokastritsa Greece   \n",
       "\n",
       "                       coordinates           0                   1  \n",
       "0         (50.0755381, 14.4378005)  50.0755381          14.4378005  \n",
       "1  (29.9038399, 73.87719009999999)  29.9038399   73.87719009999999  \n",
       "2          (38.322579, 23.3204309)   38.322579          23.3204309  \n",
       "3         (40.5123246, 23.3490202)  40.5123246          23.3490202  \n",
       "4         (39.6751982, 19.7081324)  39.6751982          19.7081324  "
      ]
     },
     "execution_count": 75,
     "metadata": {},
     "output_type": "execute_result"
    }
   ],
   "source": [
    "result = pd.concat([pending_areas, coords_df], axis=1, join_axes=[pending_areas.index])\n",
    "result.head()"
   ]
  },
  {
   "cell_type": "code",
   "execution_count": 76,
   "metadata": {},
   "outputs": [],
   "source": [
    "#Drop unnecessary column:\n",
    "result.drop(labels=['coordinates'], axis=1, inplace=True)\n",
    "#Change column name:\n",
    "result.rename(columns={'country':'country_name',0:'latitude', 1:'longitude'}, inplace=True)\n",
    "#Adding empty columns with same format that our matched dataframes:\n",
    "result['area_id'] = np.nan\n",
    "result['subdivision_name'] = np.nan"
   ]
  },
  {
   "cell_type": "code",
   "execution_count": 77,
   "metadata": {},
   "outputs": [
    {
     "data": {
      "text/html": [
       "<div>\n",
       "<style scoped>\n",
       "    .dataframe tbody tr th:only-of-type {\n",
       "        vertical-align: middle;\n",
       "    }\n",
       "\n",
       "    .dataframe tbody tr th {\n",
       "        vertical-align: top;\n",
       "    }\n",
       "\n",
       "    .dataframe thead th {\n",
       "        text-align: right;\n",
       "    }\n",
       "</style>\n",
       "<table border=\"1\" class=\"dataframe\">\n",
       "  <thead>\n",
       "    <tr style=\"text-align: right;\">\n",
       "      <th></th>\n",
       "      <th>artist_id</th>\n",
       "      <th>country_name</th>\n",
       "      <th>area_name</th>\n",
       "      <th>latitude</th>\n",
       "      <th>longitude</th>\n",
       "      <th>area_id</th>\n",
       "      <th>subdivision_name</th>\n",
       "    </tr>\n",
       "  </thead>\n",
       "  <tbody>\n",
       "    <tr>\n",
       "      <th>0</th>\n",
       "      <td>192540.0</td>\n",
       "      <td>Czechia</td>\n",
       "      <td>Prague Czechia</td>\n",
       "      <td>50.0755381</td>\n",
       "      <td>14.4378005</td>\n",
       "      <td>NaN</td>\n",
       "      <td>NaN</td>\n",
       "    </tr>\n",
       "    <tr>\n",
       "      <th>1</th>\n",
       "      <td>40043.0</td>\n",
       "      <td>India</td>\n",
       "      <td>Sri Ganganagar India</td>\n",
       "      <td>29.9038399</td>\n",
       "      <td>73.87719009999999</td>\n",
       "      <td>NaN</td>\n",
       "      <td>NaN</td>\n",
       "    </tr>\n",
       "    <tr>\n",
       "      <th>2</th>\n",
       "      <td>116590.0</td>\n",
       "      <td>Greece</td>\n",
       "      <td>Thebes Greece</td>\n",
       "      <td>38.322579</td>\n",
       "      <td>23.3204309</td>\n",
       "      <td>NaN</td>\n",
       "      <td>NaN</td>\n",
       "    </tr>\n",
       "    <tr>\n",
       "      <th>3</th>\n",
       "      <td>220297.0</td>\n",
       "      <td>Greece</td>\n",
       "      <td>Doumpia Greece</td>\n",
       "      <td>40.5123246</td>\n",
       "      <td>23.3490202</td>\n",
       "      <td>NaN</td>\n",
       "      <td>NaN</td>\n",
       "    </tr>\n",
       "    <tr>\n",
       "      <th>4</th>\n",
       "      <td>39678.0</td>\n",
       "      <td>Greece</td>\n",
       "      <td>Palaiokastritsa Greece</td>\n",
       "      <td>39.6751982</td>\n",
       "      <td>19.7081324</td>\n",
       "      <td>NaN</td>\n",
       "      <td>NaN</td>\n",
       "    </tr>\n",
       "  </tbody>\n",
       "</table>\n",
       "</div>"
      ],
      "text/plain": [
       "   artist_id country_name                area_name    latitude  \\\n",
       "0   192540.0      Czechia           Prague Czechia  50.0755381   \n",
       "1    40043.0        India     Sri Ganganagar India  29.9038399   \n",
       "2   116590.0       Greece            Thebes Greece   38.322579   \n",
       "3   220297.0       Greece           Doumpia Greece  40.5123246   \n",
       "4    39678.0       Greece   Palaiokastritsa Greece  39.6751982   \n",
       "\n",
       "            longitude  area_id  subdivision_name  \n",
       "0          14.4378005      NaN               NaN  \n",
       "1   73.87719009999999      NaN               NaN  \n",
       "2          23.3204309      NaN               NaN  \n",
       "3          23.3490202      NaN               NaN  \n",
       "4          19.7081324      NaN               NaN  "
      ]
     },
     "execution_count": 77,
     "metadata": {},
     "output_type": "execute_result"
    }
   ],
   "source": [
    "result.head()"
   ]
  },
  {
   "cell_type": "code",
   "execution_count": 78,
   "metadata": {},
   "outputs": [
    {
     "data": {
      "text/html": [
       "<div>\n",
       "<style scoped>\n",
       "    .dataframe tbody tr th:only-of-type {\n",
       "        vertical-align: middle;\n",
       "    }\n",
       "\n",
       "    .dataframe tbody tr th {\n",
       "        vertical-align: top;\n",
       "    }\n",
       "\n",
       "    .dataframe thead th {\n",
       "        text-align: right;\n",
       "    }\n",
       "</style>\n",
       "<table border=\"1\" class=\"dataframe\">\n",
       "  <thead>\n",
       "    <tr style=\"text-align: right;\">\n",
       "      <th></th>\n",
       "      <th>area_id</th>\n",
       "      <th>area_match_x</th>\n",
       "      <th>area_name</th>\n",
       "      <th>artist_id</th>\n",
       "      <th>country_name</th>\n",
       "      <th>latitude</th>\n",
       "      <th>longitude</th>\n",
       "      <th>subdivision_name</th>\n",
       "    </tr>\n",
       "  </thead>\n",
       "  <tbody>\n",
       "    <tr>\n",
       "      <th>0</th>\n",
       "      <td>266.0</td>\n",
       "      <td>NaN</td>\n",
       "      <td></td>\n",
       "      <td>562672.0</td>\n",
       "      <td>United States</td>\n",
       "      <td>36.7783</td>\n",
       "      <td>-119.418</td>\n",
       "      <td>California</td>\n",
       "    </tr>\n",
       "    <tr>\n",
       "      <th>1</th>\n",
       "      <td>276.0</td>\n",
       "      <td>NaN</td>\n",
       "      <td></td>\n",
       "      <td>119635.0</td>\n",
       "      <td>United States</td>\n",
       "      <td>40.6331</td>\n",
       "      <td>-89.3985</td>\n",
       "      <td>Illinois</td>\n",
       "    </tr>\n",
       "    <tr>\n",
       "      <th>2</th>\n",
       "      <td>295.0</td>\n",
       "      <td>NaN</td>\n",
       "      <td></td>\n",
       "      <td>523680.0</td>\n",
       "      <td>United States</td>\n",
       "      <td>40.7128</td>\n",
       "      <td>-74.006</td>\n",
       "      <td>New York</td>\n",
       "    </tr>\n",
       "    <tr>\n",
       "      <th>3</th>\n",
       "      <td>292.0</td>\n",
       "      <td>NaN</td>\n",
       "      <td></td>\n",
       "      <td>1037860.0</td>\n",
       "      <td>United States</td>\n",
       "      <td>40.0583</td>\n",
       "      <td>-74.4057</td>\n",
       "      <td>New Jersey</td>\n",
       "    </tr>\n",
       "    <tr>\n",
       "      <th>4</th>\n",
       "      <td>266.0</td>\n",
       "      <td>NaN</td>\n",
       "      <td></td>\n",
       "      <td>11108.0</td>\n",
       "      <td>United States</td>\n",
       "      <td>36.7783</td>\n",
       "      <td>-119.418</td>\n",
       "      <td>California</td>\n",
       "    </tr>\n",
       "  </tbody>\n",
       "</table>\n",
       "</div>"
      ],
      "text/plain": [
       "   area_id area_match_x area_name  artist_id   country_name latitude  \\\n",
       "0    266.0          NaN             562672.0  United States  36.7783   \n",
       "1    276.0          NaN             119635.0  United States  40.6331   \n",
       "2    295.0          NaN             523680.0  United States  40.7128   \n",
       "3    292.0          NaN            1037860.0  United States  40.0583   \n",
       "4    266.0          NaN              11108.0  United States  36.7783   \n",
       "\n",
       "  longitude subdivision_name  \n",
       "0  -119.418       California  \n",
       "1  -89.3985         Illinois  \n",
       "2   -74.006         New York  \n",
       "3  -74.4057       New Jersey  \n",
       "4  -119.418       California  "
      ]
     },
     "execution_count": 78,
     "metadata": {},
     "output_type": "execute_result"
    }
   ],
   "source": [
    "#Merging our 4 dataframes:\n",
    "all_retrieved = pd.concat([first_match, second_match, third_match, result], ignore_index=True)\n",
    "all_retrieved.head()"
   ]
  },
  {
   "cell_type": "code",
   "execution_count": 79,
   "metadata": {},
   "outputs": [],
   "source": [
    "#Drop duplicate artist_id:\n",
    "all_retrieved.drop_duplicates(subset='artist_id', keep='first', inplace=True)\n",
    "#And drop any row withour coordinates:\n",
    "all_retrieved.dropna(subset=['latitude'], axis=0, inplace=True)\n",
    "#Drop unnecessary column:\n",
    "all_retrieved.drop(labels=['area_match_x'], axis=1, inplace=True)"
   ]
  },
  {
   "cell_type": "markdown",
   "metadata": {},
   "source": [
    "Now that we have retrieved the maximum of coordinates for our pending artists, we can get all in a single file and input it in the last step of the notebook \"Data_gathering_release_origin\"."
   ]
  },
  {
   "cell_type": "code",
   "execution_count": 80,
   "metadata": {},
   "outputs": [
    {
     "data": {
      "text/plain": [
       "12608"
      ]
     },
     "execution_count": 80,
     "metadata": {},
     "output_type": "execute_result"
    }
   ],
   "source": [
    "#For how many artists did we retrieve the origin with Wikipedia?\n",
    "len(all_retrieved)"
   ]
  },
  {
   "cell_type": "code",
   "execution_count": 81,
   "metadata": {},
   "outputs": [],
   "source": [
    "#We can now export the dataframe and input it into our Data_gathering_releases_origin notebook as final step:\n",
    "all_retrieved.to_csv('Data_out/Wikipedia_retrieved_origins.csv', sep='\\t', index=False, encoding='utf-8')"
   ]
  },
  {
   "cell_type": "markdown",
   "metadata": {},
   "source": [
    "### 2) Music genres"
   ]
  },
  {
   "cell_type": "markdown",
   "metadata": {},
   "source": [
    "In this last step, we take the pending information from the notebook \"Data_gathering_music_genre\" and we try to retrieve it using our Wikipedia tool."
   ]
  },
  {
   "cell_type": "code",
   "execution_count": 82,
   "metadata": {},
   "outputs": [
    {
     "data": {
      "text/html": [
       "<div>\n",
       "<style scoped>\n",
       "    .dataframe tbody tr th:only-of-type {\n",
       "        vertical-align: middle;\n",
       "    }\n",
       "\n",
       "    .dataframe tbody tr th {\n",
       "        vertical-align: top;\n",
       "    }\n",
       "\n",
       "    .dataframe thead th {\n",
       "        text-align: right;\n",
       "    }\n",
       "</style>\n",
       "<table border=\"1\" class=\"dataframe\">\n",
       "  <thead>\n",
       "    <tr style=\"text-align: right;\">\n",
       "      <th></th>\n",
       "      <th>artist_id</th>\n",
       "      <th>artist_name</th>\n",
       "    </tr>\n",
       "  </thead>\n",
       "  <tbody>\n",
       "    <tr>\n",
       "      <th>0</th>\n",
       "      <td>26.0</td>\n",
       "      <td>Meg Lee Chin</td>\n",
       "    </tr>\n",
       "    <tr>\n",
       "      <th>1</th>\n",
       "      <td>68.0</td>\n",
       "      <td>Sarge</td>\n",
       "    </tr>\n",
       "    <tr>\n",
       "      <th>2</th>\n",
       "      <td>68.0</td>\n",
       "      <td>Sarge</td>\n",
       "    </tr>\n",
       "    <tr>\n",
       "      <th>3</th>\n",
       "      <td>332.0</td>\n",
       "      <td>Anton Karas</td>\n",
       "    </tr>\n",
       "    <tr>\n",
       "      <th>4</th>\n",
       "      <td>1313.0</td>\n",
       "      <td>Queen Ida</td>\n",
       "    </tr>\n",
       "  </tbody>\n",
       "</table>\n",
       "</div>"
      ],
      "text/plain": [
       "   artist_id   artist_name\n",
       "0       26.0  Meg Lee Chin\n",
       "1       68.0         Sarge\n",
       "2       68.0         Sarge\n",
       "3      332.0   Anton Karas\n",
       "4     1313.0     Queen Ida"
      ]
     },
     "execution_count": 82,
     "metadata": {},
     "output_type": "execute_result"
    }
   ],
   "source": [
    "genre_pending = pd.read_csv('Data_out/data_pending_2.csv', sep='\\t', header=0,usecols=[4,7], encoding='utf-8')\n",
    "genre_pending.head()"
   ]
  },
  {
   "cell_type": "markdown",
   "metadata": {},
   "source": [
    "In the first round, we retrieved already the genre for all the artists for which we didn't have the origin either. Let's see how many we searched:"
   ]
  },
  {
   "cell_type": "code",
   "execution_count": 83,
   "metadata": {},
   "outputs": [
    {
     "data": {
      "text/html": [
       "<div>\n",
       "<style scoped>\n",
       "    .dataframe tbody tr th:only-of-type {\n",
       "        vertical-align: middle;\n",
       "    }\n",
       "\n",
       "    .dataframe tbody tr th {\n",
       "        vertical-align: top;\n",
       "    }\n",
       "\n",
       "    .dataframe thead th {\n",
       "        text-align: right;\n",
       "    }\n",
       "</style>\n",
       "<table border=\"1\" class=\"dataframe\">\n",
       "  <thead>\n",
       "    <tr style=\"text-align: right;\">\n",
       "      <th></th>\n",
       "      <th>artist_id</th>\n",
       "      <th>count</th>\n",
       "      <th>name_formatted</th>\n",
       "      <th>birth_place</th>\n",
       "      <th>genre</th>\n",
       "    </tr>\n",
       "  </thead>\n",
       "  <tbody>\n",
       "    <tr>\n",
       "      <th>0</th>\n",
       "      <td>88814.0</td>\n",
       "      <td>298</td>\n",
       "      <td>Arthur Francis Collins</td>\n",
       "      <td>NaN</td>\n",
       "      <td>REDIRECT [[Arthur Collins (singer)</td>\n",
       "    </tr>\n",
       "    <tr>\n",
       "      <th>1</th>\n",
       "      <td>559517.0</td>\n",
       "      <td>267</td>\n",
       "      <td>The Cherry Blues Project</td>\n",
       "      <td>NaN</td>\n",
       "      <td>NaN</td>\n",
       "    </tr>\n",
       "    <tr>\n",
       "      <th>2</th>\n",
       "      <td>33800.0</td>\n",
       "      <td>260</td>\n",
       "      <td>Duke &amp; His Orchestra Ellington</td>\n",
       "      <td>NaN</td>\n",
       "      <td>NaN</td>\n",
       "    </tr>\n",
       "    <tr>\n",
       "      <th>3</th>\n",
       "      <td>562672.0</td>\n",
       "      <td>249</td>\n",
       "      <td>Vitamin String Quartet</td>\n",
       "      <td>[[Los Angeles, California]], United States</td>\n",
       "      <td>Rock music|Rock</td>\n",
       "    </tr>\n",
       "    <tr>\n",
       "      <th>4</th>\n",
       "      <td>102893.0</td>\n",
       "      <td>244</td>\n",
       "      <td>Die drei ???</td>\n",
       "      <td>NaN</td>\n",
       "      <td>NaN</td>\n",
       "    </tr>\n",
       "  </tbody>\n",
       "</table>\n",
       "</div>"
      ],
      "text/plain": [
       "   artist_id  count                  name_formatted  \\\n",
       "0    88814.0    298          Arthur Francis Collins   \n",
       "1   559517.0    267        The Cherry Blues Project   \n",
       "2    33800.0    260  Duke & His Orchestra Ellington   \n",
       "3   562672.0    249          Vitamin String Quartet   \n",
       "4   102893.0    244                    Die drei ???   \n",
       "\n",
       "                                  birth_place  \\\n",
       "0                                         NaN   \n",
       "1                                         NaN   \n",
       "2                                         NaN   \n",
       "3  [[Los Angeles, California]], United States   \n",
       "4                                         NaN   \n",
       "\n",
       "                                genre  \n",
       "0  REDIRECT [[Arthur Collins (singer)  \n",
       "1                                 NaN  \n",
       "2                                 NaN  \n",
       "3                     Rock music|Rock  \n",
       "4                                 NaN  "
      ]
     },
     "execution_count": 83,
     "metadata": {},
     "output_type": "execute_result"
    }
   ],
   "source": [
    "df.head()"
   ]
  },
  {
   "cell_type": "code",
   "execution_count": 84,
   "metadata": {},
   "outputs": [
    {
     "data": {
      "text/plain": [
       "296177"
      ]
     },
     "execution_count": 84,
     "metadata": {},
     "output_type": "execute_result"
    }
   ],
   "source": [
    "len(df)"
   ]
  },
  {
   "cell_type": "code",
   "execution_count": 85,
   "metadata": {},
   "outputs": [
    {
     "data": {
      "text/plain": [
       "94265"
      ]
     },
     "execution_count": 85,
     "metadata": {},
     "output_type": "execute_result"
    }
   ],
   "source": [
    "genre_pending.artist_id.nunique()"
   ]
  },
  {
   "cell_type": "code",
   "execution_count": 86,
   "metadata": {},
   "outputs": [],
   "source": [
    "genre_pending.drop_duplicates(subset='artist_id', keep='first', inplace=True)"
   ]
  },
  {
   "cell_type": "code",
   "execution_count": 87,
   "metadata": {},
   "outputs": [],
   "source": [
    "#We put the artist_ids on a list:\n",
    "already_searched = df.artist_id.values.tolist()"
   ]
  },
  {
   "cell_type": "markdown",
   "metadata": {},
   "source": [
    "What we want now is to identify the artists in genre_pending for which we already searched their genre, to avoid duplicating time and tasks."
   ]
  },
  {
   "cell_type": "code",
   "execution_count": 88,
   "metadata": {},
   "outputs": [],
   "source": [
    "pending_artists = genre_pending[~genre_pending['artist_id'].isin(already_searched)]"
   ]
  },
  {
   "cell_type": "code",
   "execution_count": 89,
   "metadata": {},
   "outputs": [
    {
     "data": {
      "text/plain": [
       "5101"
      ]
     },
     "execution_count": 89,
     "metadata": {},
     "output_type": "execute_result"
    }
   ],
   "source": [
    "#How many do we have to search for now?\n",
    "len(pending_artists)"
   ]
  },
  {
   "cell_type": "code",
   "execution_count": 92,
   "metadata": {},
   "outputs": [
    {
     "data": {
      "text/html": [
       "<div>\n",
       "<style scoped>\n",
       "    .dataframe tbody tr th:only-of-type {\n",
       "        vertical-align: middle;\n",
       "    }\n",
       "\n",
       "    .dataframe tbody tr th {\n",
       "        vertical-align: top;\n",
       "    }\n",
       "\n",
       "    .dataframe thead th {\n",
       "        text-align: right;\n",
       "    }\n",
       "</style>\n",
       "<table border=\"1\" class=\"dataframe\">\n",
       "  <thead>\n",
       "    <tr style=\"text-align: right;\">\n",
       "      <th></th>\n",
       "      <th>artist_id</th>\n",
       "      <th>artist_name</th>\n",
       "    </tr>\n",
       "  </thead>\n",
       "  <tbody>\n",
       "    <tr>\n",
       "      <th>22</th>\n",
       "      <td>3461.0</td>\n",
       "      <td>George Shearing</td>\n",
       "    </tr>\n",
       "    <tr>\n",
       "      <th>68</th>\n",
       "      <td>104164.0</td>\n",
       "      <td>Lincoln Mayorga</td>\n",
       "    </tr>\n",
       "    <tr>\n",
       "      <th>123</th>\n",
       "      <td>4276.0</td>\n",
       "      <td>Georgi Robev</td>\n",
       "    </tr>\n",
       "    <tr>\n",
       "      <th>142</th>\n",
       "      <td>494355.0</td>\n",
       "      <td>Ralph Blane</td>\n",
       "    </tr>\n",
       "    <tr>\n",
       "      <th>144</th>\n",
       "      <td>4356.0</td>\n",
       "      <td>Georges Delerue</td>\n",
       "    </tr>\n",
       "  </tbody>\n",
       "</table>\n",
       "</div>"
      ],
      "text/plain": [
       "     artist_id       artist_name\n",
       "22      3461.0   George Shearing\n",
       "68    104164.0   Lincoln Mayorga\n",
       "123     4276.0      Georgi Robev\n",
       "142   494355.0       Ralph Blane\n",
       "144     4356.0   Georges Delerue"
      ]
     },
     "execution_count": 92,
     "metadata": {},
     "output_type": "execute_result"
    }
   ],
   "source": [
    "pending_artists.head()"
   ]
  },
  {
   "cell_type": "markdown",
   "metadata": {},
   "source": [
    "Like we did in the first round, we are now going to search for these extra artists in Wikipedia:"
   ]
  },
  {
   "cell_type": "code",
   "execution_count": 97,
   "metadata": {
    "scrolled": false
   },
   "outputs": [],
   "source": [
    "splitdf_2nd(pending_artists) #We will have only 6 chunks this time"
   ]
  },
  {
   "cell_type": "code",
   "execution_count": 98,
   "metadata": {},
   "outputs": [
    {
     "name": "stderr",
     "output_type": "stream",
     "text": [
      "\r",
      "  0%|          | 0/1000 [00:00<?, ?it/s]"
     ]
    },
    {
     "name": "stdout",
     "output_type": "stream",
     "text": [
      "Starting with chunk 0: \n"
     ]
    },
    {
     "name": "stderr",
     "output_type": "stream",
     "text": [
      "100%|██████████| 1000/1000 [23:20<00:00,  1.10it/s]\n",
      "  0%|          | 0/1000 [00:00<?, ?it/s]"
     ]
    },
    {
     "name": "stdout",
     "output_type": "stream",
     "text": [
      "Starting with chunk 1: \n"
     ]
    },
    {
     "name": "stderr",
     "output_type": "stream",
     "text": [
      "100%|██████████| 1000/1000 [18:48<00:00,  1.02it/s]\n",
      "  0%|          | 0/1000 [00:00<?, ?it/s]"
     ]
    },
    {
     "name": "stdout",
     "output_type": "stream",
     "text": [
      "Starting with chunk 2: \n"
     ]
    },
    {
     "name": "stderr",
     "output_type": "stream",
     "text": [
      "100%|██████████| 1000/1000 [16:18<00:00,  1.07s/it]\n",
      "  0%|          | 0/1000 [00:00<?, ?it/s]"
     ]
    },
    {
     "name": "stdout",
     "output_type": "stream",
     "text": [
      "Starting with chunk 3: \n"
     ]
    },
    {
     "name": "stderr",
     "output_type": "stream",
     "text": [
      "100%|██████████| 1000/1000 [16:34<00:00,  1.14s/it]\n",
      "  0%|          | 0/1000 [00:00<?, ?it/s]"
     ]
    },
    {
     "name": "stdout",
     "output_type": "stream",
     "text": [
      "Starting with chunk 4: \n"
     ]
    },
    {
     "name": "stderr",
     "output_type": "stream",
     "text": [
      "100%|██████████| 1000/1000 [16:03<00:00,  1.03it/s]\n",
      "  0%|          | 0/101 [00:00<?, ?it/s]"
     ]
    },
    {
     "name": "stdout",
     "output_type": "stream",
     "text": [
      "Starting with chunk 5: \n"
     ]
    },
    {
     "name": "stderr",
     "output_type": "stream",
     "text": [
      "100%|██████████| 101/101 [01:31<00:00,  1.38it/s]\n"
     ]
    }
   ],
   "source": [
    "retrieve_metadata_second_round(0,6)"
   ]
  },
  {
   "cell_type": "markdown",
   "metadata": {},
   "source": [
    "### Importing all the retrieved information"
   ]
  },
  {
   "cell_type": "code",
   "execution_count": 99,
   "metadata": {},
   "outputs": [
    {
     "name": "stderr",
     "output_type": "stream",
     "text": [
      "100%|██████████| 5/5 [00:00<00:00, 314.34it/s]\n"
     ]
    }
   ],
   "source": [
    "#We retrieve all the information:\n",
    "concat_chunks_second_round(0,6)"
   ]
  },
  {
   "cell_type": "code",
   "execution_count": 100,
   "metadata": {},
   "outputs": [
    {
     "data": {
      "text/html": [
       "<div>\n",
       "<style scoped>\n",
       "    .dataframe tbody tr th:only-of-type {\n",
       "        vertical-align: middle;\n",
       "    }\n",
       "\n",
       "    .dataframe tbody tr th {\n",
       "        vertical-align: top;\n",
       "    }\n",
       "\n",
       "    .dataframe thead th {\n",
       "        text-align: right;\n",
       "    }\n",
       "</style>\n",
       "<table border=\"1\" class=\"dataframe\">\n",
       "  <thead>\n",
       "    <tr style=\"text-align: right;\">\n",
       "      <th></th>\n",
       "      <th>artist_id</th>\n",
       "      <th>artist_name</th>\n",
       "      <th>genre</th>\n",
       "    </tr>\n",
       "  </thead>\n",
       "  <tbody>\n",
       "    <tr>\n",
       "      <th>0</th>\n",
       "      <td>3461.0</td>\n",
       "      <td>George Shearing</td>\n",
       "      <td>Jazz</td>\n",
       "    </tr>\n",
       "    <tr>\n",
       "      <th>1</th>\n",
       "      <td>104164.0</td>\n",
       "      <td>Lincoln Mayorga</td>\n",
       "      <td>Pop music</td>\n",
       "    </tr>\n",
       "    <tr>\n",
       "      <th>2</th>\n",
       "      <td>4276.0</td>\n",
       "      <td>Georgi Robev</td>\n",
       "      <td>NaN</td>\n",
       "    </tr>\n",
       "    <tr>\n",
       "      <th>3</th>\n",
       "      <td>494355.0</td>\n",
       "      <td>Ralph Blane</td>\n",
       "      <td>Musical theatre</td>\n",
       "    </tr>\n",
       "    <tr>\n",
       "      <th>4</th>\n",
       "      <td>4356.0</td>\n",
       "      <td>Georges Delerue</td>\n",
       "      <td>Film score</td>\n",
       "    </tr>\n",
       "  </tbody>\n",
       "</table>\n",
       "</div>"
      ],
      "text/plain": [
       "   artist_id      artist_name            genre\n",
       "0     3461.0  George Shearing             Jazz\n",
       "1   104164.0  Lincoln Mayorga        Pop music\n",
       "2     4276.0     Georgi Robev              NaN\n",
       "3   494355.0      Ralph Blane  Musical theatre\n",
       "4     4356.0  Georges Delerue       Film score"
      ]
     },
     "execution_count": 100,
     "metadata": {},
     "output_type": "execute_result"
    }
   ],
   "source": [
    "df2 = pd.read_csv('Data_out/Wikipedia_chunks_all_second_round.csv', sep='\\t', header=0, usecols=[0,1,3], encoding='utf-8')\n",
    "df2.head()"
   ]
  },
  {
   "cell_type": "markdown",
   "metadata": {},
   "source": [
    "We have now all the information regarding music genres in our dataframes df and df2. We'll put them all together and identify the genres for all of them:"
   ]
  },
  {
   "cell_type": "code",
   "execution_count": 101,
   "metadata": {},
   "outputs": [],
   "source": [
    "df_copy = df[['artist_id', 'genre']].copy()"
   ]
  },
  {
   "cell_type": "code",
   "execution_count": 102,
   "metadata": {},
   "outputs": [
    {
     "data": {
      "text/html": [
       "<div>\n",
       "<style scoped>\n",
       "    .dataframe tbody tr th:only-of-type {\n",
       "        vertical-align: middle;\n",
       "    }\n",
       "\n",
       "    .dataframe tbody tr th {\n",
       "        vertical-align: top;\n",
       "    }\n",
       "\n",
       "    .dataframe thead th {\n",
       "        text-align: right;\n",
       "    }\n",
       "</style>\n",
       "<table border=\"1\" class=\"dataframe\">\n",
       "  <thead>\n",
       "    <tr style=\"text-align: right;\">\n",
       "      <th></th>\n",
       "      <th>artist_id</th>\n",
       "      <th>genre</th>\n",
       "    </tr>\n",
       "  </thead>\n",
       "  <tbody>\n",
       "    <tr>\n",
       "      <th>0</th>\n",
       "      <td>88814.0</td>\n",
       "      <td>REDIRECT [[Arthur Collins (singer)</td>\n",
       "    </tr>\n",
       "    <tr>\n",
       "      <th>1</th>\n",
       "      <td>559517.0</td>\n",
       "      <td>NaN</td>\n",
       "    </tr>\n",
       "    <tr>\n",
       "      <th>2</th>\n",
       "      <td>33800.0</td>\n",
       "      <td>NaN</td>\n",
       "    </tr>\n",
       "    <tr>\n",
       "      <th>3</th>\n",
       "      <td>562672.0</td>\n",
       "      <td>Rock music|Rock</td>\n",
       "    </tr>\n",
       "    <tr>\n",
       "      <th>4</th>\n",
       "      <td>102893.0</td>\n",
       "      <td>NaN</td>\n",
       "    </tr>\n",
       "  </tbody>\n",
       "</table>\n",
       "</div>"
      ],
      "text/plain": [
       "   artist_id                               genre\n",
       "0    88814.0  REDIRECT [[Arthur Collins (singer)\n",
       "1   559517.0                                 NaN\n",
       "2    33800.0                                 NaN\n",
       "3   562672.0                     Rock music|Rock\n",
       "4   102893.0                                 NaN"
      ]
     },
     "execution_count": 102,
     "metadata": {},
     "output_type": "execute_result"
    }
   ],
   "source": [
    "identify_genre = pd.concat([df_copy, df2[['artist_id', 'genre']].copy()], ignore_index=True)\n",
    "identify_genre.head()"
   ]
  },
  {
   "cell_type": "code",
   "execution_count": 103,
   "metadata": {},
   "outputs": [
    {
     "data": {
      "text/plain": [
       "105267"
      ]
     },
     "execution_count": 103,
     "metadata": {},
     "output_type": "execute_result"
    }
   ],
   "source": [
    "#We can directly drop the rows that contain null values:\n",
    "identify_genre.dropna(subset=['genre'], axis=0, inplace=True)\n",
    "len(identify_genre)"
   ]
  },
  {
   "cell_type": "code",
   "execution_count": 104,
   "metadata": {},
   "outputs": [
    {
     "data": {
      "text/plain": [
       "Jazz                                                                                                                                                                                                                                                                                                                                                                                                                                                                                                                                                                                                                                                                                                                                                                                                                                                                                                                                                                                                                                                                                                                                                                                                                                                                                                               1108\n",
       "Pop music|Pop                                                                                                                                                                                                                                                                                                                                                                                                                                                                                                                                                                                                                                                                                                                                                                                                                                                                                                                                                                                                                                                                                                                                                                                                                                                                                                      1078\n",
       "Hip hop music|Hip hop                                                                                                                                                                                                                                                                                                                                                                                                                                                                                                                                                                                                                                                                                                                                                                                                                                                                                                                                                                                                                                                                                                                                                                                                                                                                                               850\n",
       "Rock music|Rock                                                                                                                                                                                                                                                                                                                                                                                                                                                                                                                                                                                                                                                                                                                                                                                                                                                                                                                                                                                                                                                                                                                                                                                                                                                                                                     754\n",
       "Alternative rock                                                                                                                                                                                                                                                                                                                                                                                                                                                                                                                                                                                                                                                                                                                                                                                                                                                                                                                                                                                                                                                                                                                                                                                                                                                                                                    739\n",
       "Indie rock                                                                                                                                                                                                                                                                                                                                                                                                                                                                                                                                                                                                                                                                                                                                                                                                                                                                                                                                                                                                                                                                                                                                                                                                                                                                                                          499\n",
       "Folk music|Folk                                                                                                                                                                                                                                                                                                                                                                                                                                                                                                                                                                                                                                                                                                                                                                                                                                                                                                                                                                                                                                                                                                                                                                                                                                                                                                     369\n",
       "Country music|Country                                                                                                                                                                                                                                                                                                                                                                                                                                                                                                                                                                                                                                                                                                                                                                                                                                                                                                                                                                                                                                                                                                                                                                                                                                                                                               345\n",
       "Punk rock                                                                                                                                                                                                                                                                                                                                                                                                                                                                                                                                                                                                                                                                                                                                                                                                                                                                                                                                                                                                                                                                                                                                                                                                                                                                                                           334\n",
       "Hard rock                                                                                                                                                                                                                                                                                                                                                                                                                                                                                                                                                                                                                                                                                                                                                                                                                                                                                                                                                                                                                                                                                                                                                                                                                                                                                                           263\n",
       "J-pop                                                                                                                                                                                                                                                                                                                                                                                                                                                                                                                                                                                                                                                                                                                                                                                                                                                                                                                                                                                                                                                                                                                                                                                                                                                                                                               263\n",
       "Contemporary R&B|R&B                                                                                                                                                                                                                                                                                                                                                                                                                                                                                                                                                                                                                                                                                                                                                                                                                                                                                                                                                                                                                                                                                                                                                                                                                                                                                                242\n",
       "Electronic music|Electronic                                                                                                                                                                                                                                                                                                                                                                                                                                                                                                                                                                                                                                                                                                                                                                                                                                                                                                                                                                                                                                                                                                                                                                                                                                                                                         224\n",
       "Pop rock                                                                                                                                                                                                                                                                                                                                                                                                                                                                                                                                                                                                                                                                                                                                                                                                                                                                                                                                                                                                                                                                                                                                                                                                                                                                                                            212\n",
       "Indie pop                                                                                                                                                                                                                                                                                                                                                                                                                                                                                                                                                                                                                                                                                                                                                                                                                                                                                                                                                                                                                                                                                                                                                                                                                                                                                                           197\n",
       "Electronica                                                                                                                                                                                                                                                                                                                                                                                                                                                                                                                                                                                                                                                                                                                                                                                                                                                                                                                                                                                                                                                                                                                                                                                                                                                                                                         184\n",
       "Progressive rock                                                                                                                                                                                                                                                                                                                                                                                                                                                                                                                                                                                                                                                                                                                                                                                                                                                                                                                                                                                                                                                                                                                                                                                                                                                                                                    180\n",
       "Reggae                                                                                                                                                                                                                                                                                                                                                                                                                                                                                                                                                                                                                                                                                                                                                                                                                                                                                                                                                                                                                                                                                                                                                                                                                                                                                                              169\n",
       "Heavy metal music|Heavy metal                                                                                                                                                                                                                                                                                                                                                                                                                                                                                                                                                                                                                                                                                                                                                                                                                                                                                                                                                                                                                                                                                                                                                                                                                                                                                       161\n",
       "Classical music|Classical                                                                                                                                                                                                                                                                                                                                                                                                                                                                                                                                                                                                                                                                                                                                                                                                                                                                                                                                                                                                                                                                                                                                                                                                                                                                                           151\n",
       "Black metal                                                                                                                                                                                                                                                                                                                                                                                                                                                                                                                                                                                                                                                                                                                                                                                                                                                                                                                                                                                                                                                                                                                                                                                                                                                                                                         147\n",
       "Blues                                                                                                                                                                                                                                                                                                                                                                                                                                                                                                                                                                                                                                                                                                                                                                                                                                                                                                                                                                                                                                                                                                                                                                                                                                                                                                               143\n",
       "Film score                                                                                                                                                                                                                                                                                                                                                                                                                                                                                                                                                                                                                                                                                                                                                                                                                                                                                                                                                                                                                                                                                                                                                                                                                                                                                                          141\n",
       "Folk rock                                                                                                                                                                                                                                                                                                                                                                                                                                                                                                                                                                                                                                                                                                                                                                                                                                                                                                                                                                                                                                                                                                                                                                                                                                                                                                           133\n",
       "Post-punk                                                                                                                                                                                                                                                                                                                                                                                                                                                                                                                                                                                                                                                                                                                                                                                                                                                                                                                                                                                                                                                                                                                                                                                                                                                                                                           127\n",
       "Hardcore punk                                                                                                                                                                                                                                                                                                                                                                                                                                                                                                                                                                                                                                                                                                                                                                                                                                                                                                                                                                                                                                                                                                                                                                                                                                                                                                       123\n",
       "New wave music|New wave                                                                                                                                                                                                                                                                                                                                                                                                                                                                                                                                                                                                                                                                                                                                                                                                                                                                                                                                                                                                                                                                                                                                                                                                                                                                                             119\n",
       "House music|House                                                                                                                                                                                                                                                                                                                                                                                                                                                                                                                                                                                                                                                                                                                                                                                                                                                                                                                                                                                                                                                                                                                                                                                                                                                                                                   111\n",
       "Science fiction                                                                                                                                                                                                                                                                                                                                                                                                                                                                                                                                                                                                                                                                                                                                                                                                                                                                                                                                                                                                                                                                                                                                                                                                                                                                                                     110\n",
       "Death metal                                                                                                                                                                                                                                                                                                                                                                                                                                                                                                                                                                                                                                                                                                                                                                                                                                                                                                                                                                                                                                                                                                                                                                                                                                                                                                         104\n",
       "                                                                                                                                                                                                                                                                                                                                                                                                                                                                                                                                                                                                                                                                                                                                                                                                                                                                                                                                                                                                                                                                                                                                                                                                                                                                                                                   ... \n",
       "''Optik''' may refer to:\\n* [[Optik (journal)                                                                                                                                                                                                                                                                                                                                                                                                                                                                                                                                                                                                                                                                                                                                                                                                                                                                                                                                                                                                                                                                                                                                                                                                                                                                         1\n",
       "REDIRECT [[Lou and Peter Berryman                                                                                                                                                                                                                                                                                                                                                                                                                                                                                                                                                                                                                                                                                                                                                                                                                                                                                                                                                                                                                                                                                                                                                                                                                                                                                     1\n",
       "''Houk''' is a surname, and may refer to\\n\\n* [[George W. Houk                                                                                                                                                                                                                                                                                                                                                                                                                                                                                                                                                                                                                                                                                                                                                                                                                                                                                                                                                                                                                                                                                                                                                                                                                                                        1\n",
       "REDIRECT [[dyne:bolic                                                                                                                                                                                                                                                                                                                                                                                                                                                                                                                                                                                                                                                                                                                                                                                                                                                                                                                                                                                                                                                                                                                                                                                                                                                                                                 1\n",
       "{Infobox settlement\\n|official_name          = Batto\\n|native_name            =  <!-- for cities whose native name is not in English -->\\n|nickname               = \\n|settlement_type        = <!--For Town or Village (Leave blank for the default City)-->\\n|motto                  =\\n|image_skyline          = \\n|imagesize              = 300px\\n|image_caption          = \\n|image_flag             = \\n|flag_size              =\\n|image_seal             = \\n|seal_size              =\\n|image_shield           = \\n|shield_size            =\\n|image_blank_emblem     =\\n|blank_emblem_type      =\\n|blank_emblem_size      =\\n|image_map              = \\n|mapsize                = \\n|map_caption            = \\n|image_map1             = \\n|mapsize1               = \\n|map_caption1           = \\n|image_dot_map          =\\n|dot_mapsize            =\\n|dot_map_caption        =\\n|dot_x =  |dot_y =\\n|pushpin_map            = <!-- the name of a location map as per http://en.wikipedia.org/wiki/Template:Location_map -->\\n|pushpin_label_position =bottom\\n|pushpin_mapsize        =300\\n|pushpin_map_caption    =Location in Burkina Faso\\n|subdivision_type       = Country\\n|subdivision_name       = {{flag|Burkina Faso}}\\n|subdivision_type1      = [[Regions of Burkina Faso|Region       1\n",
       "REDIRECT [[Starling                                                                                                                                                                                                                                                                                                                                                                                                                                                                                                                                                                                                                                                                                                                                                                                                                                                                                                                                                                                                                                                                                                                                                                                                                                                                                                   1\n",
       "Folk Blues                                                                                                                                                                                                                                                                                                                                                                                                                                                                                                                                                                                                                                                                                                                                                                                                                                                                                                                                                                                                                                                                                                                                                                                                                                                                                                            1\n",
       "''Maurice Williams''' may refer to:\\n*[[Mo Williams                                                                                                                                                                                                                                                                                                                                                                                                                                                                                                                                                                                                                                                                                                                                                                                                                                                                                                                                                                                                                                                                                                                                                                                                                                                                   1\n",
       "{wiktionary|DIC|dic}}\\n'''DIC''' may refer to: \\n{{tocright}                                                                                                                                                                                                                                                                                                                                                                                                                                                                                                                                                                                                                                                                                                                                                                                                                                                                                                                                                                                                                                                                                                                                                                                                                                                          1\n",
       "{redirect|Nicholas Clegg|the British businessman and father of the politician|Nicholas P. Clegg}}\\n{{pp-semi-protected|small=yes}}\\n{{pp-move-indef}}\\n{{Use British English|date=May 2013}}\\n{{Use dmy dates|date=December 2018}}\\n{{Infobox officeholder\\n|honorific-prefix = [[The Right Honourable                                                                                                                                                                                                                                                                                                                                                                                                                                                                                                                                                                                                                                                                                                                                                                                                                                                                                                                                                                                                                1\n",
       "REDIRECT [[Repo Men                                                                                                                                                                                                                                                                                                                                                                                                                                                                                                                                                                                                                                                                                                                                                                                                                                                                                                                                                                                                                                                                                                                                                                                                                                                                                                   1\n",
       "{About|the film}}\\n{{Infobox film\\n| name = Ordinary People\\n| image = OrdinaryPeople.jpg\\n| caption = Theatrical release poster\\n| director = [[Robert Redford                                                                                                                                                                                                                                                                                                                                                                                                                                                                                                                                                                                                                                                                                                                                                                                                                                                                                                                                                                                                                                                                                                                                                       1\n",
       "{unreferenced|date=November 2010}}\\n{{Infobox given name2\\n| name            = Cormac\\n| image           =\\n| image_size      =\\n| caption         =\\n| pronunciation   =\\n| gender          = Masculine\\n| nameday         =\\n| language        = [[English language|English                                                                                                                                                                                                                                                                                                                                                                                                                                                                                                                                                                                                                                                                                                                                                                                                                                                                                                                                                                                                                                         1\n",
       "REDIRECT [[The Romeros                                                                                                                                                                                                                                                                                                                                                                                                                                                                                                                                                                                                                                                                                                                                                                                                                                                                                                                                                                                                                                                                                                                                                                                                                                                                                                1\n",
       "''Thomas Bacon'''  may refer to:\\n* [[Thomas Bacon (academic)                                                                                                                                                                                                                                                                                                                                                                                                                                                                                                                                                                                                                                                                                                                                                                                                                                                                                                                                                                                                                                                                                                                                                                                                                                                         1\n",
       "{otherpeople}}\\n'''William Wallace Lumpkin Glenn''' (August 12, 1914 &ndash; March 10, 2003) was an [[United States|American                                                                                                                                                                                                                                                                                                                                                                                                                                                                                                                                                                                                                                                                                                                                                                                                                                                                                                                                                                                                                                                                                                                                                                                          1\n",
       "Multiplayer video game|multiplayer                                                                                                                                                                                                                                                                                                                                                                                                                                                                                                                                                                                                                                                                                                                                                                                                                                                                                                                                                                                                                                                                                                                                                                                                                                                                                    1\n",
       "{BLP sources|date=November 2012}}\\n\\n{{Infobox musical artist\\n|background=non_performing_personnel\\n|name=Bruce Broughton\\n|birth_date ={{birth date and age|1945|3|8}}\\n|birth_place=[[Los Angeles, California                                                                                                                                                                                                                                                                                                                                                                                                                                                                                                                                                                                                                                                                                                                                                                                                                                                                                                                                                                                                                                                                                                      1\n",
       "ir '''Peter de Havilland''' (1747–1821), was [[Bailiff of Guernsey                                                                                                                                                                                                                                                                                                                                                                                                                                                                                                                                                                                                                                                                                                                                                                                                                                                                                                                                                                                                                                                                                                                                                                                                                                                    1\n",
       "{wiktionary|Dr|dr}}\\n'''DR''', '''Dr''' or '''dr''' may refer to:\\n* [[Doctor (title)                                                                                                                                                                                                                                                                                                                                                                                                                                                                                                                                                                                                                                                                                                                                                                                                                                                                                                                                                                                                                                                                                                                                                                                                                                 1\n",
       "arine Engineer '''Hans Lüdemann''' (died 1913) was a [[German Empire|German                                                                                                                                                                                                                                                                                                                                                                                                                                                                                                                                                                                                                                                                                                                                                                                                                                                                                                                                                                                                                                                                                                                                                                                                                                           1\n",
       "''Radogost''' or '''Radigost''' ([[Latinisation of names|latinized                                                                                                                                                                                                                                                                                                                                                                                                                                                                                                                                                                                                                                                                                                                                                                                                                                                                                                                                                                                                                                                                                                                                                                                                                                                    1\n",
       "REDIRECT [[Castrato                                                                                                                                                                                                                                                                                                                                                                                                                                                                                                                                                                                                                                                                                                                                                                                                                                                                                                                                                                                                                                                                                                                                                                                                                                                                                                   1\n",
       "''Richie Stephens''' may refer to:\\n\\n*[[Richie Stephens (actor)                                                                                                                                                                                                                                                                                                                                                                                                                                                                                                                                                                                                                                                                                                                                                                                                                                                                                                                                                                                                                                                                                                                                                                                                                                                      1\n",
       "[File:Joel Fan at piano.jpg|thumb|right|Joel Fan, pianist                                                                                                                                                                                                                                                                                                                                                                                                                                                                                                                                                                                                                                                                                                                                                                                                                                                                                                                                                                                                                                                                                                                                                                                                                                                             1\n",
       "REDIRECT [[Hymns from Nineveh                                                                                                                                                                                                                                                                                                                                                                                                                                                                                                                                                                                                                                                                                                                                                                                                                                                                                                                                                                                                                                                                                                                                                                                                                                                                                         1\n",
       "{short description|Vocal and pitch range above tenor and below soprano}}\\n{{other uses|Alto (disambiguation)}}\\nThe musical term '''alto''', meaning \"high\" in [[Wikt:alto#Italian|Italian                                                                                                                                                                                                                                                                                                                                                                                                                                                                                                                                                                                                                                                                                                                                                                                                                                                                                                                                                                                                                                                                                                                            1\n",
       "''Brusco''' is a surname. Notable people with the surname include:\\n\\n*[[Mitchie Brusco                                                                                                                                                                                                                                                                                                                                                                                                                                                                                                                                                                                                                                                                                                                                                                                                                                                                                                                                                                                                                                                                                                                                                                                                                               1\n",
       "REDIRECT [[John Steinbeck                                                                                                                                                                                                                                                                                                                                                                                                                                                                                                                                                                                                                                                                                                                                                                                                                                                                                                                                                                                                                                                                                                                                                                                                                                                                                             1\n",
       "''Rosenkranz''' is the [[German language|German                                                                                                                                                                                                                                                                                                                                                                                                                                                                                                                                                                                                                                                                                                                                                                                                                                                                                                                                                                                                                                                                                                                                                                                                                                                                       1\n",
       "Name: genre, Length: 71317, dtype: int64"
      ]
     },
     "execution_count": 104,
     "metadata": {},
     "output_type": "execute_result"
    }
   ],
   "source": [
    "#What type of information do we have in this genre column?\n",
    "identify_genre.genre.value_counts()"
   ]
  },
  {
   "cell_type": "markdown",
   "metadata": {},
   "source": [
    "We can see that the most common format when a music genre appears in the column \"genre is\" \"Genre music|Genre\", so we can identify the genre by splitting that string:"
   ]
  },
  {
   "cell_type": "code",
   "execution_count": 105,
   "metadata": {},
   "outputs": [],
   "source": [
    "identify_genre['genre_split'] = identify_genre['genre'].str.split('|')"
   ]
  },
  {
   "cell_type": "code",
   "execution_count": 106,
   "metadata": {},
   "outputs": [
    {
     "data": {
      "text/html": [
       "<div>\n",
       "<style scoped>\n",
       "    .dataframe tbody tr th:only-of-type {\n",
       "        vertical-align: middle;\n",
       "    }\n",
       "\n",
       "    .dataframe tbody tr th {\n",
       "        vertical-align: top;\n",
       "    }\n",
       "\n",
       "    .dataframe thead th {\n",
       "        text-align: right;\n",
       "    }\n",
       "</style>\n",
       "<table border=\"1\" class=\"dataframe\">\n",
       "  <thead>\n",
       "    <tr style=\"text-align: right;\">\n",
       "      <th></th>\n",
       "      <th>artist_id</th>\n",
       "      <th>genre</th>\n",
       "      <th>genre_split</th>\n",
       "    </tr>\n",
       "  </thead>\n",
       "  <tbody>\n",
       "    <tr>\n",
       "      <th>0</th>\n",
       "      <td>88814.0</td>\n",
       "      <td>REDIRECT [[Arthur Collins (singer)</td>\n",
       "      <td>[REDIRECT [[Arthur Collins (singer)]</td>\n",
       "    </tr>\n",
       "    <tr>\n",
       "      <th>1</th>\n",
       "      <td>562672.0</td>\n",
       "      <td>Rock</td>\n",
       "      <td>[Rock music, Rock]</td>\n",
       "    </tr>\n",
       "    <tr>\n",
       "      <th>2</th>\n",
       "      <td>1221150.0</td>\n",
       "      <td>''Daniel Alexander''' may refer to:\\n\\n* [[Dan...</td>\n",
       "      <td>[''Daniel Alexander''' may refer to:\\n\\n* [[Da...</td>\n",
       "    </tr>\n",
       "    <tr>\n",
       "      <th>3</th>\n",
       "      <td>505638.0</td>\n",
       "      <td>REDIRECT [[Senenmut</td>\n",
       "      <td>[REDIRECT [[Senenmut]</td>\n",
       "    </tr>\n",
       "    <tr>\n",
       "      <th>4</th>\n",
       "      <td>153755.0</td>\n",
       "      <td>C-pop</td>\n",
       "      <td>[C-pop]</td>\n",
       "    </tr>\n",
       "  </tbody>\n",
       "</table>\n",
       "</div>"
      ],
      "text/plain": [
       "   artist_id                                              genre  \\\n",
       "0    88814.0                 REDIRECT [[Arthur Collins (singer)   \n",
       "1   562672.0                                               Rock   \n",
       "2  1221150.0  ''Daniel Alexander''' may refer to:\\n\\n* [[Dan...   \n",
       "3   505638.0                                REDIRECT [[Senenmut   \n",
       "4   153755.0                                              C-pop   \n",
       "\n",
       "                                         genre_split  \n",
       "0               [REDIRECT [[Arthur Collins (singer)]  \n",
       "1                                 [Rock music, Rock]  \n",
       "2  [''Daniel Alexander''' may refer to:\\n\\n* [[Da...  \n",
       "3                              [REDIRECT [[Senenmut]  \n",
       "4                                            [C-pop]  "
      ]
     },
     "execution_count": 106,
     "metadata": {},
     "output_type": "execute_result"
    }
   ],
   "source": [
    "#We keep the last item of the list in \"genre_split\":\n",
    "identify_genre.reset_index(drop=True, inplace=True)\n",
    "identify_genre['genre'] = [identify_genre['genre_split'][row][-1] for row in range(len(identify_genre))]\n",
    "identify_genre.head()"
   ]
  },
  {
   "cell_type": "code",
   "execution_count": 107,
   "metadata": {},
   "outputs": [],
   "source": [
    "#We can now drop the \"genre_split\" column:\n",
    "identify_genre.drop(labels=['genre_split'], axis=1, inplace=True)"
   ]
  },
  {
   "cell_type": "markdown",
   "metadata": {},
   "source": [
    "Now, we'll use our \"Main_genre_list\" file to try to identify the music genres appearing in the column \"genre\":"
   ]
  },
  {
   "cell_type": "code",
   "execution_count": 108,
   "metadata": {},
   "outputs": [
    {
     "data": {
      "text/html": [
       "<div>\n",
       "<style scoped>\n",
       "    .dataframe tbody tr th:only-of-type {\n",
       "        vertical-align: middle;\n",
       "    }\n",
       "\n",
       "    .dataframe tbody tr th {\n",
       "        vertical-align: top;\n",
       "    }\n",
       "\n",
       "    .dataframe thead th {\n",
       "        text-align: right;\n",
       "    }\n",
       "</style>\n",
       "<table border=\"1\" class=\"dataframe\">\n",
       "  <thead>\n",
       "    <tr style=\"text-align: right;\">\n",
       "      <th></th>\n",
       "      <th>Main_genre</th>\n",
       "      <th>subgenre</th>\n",
       "    </tr>\n",
       "  </thead>\n",
       "  <tbody>\n",
       "    <tr>\n",
       "      <th>0</th>\n",
       "      <td>Blues</td>\n",
       "      <td>acoustic blues</td>\n",
       "    </tr>\n",
       "    <tr>\n",
       "      <th>1</th>\n",
       "      <td>Blues</td>\n",
       "      <td>african blues</td>\n",
       "    </tr>\n",
       "    <tr>\n",
       "      <th>2</th>\n",
       "      <td>Blues</td>\n",
       "      <td>blues</td>\n",
       "    </tr>\n",
       "    <tr>\n",
       "      <th>3</th>\n",
       "      <td>Blues</td>\n",
       "      <td>blues music</td>\n",
       "    </tr>\n",
       "    <tr>\n",
       "      <th>4</th>\n",
       "      <td>Blues</td>\n",
       "      <td>blues rock</td>\n",
       "    </tr>\n",
       "  </tbody>\n",
       "</table>\n",
       "</div>"
      ],
      "text/plain": [
       "  Main_genre        subgenre\n",
       "0      Blues  acoustic blues\n",
       "1      Blues   african blues\n",
       "2      Blues           blues\n",
       "3      Blues     blues music\n",
       "4      Blues      blues rock"
      ]
     },
     "execution_count": 108,
     "metadata": {},
     "output_type": "execute_result"
    }
   ],
   "source": [
    "all_genres = pd.read_csv('Data_in/Main_genre_list.csv', sep='\\t', header=0, encoding='utf-8')\n",
    "all_genres.head()"
   ]
  },
  {
   "cell_type": "code",
   "execution_count": 109,
   "metadata": {},
   "outputs": [
    {
     "data": {
      "text/html": [
       "<div>\n",
       "<style scoped>\n",
       "    .dataframe tbody tr th:only-of-type {\n",
       "        vertical-align: middle;\n",
       "    }\n",
       "\n",
       "    .dataframe tbody tr th {\n",
       "        vertical-align: top;\n",
       "    }\n",
       "\n",
       "    .dataframe thead th {\n",
       "        text-align: right;\n",
       "    }\n",
       "</style>\n",
       "<table border=\"1\" class=\"dataframe\">\n",
       "  <thead>\n",
       "    <tr style=\"text-align: right;\">\n",
       "      <th></th>\n",
       "      <th>artist_id</th>\n",
       "      <th>genre</th>\n",
       "    </tr>\n",
       "  </thead>\n",
       "  <tbody>\n",
       "    <tr>\n",
       "      <th>0</th>\n",
       "      <td>88814.0</td>\n",
       "      <td>redirect [[arthur collins (singer)</td>\n",
       "    </tr>\n",
       "    <tr>\n",
       "      <th>1</th>\n",
       "      <td>562672.0</td>\n",
       "      <td>rock</td>\n",
       "    </tr>\n",
       "    <tr>\n",
       "      <th>2</th>\n",
       "      <td>1221150.0</td>\n",
       "      <td>''daniel alexander''' may refer to:\\n\\n* [[dan...</td>\n",
       "    </tr>\n",
       "    <tr>\n",
       "      <th>3</th>\n",
       "      <td>505638.0</td>\n",
       "      <td>redirect [[senenmut</td>\n",
       "    </tr>\n",
       "    <tr>\n",
       "      <th>4</th>\n",
       "      <td>153755.0</td>\n",
       "      <td>c-pop</td>\n",
       "    </tr>\n",
       "  </tbody>\n",
       "</table>\n",
       "</div>"
      ],
      "text/plain": [
       "   artist_id                                              genre\n",
       "0    88814.0                 redirect [[arthur collins (singer)\n",
       "1   562672.0                                               rock\n",
       "2  1221150.0  ''daniel alexander''' may refer to:\\n\\n* [[dan...\n",
       "3   505638.0                                redirect [[senenmut\n",
       "4   153755.0                                              c-pop"
      ]
     },
     "execution_count": 109,
     "metadata": {},
     "output_type": "execute_result"
    }
   ],
   "source": [
    "#We lower the case in our identify_genre dataframe, in order to be able to match by name:\n",
    "identify_genre['genre'] = identify_genre['genre'].str.lower()\n",
    "identify_genre.head()"
   ]
  },
  {
   "cell_type": "code",
   "execution_count": 110,
   "metadata": {},
   "outputs": [
    {
     "data": {
      "text/html": [
       "<div>\n",
       "<style scoped>\n",
       "    .dataframe tbody tr th:only-of-type {\n",
       "        vertical-align: middle;\n",
       "    }\n",
       "\n",
       "    .dataframe tbody tr th {\n",
       "        vertical-align: top;\n",
       "    }\n",
       "\n",
       "    .dataframe thead th {\n",
       "        text-align: right;\n",
       "    }\n",
       "</style>\n",
       "<table border=\"1\" class=\"dataframe\">\n",
       "  <thead>\n",
       "    <tr style=\"text-align: right;\">\n",
       "      <th></th>\n",
       "      <th>artist_id</th>\n",
       "      <th>genre</th>\n",
       "      <th>Main_genre</th>\n",
       "      <th>subgenre</th>\n",
       "    </tr>\n",
       "  </thead>\n",
       "  <tbody>\n",
       "    <tr>\n",
       "      <th>0</th>\n",
       "      <td>88814.0</td>\n",
       "      <td>redirect [[arthur collins (singer)</td>\n",
       "      <td>NaN</td>\n",
       "      <td>NaN</td>\n",
       "    </tr>\n",
       "    <tr>\n",
       "      <th>1</th>\n",
       "      <td>562672.0</td>\n",
       "      <td>rock</td>\n",
       "      <td>Rock</td>\n",
       "      <td>rock</td>\n",
       "    </tr>\n",
       "    <tr>\n",
       "      <th>2</th>\n",
       "      <td>1221150.0</td>\n",
       "      <td>''daniel alexander''' may refer to:\\n\\n* [[dan...</td>\n",
       "      <td>NaN</td>\n",
       "      <td>NaN</td>\n",
       "    </tr>\n",
       "    <tr>\n",
       "      <th>3</th>\n",
       "      <td>505638.0</td>\n",
       "      <td>redirect [[senenmut</td>\n",
       "      <td>NaN</td>\n",
       "      <td>NaN</td>\n",
       "    </tr>\n",
       "    <tr>\n",
       "      <th>4</th>\n",
       "      <td>153755.0</td>\n",
       "      <td>c-pop</td>\n",
       "      <td>Pop</td>\n",
       "      <td>c-pop</td>\n",
       "    </tr>\n",
       "  </tbody>\n",
       "</table>\n",
       "</div>"
      ],
      "text/plain": [
       "   artist_id                                              genre Main_genre  \\\n",
       "0    88814.0                 redirect [[arthur collins (singer)        NaN   \n",
       "1   562672.0                                               rock       Rock   \n",
       "2  1221150.0  ''daniel alexander''' may refer to:\\n\\n* [[dan...        NaN   \n",
       "3   505638.0                                redirect [[senenmut        NaN   \n",
       "4   153755.0                                              c-pop        Pop   \n",
       "\n",
       "  subgenre  \n",
       "0      NaN  \n",
       "1     rock  \n",
       "2      NaN  \n",
       "3      NaN  \n",
       "4    c-pop  "
      ]
     },
     "execution_count": 110,
     "metadata": {},
     "output_type": "execute_result"
    }
   ],
   "source": [
    "#And we do the merging:\n",
    "genres_matched = pd.merge(identify_genre, all_genres, how='left', left_on='genre', right_on='subgenre')\n",
    "genres_matched.head()"
   ]
  },
  {
   "cell_type": "code",
   "execution_count": 111,
   "metadata": {},
   "outputs": [
    {
     "data": {
      "text/plain": [
       "17692"
      ]
     },
     "execution_count": 111,
     "metadata": {},
     "output_type": "execute_result"
    }
   ],
   "source": [
    "#How many did we identify?\n",
    "genres_matched.Main_genre.notnull().sum(axis=0)"
   ]
  },
  {
   "cell_type": "code",
   "execution_count": 112,
   "metadata": {},
   "outputs": [
    {
     "data": {
      "text/html": [
       "<div>\n",
       "<style scoped>\n",
       "    .dataframe tbody tr th:only-of-type {\n",
       "        vertical-align: middle;\n",
       "    }\n",
       "\n",
       "    .dataframe tbody tr th {\n",
       "        vertical-align: top;\n",
       "    }\n",
       "\n",
       "    .dataframe thead th {\n",
       "        text-align: right;\n",
       "    }\n",
       "</style>\n",
       "<table border=\"1\" class=\"dataframe\">\n",
       "  <thead>\n",
       "    <tr style=\"text-align: right;\">\n",
       "      <th></th>\n",
       "      <th>artist_id</th>\n",
       "      <th>Main_genre</th>\n",
       "      <th>subgenre</th>\n",
       "    </tr>\n",
       "  </thead>\n",
       "  <tbody>\n",
       "    <tr>\n",
       "      <th>1</th>\n",
       "      <td>562672.0</td>\n",
       "      <td>Rock</td>\n",
       "      <td>rock</td>\n",
       "    </tr>\n",
       "    <tr>\n",
       "      <th>4</th>\n",
       "      <td>153755.0</td>\n",
       "      <td>Pop</td>\n",
       "      <td>c-pop</td>\n",
       "    </tr>\n",
       "    <tr>\n",
       "      <th>8</th>\n",
       "      <td>279956.0</td>\n",
       "      <td>Pop</td>\n",
       "      <td>j-pop</td>\n",
       "    </tr>\n",
       "    <tr>\n",
       "      <th>10</th>\n",
       "      <td>210784.0</td>\n",
       "      <td>Rock</td>\n",
       "      <td>folk rock</td>\n",
       "    </tr>\n",
       "    <tr>\n",
       "      <th>15</th>\n",
       "      <td>35358.0</td>\n",
       "      <td>Pop</td>\n",
       "      <td>pop</td>\n",
       "    </tr>\n",
       "  </tbody>\n",
       "</table>\n",
       "</div>"
      ],
      "text/plain": [
       "    artist_id Main_genre   subgenre\n",
       "1    562672.0       Rock       rock\n",
       "4    153755.0        Pop      c-pop\n",
       "8    279956.0        Pop      j-pop\n",
       "10   210784.0       Rock  folk rock\n",
       "15    35358.0        Pop        pop"
      ]
     },
     "execution_count": 112,
     "metadata": {},
     "output_type": "execute_result"
    }
   ],
   "source": [
    "#We save that into a new dataframe:\n",
    "genres_retrieved = genres_matched[genres_matched['Main_genre'].notnull()]\n",
    "genres_retrieved.drop(labels=['genre'], axis=1, inplace=True)\n",
    "genres_retrieved.head()"
   ]
  },
  {
   "cell_type": "code",
   "execution_count": 113,
   "metadata": {},
   "outputs": [
    {
     "data": {
      "text/html": [
       "<div>\n",
       "<style scoped>\n",
       "    .dataframe tbody tr th:only-of-type {\n",
       "        vertical-align: middle;\n",
       "    }\n",
       "\n",
       "    .dataframe tbody tr th {\n",
       "        vertical-align: top;\n",
       "    }\n",
       "\n",
       "    .dataframe thead th {\n",
       "        text-align: right;\n",
       "    }\n",
       "</style>\n",
       "<table border=\"1\" class=\"dataframe\">\n",
       "  <thead>\n",
       "    <tr style=\"text-align: right;\">\n",
       "      <th></th>\n",
       "      <th>artist_id</th>\n",
       "      <th>genre</th>\n",
       "      <th>Main_genre</th>\n",
       "      <th>subgenre</th>\n",
       "    </tr>\n",
       "  </thead>\n",
       "  <tbody>\n",
       "    <tr>\n",
       "      <th>0</th>\n",
       "      <td>88814.0</td>\n",
       "      <td>redirect [[arthur collins (singer)</td>\n",
       "      <td>NaN</td>\n",
       "      <td>NaN</td>\n",
       "    </tr>\n",
       "    <tr>\n",
       "      <th>2</th>\n",
       "      <td>1221150.0</td>\n",
       "      <td>''daniel alexander''' may refer to:\\n\\n* [[dan...</td>\n",
       "      <td>NaN</td>\n",
       "      <td>NaN</td>\n",
       "    </tr>\n",
       "    <tr>\n",
       "      <th>3</th>\n",
       "      <td>505638.0</td>\n",
       "      <td>redirect [[senenmut</td>\n",
       "      <td>NaN</td>\n",
       "      <td>NaN</td>\n",
       "    </tr>\n",
       "    <tr>\n",
       "      <th>5</th>\n",
       "      <td>1338.0</td>\n",
       "      <td>film score</td>\n",
       "      <td>NaN</td>\n",
       "      <td>NaN</td>\n",
       "    </tr>\n",
       "    <tr>\n",
       "      <th>6</th>\n",
       "      <td>41636.0</td>\n",
       "      <td>redirect [[morning musume</td>\n",
       "      <td>NaN</td>\n",
       "      <td>NaN</td>\n",
       "    </tr>\n",
       "  </tbody>\n",
       "</table>\n",
       "</div>"
      ],
      "text/plain": [
       "   artist_id                                              genre Main_genre  \\\n",
       "0    88814.0                 redirect [[arthur collins (singer)        NaN   \n",
       "2  1221150.0  ''daniel alexander''' may refer to:\\n\\n* [[dan...        NaN   \n",
       "3   505638.0                                redirect [[senenmut        NaN   \n",
       "5     1338.0                                         film score        NaN   \n",
       "6    41636.0                          redirect [[morning musume        NaN   \n",
       "\n",
       "  subgenre  \n",
       "0      NaN  \n",
       "2      NaN  \n",
       "3      NaN  \n",
       "5      NaN  \n",
       "6      NaN  "
      ]
     },
     "execution_count": 113,
     "metadata": {},
     "output_type": "execute_result"
    }
   ],
   "source": [
    "#What do we have pending?\n",
    "genres_matched[genres_matched['Main_genre'].isnull()].head()"
   ]
  },
  {
   "cell_type": "markdown",
   "metadata": {},
   "source": [
    "It looks like these expressions don't provide us with much information about the artist genre. We'll now export the file with the retrieved genres and use it in the last step of \"Data_gathering_music_genre\" notebook:"
   ]
  },
  {
   "cell_type": "code",
   "execution_count": 114,
   "metadata": {},
   "outputs": [],
   "source": [
    "genres_retrieved.to_csv('Data_out/Wikipedia_genres_retrieved.csv', sep='\\t', index=False, encoding='utf-8')"
   ]
  }
 ],
 "metadata": {
  "kernelspec": {
   "display_name": "Python 3",
   "language": "python",
   "name": "python3"
  },
  "language_info": {
   "codemirror_mode": {
    "name": "ipython",
    "version": 3
   },
   "file_extension": ".py",
   "mimetype": "text/x-python",
   "name": "python",
   "nbconvert_exporter": "python",
   "pygments_lexer": "ipython3",
   "version": "3.7.2"
  }
 },
 "nbformat": 4,
 "nbformat_minor": 2
}
