{
 "cells": [
  {
   "cell_type": "code",
   "execution_count": 4,
   "metadata": {},
   "outputs": [],
   "source": [
    "#Please note that this is a Python 2 environment:\n",
    "import wikipedia\n",
    "import requests\n",
    "import json\n",
    "import wptools"
   ]
  },
  {
   "cell_type": "code",
   "execution_count": 5,
   "metadata": {},
   "outputs": [],
   "source": [
    "def read_wiki_page(wikipage):\n",
    "    url = \"https://en.wikipedia.org/w/api.php?action=query&prop=revisions&rvprop=content&rvsection=0&titles=\"+wikipage+\"&format=json\"\n",
    "    ret=\"\"\n",
    "    req={}\n",
    "    \n",
    "    req[\"action\"]=\"query\"\n",
    "    req[\"prop\"]=\"revisions\"\n",
    "    req[\"rvprop\"]=\"content\"\n",
    "    req[\"rvsection\"]=0\n",
    "    req[\"titles\"]=wikipage\n",
    "    req[\"format\"]=\"json\"\n",
    "    \n",
    "    \n",
    "    r=requests.post(url, data=req )\n",
    "    res = r.text\n",
    "    res=json.loads(str(res))\n",
    "    pages = res[\"query\"][\"pages\"]\n",
    "    for key, value in pages.items():\n",
    "        ret=value[\"revisions\"][0][\"*\"]\n",
    "    \n",
    "    return ret"
   ]
  },
  {
   "cell_type": "code",
   "execution_count": 6,
   "metadata": {},
   "outputs": [],
   "source": [
    "def read_birthplace(page): #If the artist is a person, we need the birth place, if it's a band, their origin\n",
    "    \n",
    "    if 'birth_place' in page:\n",
    "        pos_start=page.find('birth_place')\n",
    "        pos_equal=page.find(\"=\",pos_start)+1\n",
    "        pos_end=page.find(\"\\n\",pos_equal)\n",
    "        return str(page[pos_equal:pos_end])\n",
    "    elif 'origin' in page:\n",
    "        pos_start=page.find('origin')\n",
    "        pos_equal=page.find(\"[[\",pos_start)\n",
    "        pos_end=page.find(\"\\n\",pos_equal)\n",
    "        return str(page[pos_equal:pos_end])\n",
    "\n",
    "def extract_genre(page):\n",
    "    pos_start=page.find('genre')\n",
    "    pos_equal=page.find(\"[[\",pos_start)+2 #We extract the main genre for each artist\n",
    "    pos_end=page.find(\"|\",pos_equal)\n",
    "    \n",
    "    return str(page[pos_equal:pos_end])"
   ]
  },
  {
   "cell_type": "code",
   "execution_count": 7,
   "metadata": {},
   "outputs": [
    {
     "name": "stderr",
     "output_type": "stream",
     "text": [
      "en.wikipedia.org (query) Elton John\n",
      "en.wikipedia.org (query) Elton John (&plcontinue=5052197|0|Fatboy_Slim)\n",
      "en.wikipedia.org (query) Elton John (&plcontinue=5052197|0|Nation...\n",
      "en.wikipedia.org (query) Elton John (&plcontinue=5052197|0|Up_Whe...\n",
      "en.wikipedia.org (imageinfo) File:Elton John 2011 Shankbone 2.JPG\n",
      "Elton John (en) data\n",
      "{\n",
      "  WARNINGS: <dict(1)> extracts\n",
      "  aliases: <list(4)> 00042308022 IPI, Reg Dwight, Reginald Kenneth...\n",
      "  assessments: <dict(7)> England, Pop music, LGBT studies, Musical...\n",
      "  description: English rock singer-songwriter, composer and pianist\n",
      "  extext: <str(3491)> **Sir Elton Hercules John** (born **Reginald...\n",
      "  extract: <str(3679)> <p class=\"mw-empty-elt\"></p><p><b>Sir Elton...\n",
      "  image: <list(8)> {u'size': 1158513, 'kind': 'query-pageimage', u...\n",
      "  label: Elton John\n",
      "  length: 147,138\n",
      "  links: <list(1580)> (Everything I Do) I Do It for You, (I've Had...\n",
      "  modified: <dict(1)> page\n",
      "  pageid: 5052197\n",
      "  random: Hayters Hill, New South Wales\n",
      "  redirects: <list(32)> {u'ns': 0, u'pageid': 168386, u'title': u'...\n",
      "  requests: <list(5)> query, query, query, query, imageinfo\n",
      "  title: Elton John\n",
      "  url: https://en.wikipedia.org/wiki/Elton_John\n",
      "  url_raw: https://en.wikipedia.org/wiki/Elton_John?action=raw\n",
      "  watchers: 851\n",
      "  wikibase: Q2808\n",
      "  wikidata_url: https://www.wikidata.org/wiki/Q2808\n",
      "}\n"
     ]
    },
    {
     "data": {
      "text/plain": [
       "<wptools.page.WPToolsPage at 0x7fb888677e10>"
      ]
     },
     "execution_count": 7,
     "metadata": {},
     "output_type": "execute_result"
    }
   ],
   "source": [
    "page = wptools.page('Elton John')\n",
    "page.get_query()"
   ]
  },
  {
   "cell_type": "code",
   "execution_count": 8,
   "metadata": {},
   "outputs": [
    {
     "name": "stderr",
     "output_type": "stream",
     "text": [
      "www.wikidata.org (wikidata) Q2808\n",
      "www.wikidata.org (labels) P1375|P5121|P2267|P434|Q177220|Q1860|P4...\n",
      "www.wikidata.org (labels) P742|P2850|P3192|Q170027|P5284|Q6166964...\n",
      "www.wikidata.org (labels) P1207|P271|P3280|P358|P1828|Q855091|P63...\n",
      "www.wikidata.org (labels) P21|P910|P950|P2397|P734|Q7135347|P1477...\n",
      "+ query results in cache\n",
      "en.wikipedia.org (parse) 5052197\n",
      "en.wikipedia.org (restbase) /page/summary/Elton John\n",
      "en.wikipedia.org (imageinfo) File:Elton John 2011 Shankbone 2.JPG\n",
      "Elton John (en) data\n",
      "{\n",
      "  WARNINGS: <dict(1)> extracts\n",
      "  aliases: <list(4)> Reg Dwight, Sir Elton Hercules John, Reginald...\n",
      "  assessments: <dict(7)> England, Pop music, LGBT studies, Musical...\n",
      "  claims: <dict(114)> P646, P1375, P800, P2031, P2267, P434, P648,...\n",
      "  description: English rock singer-songwriter, composer and pianist\n",
      "  exhtml: <str(922)> <p><b>Sir Elton Hercules John</b> is an Engli...\n",
      "  exrest: <str(832)> Sir Elton Hercules John is an English singer,...\n",
      "  extext: <str(3491)> **Sir Elton Hercules John** (born **Reginald...\n",
      "  extract: <str(3679)> <p class=\"mw-empty-elt\"></p><p><b>Sir Elton...\n",
      "  image: <list(12)> {u'size': 1158513, 'kind': 'query-pageimage', ...\n",
      "  infobox: <dict(13)> name, honorific_suffix, image, module, capti...\n",
      "  iwlinks: <list(7)> https://commons.wikimedia.org/wiki/Special:Se...\n",
      "  label: Elton John\n",
      "  labels: <dict(176)> P1375, Q2482872, P2267, P434, Q177220, Q1860...\n",
      "  length: 147,138\n",
      "  links: <list(1580)> (Everything I Do) I Do It for You, (I've Had...\n",
      "  modified: <dict(2)> wikidata, page\n",
      "  pageid: 5052197\n",
      "  parsetree: <str(180778)> <root><template><title>about</title><pa...\n",
      "  random: Hayters Hill, New South Wales\n",
      "  redirects: <list(32)> {u'ns': 0, u'pageid': 168386, u'title': u'...\n",
      "  requests: <list(13)> query, query, query, query, imageinfo, wiki...\n",
      "  title: Elton_John\n",
      "  url: https://en.wikipedia.org/wiki/Elton John\n",
      "  url_raw: https://en.wikipedia.org/wiki/Elton John?action=raw\n",
      "  watchers: 851\n",
      "  what: human\n",
      "  wikibase: Q2808\n",
      "  wikidata: <dict(114)> SUDOC authorities ID (P269), discography (...\n",
      "  wikidata_pageid: 3790\n",
      "  wikidata_url: https://www.wikidata.org/wiki/Q2808\n",
      "  wikitext: <str(145908)> {{about||the footballer|Elton John (foot...\n",
      "}\n"
     ]
    },
    {
     "data": {
      "text/plain": [
       "<wptools.page.WPToolsPage at 0x7fb888677e10>"
      ]
     },
     "execution_count": 8,
     "metadata": {},
     "output_type": "execute_result"
    }
   ],
   "source": [
    "page.get()"
   ]
  },
  {
   "cell_type": "code",
   "execution_count": 97,
   "metadata": {},
   "outputs": [
    {
     "data": {
      "text/plain": [
       "'[[Liverpool]], England'"
      ]
     },
     "execution_count": 97,
     "metadata": {},
     "output_type": "execute_result"
    }
   ],
   "source": [
    "b =read_wiki_page('The Beatles')\n",
    "read_birthplace(b)"
   ]
  },
  {
   "cell_type": "code",
   "execution_count": 98,
   "metadata": {},
   "outputs": [
    {
     "data": {
      "text/plain": [
       "'Heavy metal music'"
      ]
     },
     "execution_count": 98,
     "metadata": {},
     "output_type": "execute_result"
    }
   ],
   "source": [
    "a =read_wiki_page('Metallica')\n",
    "extract_genre(a)"
   ]
  },
  {
   "cell_type": "code",
   "execution_count": 90,
   "metadata": {},
   "outputs": [
    {
     "data": {
      "text/plain": [
       "' [[Jerez de la Frontera]], [[Spain]]'"
      ]
     },
     "execution_count": 90,
     "metadata": {},
     "output_type": "execute_result"
    }
   ],
   "source": [
    "read_birthplace(page)"
   ]
  },
  {
   "cell_type": "code",
   "execution_count": 101,
   "metadata": {},
   "outputs": [
    {
     "data": {
      "text/plain": [
       "'Andalusia]]n folklore\\n'"
      ]
     },
     "execution_count": 101,
     "metadata": {},
     "output_type": "execute_result"
    }
   ],
   "source": [
    "extract_genre(page)"
   ]
  },
  {
   "cell_type": "code",
   "execution_count": 87,
   "metadata": {},
   "outputs": [],
   "source": [
    "a = read_infobox(page)"
   ]
  },
  {
   "cell_type": "code",
   "execution_count": 148,
   "metadata": {},
   "outputs": [
    {
     "data": {
      "text/plain": [
       "' [[St. Louis|St. Louis, Missouri]], U.S.'"
      ]
     },
     "execution_count": 148,
     "metadata": {},
     "output_type": "execute_result"
    }
   ],
   "source": [
    "read_birthplace(a)"
   ]
  },
  {
   "cell_type": "code",
   "execution_count": 149,
   "metadata": {},
   "outputs": [
    {
     "data": {
      "text/plain": [
       "' [[Tottenham]], London, England'"
      ]
     },
     "execution_count": 149,
     "metadata": {},
     "output_type": "execute_result"
    }
   ],
   "source": [
    "page=read_wiki_page(\"Adele\")\n",
    "read_birthplace(read_infobox(page))"
   ]
  },
  {
   "cell_type": "code",
   "execution_count": 122,
   "metadata": {},
   "outputs": [
    {
     "data": {
      "text/plain": [
       "u'{{Infobox musical artist <!-- See Wikipedia:WikiProject_Musicians -->\\n| embed            = yes\\n| background       = solo_singer\\n| instrument       = Guitar, vocals\\n| genre            = [[Rock and roll]]\\n| years_active     = 1953\\u20132016\\n| label            = {{hlist|[[Chess Records|Chess]]|[[Mercury Records|Mercury]]|[[Atco Records|Atco]]|[[Dualtone Records|Dualtone]]}}\\n| associated_acts  = {{hlist|[[Johnnie Johnson (musician)|Johnnie Johnson]]|[[T-Bone Walker]]|[[Muddy Waters]]}}\\n}'"
      ]
     },
     "execution_count": 122,
     "metadata": {},
     "output_type": "execute_result"
    }
   ],
   "source": [
    "get_music_infobox(page)"
   ]
  },
  {
   "cell_type": "code",
   "execution_count": 125,
   "metadata": {},
   "outputs": [
    {
     "data": {
      "text/plain": [
       "'Rock and roll'"
      ]
     },
     "execution_count": 125,
     "metadata": {},
     "output_type": "execute_result"
    }
   ],
   "source": [
    "extract_genre(page)"
   ]
  },
  {
   "cell_type": "code",
   "execution_count": 110,
   "metadata": {},
   "outputs": [],
   "source": [
    "page2 = read_wiki_page(\"Elvis Presley\")"
   ]
  },
  {
   "cell_type": "code",
   "execution_count": 114,
   "metadata": {},
   "outputs": [
    {
     "data": {
      "text/plain": [
       "u\"{{Infobox musical artist|embed=yes\\n | instrument   = {{flat list|\\n* Vocals\\n* guitar\\n* piano\\n}}<!--- If you think an instrument should be listed, a discussion to reach consensus is needed first per: https://en.wikipedia.org/wiki/Template:Infobox_musical_artist#instrument--->\\n | background   = solo_singer\\n | genre        = {{flat list|\\n* [[Rock and roll]]\\n* [[Pop music|pop]]\\n* [[rockabilly]]\\n* [[Country music|country]]\\n* [[blues]]\\n* [[Gospel music|gospel]]\\n* [[rhythm and blues]]\\n}}\\n | label        = {{flatlist|\\n* [[Sun Records|Sun]]\\n* [[RCA Records|RCA (Victor)]]\\n* [[His Master's Voice|HMV]]\\n}}\\n | years_active = 1953\\u20131977\\n | associated_acts = {{flatlist|\\n* [[The Blue Moon Boys]]\\n* [[The Jordanaires]]\\n* [[The Imperials]]\\n* [[Million Dollar Quartet]]\\n}}\\n}\""
      ]
     },
     "execution_count": 114,
     "metadata": {},
     "output_type": "execute_result"
    }
   ],
   "source": [
    "get_music_infobox(page2)"
   ]
  },
  {
   "cell_type": "code",
   "execution_count": 126,
   "metadata": {},
   "outputs": [
    {
     "data": {
      "text/plain": [
       "'Rock and roll'"
      ]
     },
     "execution_count": 126,
     "metadata": {},
     "output_type": "execute_result"
    }
   ],
   "source": [
    "extract_genre(page2)"
   ]
  },
  {
   "cell_type": "code",
   "execution_count": 168,
   "metadata": {},
   "outputs": [
    {
     "data": {
      "text/plain": [
       "u\"{{Infobox musical artist  <!-- See Wikipedia:WikiProject Musicians -->\\n| name           = Lola Flores\\n| image          = Estatua Lola Flores Jerez.jpg\\n| caption        = Monument in her hometown, [[Jerez de la Frontera]]\\n| background     = solo_singer\\n| birth_name     = Mar\\xeda Dolores Flores Ruiz\\n| alias          = ''La Faraona''\\n| birth_date     = 21 January 1923 \\n|birth_place     = [[Jerez de la Frontera]], [[Spain]]\\n| death_date     = {{Death date and age|1995|5|16|1923|1|21|df=y}}\\n|\""
      ]
     },
     "execution_count": 168,
     "metadata": {},
     "output_type": "execute_result"
    }
   ],
   "source": [
    "get_music_infobox(page)"
   ]
  },
  {
   "cell_type": "code",
   "execution_count": 75,
   "metadata": {},
   "outputs": [
    {
     "data": {
      "text/plain": [
       "u\"{{Infobox musical artist  <!-- See Wikipedia:WikiProject Musicians -->\\n| name           = Lola Flores\\n| image          = Estatua Lola Flores Jerez.jpg\\n| caption        = Monument in her hometown, [[Jerez de la Frontera]]\\n| background     = solo_singer\\n| birth_name     = Mar\\xeda Dolores Flores Ruiz\\n| alias          = ''La Faraona''\\n| birth_date     = 21 January 1923 \\n|birth_place     = [[Jerez de la Frontera]], [[Spain]]\\n| death_date     = {{Death date and age|1995|5|16|1923|1|21|df=y}}\\n|\""
      ]
     },
     "execution_count": 75,
     "metadata": {},
     "output_type": "execute_result"
    }
   ],
   "source": [
    "page = read_wiki_page(\"Lola Flores\")\n",
    "get_music_infobox(page)"
   ]
  },
  {
   "cell_type": "markdown",
   "metadata": {},
   "source": [
    "## Extracting data for a list of artists and time it"
   ]
  },
  {
   "cell_type": "code",
   "execution_count": 23,
   "metadata": {},
   "outputs": [],
   "source": [
    "import time\n",
    "import pandas as pd\n",
    "import numpy as np"
   ]
  },
  {
   "cell_type": "code",
   "execution_count": 99,
   "metadata": {},
   "outputs": [],
   "source": [
    "artist = [\"Lady Gaga\", \"Elton John\", \"Metallica\", \"Lola Flores\"]\n",
    "d = {'artist':artist}"
   ]
  },
  {
   "cell_type": "code",
   "execution_count": 100,
   "metadata": {},
   "outputs": [
    {
     "data": {
      "text/html": [
       "<div>\n",
       "<style scoped>\n",
       "    .dataframe tbody tr th:only-of-type {\n",
       "        vertical-align: middle;\n",
       "    }\n",
       "\n",
       "    .dataframe tbody tr th {\n",
       "        vertical-align: top;\n",
       "    }\n",
       "\n",
       "    .dataframe thead th {\n",
       "        text-align: right;\n",
       "    }\n",
       "</style>\n",
       "<table border=\"1\" class=\"dataframe\">\n",
       "  <thead>\n",
       "    <tr style=\"text-align: right;\">\n",
       "      <th></th>\n",
       "      <th>artist</th>\n",
       "    </tr>\n",
       "  </thead>\n",
       "  <tbody>\n",
       "    <tr>\n",
       "      <th>0</th>\n",
       "      <td>Lady Gaga</td>\n",
       "    </tr>\n",
       "    <tr>\n",
       "      <th>1</th>\n",
       "      <td>Elton John</td>\n",
       "    </tr>\n",
       "    <tr>\n",
       "      <th>2</th>\n",
       "      <td>Metallica</td>\n",
       "    </tr>\n",
       "    <tr>\n",
       "      <th>3</th>\n",
       "      <td>Lola Flores</td>\n",
       "    </tr>\n",
       "  </tbody>\n",
       "</table>\n",
       "</div>"
      ],
      "text/plain": [
       "        artist\n",
       "0    Lady Gaga\n",
       "1   Elton John\n",
       "2    Metallica\n",
       "3  Lola Flores"
      ]
     },
     "execution_count": 100,
     "metadata": {},
     "output_type": "execute_result"
    }
   ],
   "source": [
    "data = pd.DataFrame(d)\n",
    "data"
   ]
  },
  {
   "cell_type": "code",
   "execution_count": 95,
   "metadata": {},
   "outputs": [],
   "source": [
    "def retrieve_metadata(df=pd.DataFrame, serie=pd.Series):\n",
    "    \n",
    "    start = time.time()\n",
    "    birth_place = []\n",
    "    genre = []\n",
    "    \n",
    "    for i in serie:\n",
    "        try:\n",
    "            page = read_wiki_page(i)\n",
    "            birth_place.append(read_birthplace(page))\n",
    "            genre.append(extract_genre(page))\n",
    "        except:\n",
    "            birth_place.append(np.nan)\n",
    "            genre.append(np.nan)\n",
    "    \n",
    "    df['birth_place'] = birth_place\n",
    "    df['genre'] = genre\n",
    "\n",
    "    end = time.time()\n",
    "    print(end-start)\n",
    "    \n",
    "    return df"
   ]
  },
  {
   "cell_type": "code",
   "execution_count": 95,
   "metadata": {},
   "outputs": [],
   "source": [
    "def retrieve_metadata(artist):\n",
    "    \n",
    "    start = time.time()\n",
    "    birth_place = []\n",
    "    genre = []\n",
    "    \n",
    "    for i in serie:\n",
    "        try:\n",
    "            page = read_wiki_page(i)\n",
    "            birth_place.append(read_birthplace(page))\n",
    "            genre.append(extract_genre(page))\n",
    "        except:\n",
    "            birth_place.append(np.nan)\n",
    "            genre.append(np.nan)\n",
    "    \n",
    "    df['birth_place'] = birth_place\n",
    "    df['genre'] = genre\n",
    "\n",
    "    end = time.time()\n",
    "    print(end-start)\n",
    "    \n",
    "    return df"
   ]
  },
  {
   "cell_type": "code",
   "execution_count": 101,
   "metadata": {},
   "outputs": [
    {
     "name": "stdout",
     "output_type": "stream",
     "text": [
      "1.88408899307\n"
     ]
    },
    {
     "data": {
      "text/html": [
       "<div>\n",
       "<style scoped>\n",
       "    .dataframe tbody tr th:only-of-type {\n",
       "        vertical-align: middle;\n",
       "    }\n",
       "\n",
       "    .dataframe tbody tr th {\n",
       "        vertical-align: top;\n",
       "    }\n",
       "\n",
       "    .dataframe thead th {\n",
       "        text-align: right;\n",
       "    }\n",
       "</style>\n",
       "<table border=\"1\" class=\"dataframe\">\n",
       "  <thead>\n",
       "    <tr style=\"text-align: right;\">\n",
       "      <th></th>\n",
       "      <th>artist</th>\n",
       "      <th>birth_place</th>\n",
       "      <th>genre</th>\n",
       "    </tr>\n",
       "  </thead>\n",
       "  <tbody>\n",
       "    <tr>\n",
       "      <th>0</th>\n",
       "      <td>Lady Gaga</td>\n",
       "      <td>[[New York City]], [[New York (state)|New Yor...</td>\n",
       "      <td>Pop music</td>\n",
       "    </tr>\n",
       "    <tr>\n",
       "      <th>1</th>\n",
       "      <td>Elton John</td>\n",
       "      <td>[[Pinner]], [[Middlesex]], England</td>\n",
       "      <td>Rock music</td>\n",
       "    </tr>\n",
       "    <tr>\n",
       "      <th>2</th>\n",
       "      <td>Metallica</td>\n",
       "      <td>[[Los Angeles]], [[California]], U.S.</td>\n",
       "      <td>Heavy metal music</td>\n",
       "    </tr>\n",
       "    <tr>\n",
       "      <th>3</th>\n",
       "      <td>Lola Flores</td>\n",
       "      <td>[[Jerez de la Frontera]], [[Spain]]</td>\n",
       "      <td>Andalusia]]n folklore\\n</td>\n",
       "    </tr>\n",
       "  </tbody>\n",
       "</table>\n",
       "</div>"
      ],
      "text/plain": [
       "        artist                                        birth_place  \\\n",
       "0    Lady Gaga   [[New York City]], [[New York (state)|New Yor...   \n",
       "1   Elton John                 [[Pinner]], [[Middlesex]], England   \n",
       "2    Metallica              [[Los Angeles]], [[California]], U.S.   \n",
       "3  Lola Flores                [[Jerez de la Frontera]], [[Spain]]   \n",
       "\n",
       "                     genre  \n",
       "0                Pop music  \n",
       "1               Rock music  \n",
       "2        Heavy metal music  \n",
       "3  Andalusia]]n folklore\\n  "
      ]
     },
     "execution_count": 101,
     "metadata": {},
     "output_type": "execute_result"
    }
   ],
   "source": [
    "retrieve_metadata(data, data['artist'])"
   ]
  },
  {
   "cell_type": "code",
   "execution_count": 158,
   "metadata": {},
   "outputs": [
    {
     "name": "stdout",
     "output_type": "stream",
     "text": [
      "0.411010980606\n"
     ]
    }
   ],
   "source": [
    "start = time.time()\n",
    "read_wiki_page('Metallica')\n",
    "end = time.time()\n",
    "print(end-start)"
   ]
  },
  {
   "cell_type": "code",
   "execution_count": 11,
   "metadata": {},
   "outputs": [],
   "source": [
    "import multiprocessing as mp"
   ]
  },
  {
   "cell_type": "code",
   "execution_count": 31,
   "metadata": {},
   "outputs": [
    {
     "data": {
      "text/html": [
       "<div>\n",
       "<style scoped>\n",
       "    .dataframe tbody tr th:only-of-type {\n",
       "        vertical-align: middle;\n",
       "    }\n",
       "\n",
       "    .dataframe tbody tr th {\n",
       "        vertical-align: top;\n",
       "    }\n",
       "\n",
       "    .dataframe thead th {\n",
       "        text-align: right;\n",
       "    }\n",
       "</style>\n",
       "<table border=\"1\" class=\"dataframe\">\n",
       "  <thead>\n",
       "    <tr style=\"text-align: right;\">\n",
       "      <th></th>\n",
       "      <th>artist_id</th>\n",
       "      <th>artist_name</th>\n",
       "    </tr>\n",
       "  </thead>\n",
       "  <tbody>\n",
       "    <tr>\n",
       "      <th>0</th>\n",
       "      <td>805192</td>\n",
       "      <td>WIK▲N</td>\n",
       "    </tr>\n",
       "    <tr>\n",
       "      <th>1</th>\n",
       "      <td>371203</td>\n",
       "      <td>Moutso, Pete</td>\n",
       "    </tr>\n",
       "    <tr>\n",
       "      <th>2</th>\n",
       "      <td>273232</td>\n",
       "      <td>Zachary</td>\n",
       "    </tr>\n",
       "    <tr>\n",
       "      <th>3</th>\n",
       "      <td>101060</td>\n",
       "      <td>Silhouettes, The</td>\n",
       "    </tr>\n",
       "    <tr>\n",
       "      <th>4</th>\n",
       "      <td>145773</td>\n",
       "      <td>Leavitt, Aric</td>\n",
       "    </tr>\n",
       "  </tbody>\n",
       "</table>\n",
       "</div>"
      ],
      "text/plain": [
       "   artist_id       artist_name\n",
       "0     805192             WIK▲N\n",
       "1     371203      Moutso, Pete\n",
       "2     273232           Zachary\n",
       "3     101060  Silhouettes, The\n",
       "4     145773     Leavitt, Aric"
      ]
     },
     "execution_count": 31,
     "metadata": {},
     "output_type": "execute_result"
    }
   ],
   "source": [
    "artists = pd.read_csv('Musicbrainz/Tables_used/artist.txt',sep='\\t', header=None, engine='c', usecols=[0,3])\n",
    "artists.columns = ['artist_id','artist_name']\n",
    "artists.head()"
   ]
  },
  {
   "cell_type": "code",
   "execution_count": 67,
   "metadata": {},
   "outputs": [],
   "source": [
    "#For the search in Wikipedia to run, we need to format the artists name:\n",
    "\n",
    "def reverse(word):\n",
    "    \n",
    "    if ',' in word:\n",
    "        b = word.split(',')\n",
    "        rev = b[-1::-1]\n",
    "        out = ' '.join(rev)\n",
    "        return out\n",
    "    \n",
    "    else:\n",
    "        return word"
   ]
  },
  {
   "cell_type": "code",
   "execution_count": 76,
   "metadata": {},
   "outputs": [],
   "source": [
    "artists['name_formatted'] = artists['artist_name'].apply(lambda x: reverse(str(x)))"
   ]
  },
  {
   "cell_type": "code",
   "execution_count": 77,
   "metadata": {},
   "outputs": [
    {
     "data": {
      "text/html": [
       "<div>\n",
       "<style scoped>\n",
       "    .dataframe tbody tr th:only-of-type {\n",
       "        vertical-align: middle;\n",
       "    }\n",
       "\n",
       "    .dataframe tbody tr th {\n",
       "        vertical-align: top;\n",
       "    }\n",
       "\n",
       "    .dataframe thead th {\n",
       "        text-align: right;\n",
       "    }\n",
       "</style>\n",
       "<table border=\"1\" class=\"dataframe\">\n",
       "  <thead>\n",
       "    <tr style=\"text-align: right;\">\n",
       "      <th></th>\n",
       "      <th>artist_id</th>\n",
       "      <th>artist_name</th>\n",
       "      <th>name_formatted</th>\n",
       "    </tr>\n",
       "  </thead>\n",
       "  <tbody>\n",
       "    <tr>\n",
       "      <th>0</th>\n",
       "      <td>805192</td>\n",
       "      <td>WIK▲N</td>\n",
       "      <td>WIK▲N</td>\n",
       "    </tr>\n",
       "    <tr>\n",
       "      <th>1</th>\n",
       "      <td>371203</td>\n",
       "      <td>Moutso, Pete</td>\n",
       "      <td>Pete Moutso</td>\n",
       "    </tr>\n",
       "    <tr>\n",
       "      <th>2</th>\n",
       "      <td>273232</td>\n",
       "      <td>Zachary</td>\n",
       "      <td>Zachary</td>\n",
       "    </tr>\n",
       "    <tr>\n",
       "      <th>3</th>\n",
       "      <td>101060</td>\n",
       "      <td>Silhouettes, The</td>\n",
       "      <td>The Silhouettes</td>\n",
       "    </tr>\n",
       "    <tr>\n",
       "      <th>4</th>\n",
       "      <td>145773</td>\n",
       "      <td>Leavitt, Aric</td>\n",
       "      <td>Aric Leavitt</td>\n",
       "    </tr>\n",
       "  </tbody>\n",
       "</table>\n",
       "</div>"
      ],
      "text/plain": [
       "   artist_id       artist_name    name_formatted\n",
       "0     805192             WIK▲N             WIK▲N\n",
       "1     371203      Moutso, Pete       Pete Moutso\n",
       "2     273232           Zachary           Zachary\n",
       "3     101060  Silhouettes, The   The Silhouettes\n",
       "4     145773     Leavitt, Aric      Aric Leavitt"
      ]
     },
     "execution_count": 77,
     "metadata": {},
     "output_type": "execute_result"
    }
   ],
   "source": [
    "artists.head()"
   ]
  },
  {
   "cell_type": "code",
   "execution_count": 115,
   "metadata": {},
   "outputs": [
    {
     "data": {
      "text/html": [
       "<div>\n",
       "<style scoped>\n",
       "    .dataframe tbody tr th:only-of-type {\n",
       "        vertical-align: middle;\n",
       "    }\n",
       "\n",
       "    .dataframe tbody tr th {\n",
       "        vertical-align: top;\n",
       "    }\n",
       "\n",
       "    .dataframe thead th {\n",
       "        text-align: right;\n",
       "    }\n",
       "</style>\n",
       "<table border=\"1\" class=\"dataframe\">\n",
       "  <thead>\n",
       "    <tr style=\"text-align: right;\">\n",
       "      <th></th>\n",
       "      <th>artist_id</th>\n",
       "      <th>artist_name</th>\n",
       "      <th>name_formatted</th>\n",
       "    </tr>\n",
       "  </thead>\n",
       "  <tbody>\n",
       "    <tr>\n",
       "      <th>0</th>\n",
       "      <td>805192</td>\n",
       "      <td>WIK▲N</td>\n",
       "      <td>WIK▲N</td>\n",
       "    </tr>\n",
       "    <tr>\n",
       "      <th>1</th>\n",
       "      <td>371203</td>\n",
       "      <td>Moutso, Pete</td>\n",
       "      <td>Pete Moutso</td>\n",
       "    </tr>\n",
       "    <tr>\n",
       "      <th>2</th>\n",
       "      <td>273232</td>\n",
       "      <td>Zachary</td>\n",
       "      <td>Zachary</td>\n",
       "    </tr>\n",
       "    <tr>\n",
       "      <th>3</th>\n",
       "      <td>101060</td>\n",
       "      <td>Silhouettes, The</td>\n",
       "      <td>The Silhouettes</td>\n",
       "    </tr>\n",
       "    <tr>\n",
       "      <th>4</th>\n",
       "      <td>145773</td>\n",
       "      <td>Leavitt, Aric</td>\n",
       "      <td>Aric Leavitt</td>\n",
       "    </tr>\n",
       "  </tbody>\n",
       "</table>\n",
       "</div>"
      ],
      "text/plain": [
       "   artist_id       artist_name    name_formatted\n",
       "0     805192             WIK▲N             WIK▲N\n",
       "1     371203      Moutso, Pete       Pete Moutso\n",
       "2     273232           Zachary           Zachary\n",
       "3     101060  Silhouettes, The   The Silhouettes\n",
       "4     145773     Leavitt, Aric      Aric Leavitt"
      ]
     },
     "execution_count": 115,
     "metadata": {},
     "output_type": "execute_result"
    }
   ],
   "source": [
    "a = artists.head(100)\n",
    "a.head()"
   ]
  },
  {
   "cell_type": "code",
   "execution_count": 96,
   "metadata": {},
   "outputs": [
    {
     "name": "stdout",
     "output_type": "stream",
     "text": [
      "46.228908062\n"
     ]
    },
    {
     "name": "stderr",
     "output_type": "stream",
     "text": [
      "/home/ainhoa/anaconda3/envs/python2/lib/python2.7/site-packages/ipykernel_launcher.py:16: SettingWithCopyWarning: \n",
      "A value is trying to be set on a copy of a slice from a DataFrame.\n",
      "Try using .loc[row_indexer,col_indexer] = value instead\n",
      "\n",
      "See the caveats in the documentation: http://pandas.pydata.org/pandas-docs/stable/indexing.html#indexing-view-versus-copy\n",
      "  app.launch_new_instance()\n",
      "/home/ainhoa/anaconda3/envs/python2/lib/python2.7/site-packages/ipykernel_launcher.py:17: SettingWithCopyWarning: \n",
      "A value is trying to be set on a copy of a slice from a DataFrame.\n",
      "Try using .loc[row_indexer,col_indexer] = value instead\n",
      "\n",
      "See the caveats in the documentation: http://pandas.pydata.org/pandas-docs/stable/indexing.html#indexing-view-versus-copy\n"
     ]
    },
    {
     "data": {
      "text/html": [
       "<div>\n",
       "<style scoped>\n",
       "    .dataframe tbody tr th:only-of-type {\n",
       "        vertical-align: middle;\n",
       "    }\n",
       "\n",
       "    .dataframe tbody tr th {\n",
       "        vertical-align: top;\n",
       "    }\n",
       "\n",
       "    .dataframe thead th {\n",
       "        text-align: right;\n",
       "    }\n",
       "</style>\n",
       "<table border=\"1\" class=\"dataframe\">\n",
       "  <thead>\n",
       "    <tr style=\"text-align: right;\">\n",
       "      <th></th>\n",
       "      <th>artist_id</th>\n",
       "      <th>artist_name</th>\n",
       "      <th>name_formatted</th>\n",
       "      <th>birth_place</th>\n",
       "      <th>genre</th>\n",
       "    </tr>\n",
       "  </thead>\n",
       "  <tbody>\n",
       "    <tr>\n",
       "      <th>0</th>\n",
       "      <td>805192</td>\n",
       "      <td>WIK▲N</td>\n",
       "      <td>WIK▲N</td>\n",
       "      <td>NaN</td>\n",
       "      <td>NaN</td>\n",
       "    </tr>\n",
       "    <tr>\n",
       "      <th>1</th>\n",
       "      <td>371203</td>\n",
       "      <td>Moutso, Pete</td>\n",
       "      <td>Pete Moutso</td>\n",
       "      <td>NaN</td>\n",
       "      <td>NaN</td>\n",
       "    </tr>\n",
       "    <tr>\n",
       "      <th>2</th>\n",
       "      <td>273232</td>\n",
       "      <td>Zachary</td>\n",
       "      <td>Zachary</td>\n",
       "      <td>[[Zechariah (given name)|Zechariah]], [[Zakari...</td>\n",
       "      <td>{otheruses}}\\n{{Infobox given name\\n</td>\n",
       "    </tr>\n",
       "    <tr>\n",
       "      <th>3</th>\n",
       "      <td>101060</td>\n",
       "      <td>Silhouettes, The</td>\n",
       "      <td>The Silhouettes</td>\n",
       "      <td>None</td>\n",
       "      <td>{About</td>\n",
       "    </tr>\n",
       "    <tr>\n",
       "      <th>4</th>\n",
       "      <td>145773</td>\n",
       "      <td>Leavitt, Aric</td>\n",
       "      <td>Aric Leavitt</td>\n",
       "      <td>NaN</td>\n",
       "      <td>NaN</td>\n",
       "    </tr>\n",
       "    <tr>\n",
       "      <th>5</th>\n",
       "      <td>1076328</td>\n",
       "      <td>Fonograff</td>\n",
       "      <td>Fonograff</td>\n",
       "      <td>NaN</td>\n",
       "      <td>NaN</td>\n",
       "    </tr>\n",
       "    <tr>\n",
       "      <th>6</th>\n",
       "      <td>1172876</td>\n",
       "      <td>Street, Al</td>\n",
       "      <td>Al Street</td>\n",
       "      <td>NaN</td>\n",
       "      <td>NaN</td>\n",
       "    </tr>\n",
       "    <tr>\n",
       "      <th>7</th>\n",
       "      <td>220155</td>\n",
       "      <td>Love .45</td>\n",
       "      <td>Love .45</td>\n",
       "      <td>NaN</td>\n",
       "      <td>NaN</td>\n",
       "    </tr>\n",
       "    <tr>\n",
       "      <th>8</th>\n",
       "      <td>618464</td>\n",
       "      <td>Sintellect</td>\n",
       "      <td>Sintellect</td>\n",
       "      <td>NaN</td>\n",
       "      <td>NaN</td>\n",
       "    </tr>\n",
       "    <tr>\n",
       "      <th>9</th>\n",
       "      <td>285714</td>\n",
       "      <td>Evie Tamala</td>\n",
       "      <td>Evie Tamala</td>\n",
       "      <td>[[Tasikmalaya]], [[West Java]], [[Indonesia]]</td>\n",
       "      <td>Dangdut]]\\n}}\\n</td>\n",
       "    </tr>\n",
       "    <tr>\n",
       "      <th>10</th>\n",
       "      <td>886708</td>\n",
       "      <td>Martin, Jean-Pierre</td>\n",
       "      <td>Jean-Pierre Martin</td>\n",
       "      <td>NaN</td>\n",
       "      <td>NaN</td>\n",
       "    </tr>\n",
       "    <tr>\n",
       "      <th>11</th>\n",
       "      <td>209107</td>\n",
       "      <td>Deejay One</td>\n",
       "      <td>Deejay One</td>\n",
       "      <td>NaN</td>\n",
       "      <td>NaN</td>\n",
       "    </tr>\n",
       "    <tr>\n",
       "      <th>12</th>\n",
       "      <td>388372</td>\n",
       "      <td>wecamewithbrokenteeth</td>\n",
       "      <td>wecamewithbrokenteeth</td>\n",
       "      <td>NaN</td>\n",
       "      <td>NaN</td>\n",
       "    </tr>\n",
       "    <tr>\n",
       "      <th>13</th>\n",
       "      <td>726151</td>\n",
       "      <td>Blackbelt Band, The</td>\n",
       "      <td>The Blackbelt Band</td>\n",
       "      <td>NaN</td>\n",
       "      <td>NaN</td>\n",
       "    </tr>\n",
       "    <tr>\n",
       "      <th>14</th>\n",
       "      <td>152659</td>\n",
       "      <td>Giant Tomo</td>\n",
       "      <td>Giant Tomo</td>\n",
       "      <td>NaN</td>\n",
       "      <td>NaN</td>\n",
       "    </tr>\n",
       "    <tr>\n",
       "      <th>15</th>\n",
       "      <td>155757</td>\n",
       "      <td>Decoding Jesus</td>\n",
       "      <td>Decoding Jesus</td>\n",
       "      <td>NaN</td>\n",
       "      <td>NaN</td>\n",
       "    </tr>\n",
       "    <tr>\n",
       "      <th>16</th>\n",
       "      <td>228311</td>\n",
       "      <td>Jones, Elvin &amp; Garrison, Jimmy, Sextet</td>\n",
       "      <td>Sextet  Jimmy  Elvin &amp; Garrison Jones</td>\n",
       "      <td>NaN</td>\n",
       "      <td>NaN</td>\n",
       "    </tr>\n",
       "    <tr>\n",
       "      <th>17</th>\n",
       "      <td>407238</td>\n",
       "      <td>Infester</td>\n",
       "      <td>Infester</td>\n",
       "      <td>NaN</td>\n",
       "      <td>NaN</td>\n",
       "    </tr>\n",
       "    <tr>\n",
       "      <th>18</th>\n",
       "      <td>421011</td>\n",
       "      <td>Iglu, DJ &amp; Hartly Dark</td>\n",
       "      <td>DJ &amp; Hartly Dark Iglu</td>\n",
       "      <td>NaN</td>\n",
       "      <td>NaN</td>\n",
       "    </tr>\n",
       "    <tr>\n",
       "      <th>19</th>\n",
       "      <td>1000880</td>\n",
       "      <td>Diskobitch</td>\n",
       "      <td>Diskobitch</td>\n",
       "      <td>NaN</td>\n",
       "      <td>NaN</td>\n",
       "    </tr>\n",
       "    <tr>\n",
       "      <th>20</th>\n",
       "      <td>471075</td>\n",
       "      <td>Seanews</td>\n",
       "      <td>Seanews</td>\n",
       "      <td>NaN</td>\n",
       "      <td>NaN</td>\n",
       "    </tr>\n",
       "    <tr>\n",
       "      <th>21</th>\n",
       "      <td>98827</td>\n",
       "      <td>CyberDog</td>\n",
       "      <td>CyberDog</td>\n",
       "      <td>None</td>\n",
       "      <td>REDIRECT [[Cyberdog]]\\n\\n{{Redirect category s...</td>\n",
       "    </tr>\n",
       "    <tr>\n",
       "      <th>22</th>\n",
       "      <td>1182563</td>\n",
       "      <td>Serge Bec</td>\n",
       "      <td>Serge Bec</td>\n",
       "      <td>NaN</td>\n",
       "      <td>NaN</td>\n",
       "    </tr>\n",
       "    <tr>\n",
       "      <th>23</th>\n",
       "      <td>208149</td>\n",
       "      <td>Thirteen Over Eight</td>\n",
       "      <td>Thirteen Over Eight</td>\n",
       "      <td>None</td>\n",
       "      <td>REDIRECT [[Innerpartysystem]</td>\n",
       "    </tr>\n",
       "    <tr>\n",
       "      <th>24</th>\n",
       "      <td>998553</td>\n",
       "      <td>Astolat</td>\n",
       "      <td>Astolat</td>\n",
       "      <td>None</td>\n",
       "      <td>[File:Elaine, by Alfred Tennyson 03.jpg</td>\n",
       "    </tr>\n",
       "    <tr>\n",
       "      <th>25</th>\n",
       "      <td>305463</td>\n",
       "      <td>Insignificant, The</td>\n",
       "      <td>The Insignificant</td>\n",
       "      <td>NaN</td>\n",
       "      <td>NaN</td>\n",
       "    </tr>\n",
       "    <tr>\n",
       "      <th>26</th>\n",
       "      <td>931972</td>\n",
       "      <td>Wanderers, The</td>\n",
       "      <td>The Wanderers</td>\n",
       "      <td>None</td>\n",
       "      <td>REDIRECT [[Wanderer]</td>\n",
       "    </tr>\n",
       "    <tr>\n",
       "      <th>27</th>\n",
       "      <td>438242</td>\n",
       "      <td>Greville, Andrew</td>\n",
       "      <td>Andrew Greville</td>\n",
       "      <td>NaN</td>\n",
       "      <td>NaN</td>\n",
       "    </tr>\n",
       "    <tr>\n",
       "      <th>28</th>\n",
       "      <td>351358</td>\n",
       "      <td>Project/Object</td>\n",
       "      <td>Project/Object</td>\n",
       "      <td>NaN</td>\n",
       "      <td>NaN</td>\n",
       "    </tr>\n",
       "    <tr>\n",
       "      <th>29</th>\n",
       "      <td>768072</td>\n",
       "      <td>Imagimusic</td>\n",
       "      <td>Imagimusic</td>\n",
       "      <td>NaN</td>\n",
       "      <td>NaN</td>\n",
       "    </tr>\n",
       "    <tr>\n",
       "      <th>...</th>\n",
       "      <td>...</td>\n",
       "      <td>...</td>\n",
       "      <td>...</td>\n",
       "      <td>...</td>\n",
       "      <td>...</td>\n",
       "    </tr>\n",
       "    <tr>\n",
       "      <th>70</th>\n",
       "      <td>650352</td>\n",
       "      <td>Sczebel, Greg</td>\n",
       "      <td>Greg Sczebel</td>\n",
       "      <td>[[Salmon Arm]], [[British Columbia]], Canada</td>\n",
       "      <td>Soul music</td>\n",
       "    </tr>\n",
       "    <tr>\n",
       "      <th>71</th>\n",
       "      <td>1234426</td>\n",
       "      <td>Certified Ryders</td>\n",
       "      <td>Certified Ryders</td>\n",
       "      <td>NaN</td>\n",
       "      <td>NaN</td>\n",
       "    </tr>\n",
       "    <tr>\n",
       "      <th>72</th>\n",
       "      <td>1171186</td>\n",
       "      <td>Wicki, Ludwig</td>\n",
       "      <td>Ludwig Wicki</td>\n",
       "      <td>NaN</td>\n",
       "      <td>NaN</td>\n",
       "    </tr>\n",
       "    <tr>\n",
       "      <th>73</th>\n",
       "      <td>57402</td>\n",
       "      <td>MaUVe</td>\n",
       "      <td>MaUVe</td>\n",
       "      <td>NaN</td>\n",
       "      <td>NaN</td>\n",
       "    </tr>\n",
       "    <tr>\n",
       "      <th>74</th>\n",
       "      <td>1594768</td>\n",
       "      <td>Malinké</td>\n",
       "      <td>Malinké</td>\n",
       "      <td>None</td>\n",
       "      <td>REDIRECT [[Mandinka people]]\\n\\n{{Redirect cat...</td>\n",
       "    </tr>\n",
       "    <tr>\n",
       "      <th>75</th>\n",
       "      <td>82910</td>\n",
       "      <td>René, DJ</td>\n",
       "      <td>DJ René</td>\n",
       "      <td>NaN</td>\n",
       "      <td>NaN</td>\n",
       "    </tr>\n",
       "    <tr>\n",
       "      <th>76</th>\n",
       "      <td>100481</td>\n",
       "      <td>Spacemaker</td>\n",
       "      <td>Spacemaker</td>\n",
       "      <td>NaN</td>\n",
       "      <td>NaN</td>\n",
       "    </tr>\n",
       "    <tr>\n",
       "      <th>77</th>\n",
       "      <td>100483</td>\n",
       "      <td>Cofer Brothers</td>\n",
       "      <td>Cofer Brothers</td>\n",
       "      <td>NaN</td>\n",
       "      <td>NaN</td>\n",
       "    </tr>\n",
       "    <tr>\n",
       "      <th>78</th>\n",
       "      <td>835674</td>\n",
       "      <td>Selditz, Thomas</td>\n",
       "      <td>Thomas Selditz</td>\n",
       "      <td>NaN</td>\n",
       "      <td>NaN</td>\n",
       "    </tr>\n",
       "    <tr>\n",
       "      <th>79</th>\n",
       "      <td>100495</td>\n",
       "      <td>Lee Brothers</td>\n",
       "      <td>Lee Brothers</td>\n",
       "      <td>NaN</td>\n",
       "      <td>NaN</td>\n",
       "    </tr>\n",
       "    <tr>\n",
       "      <th>80</th>\n",
       "      <td>56526</td>\n",
       "      <td>Klein, Laurie</td>\n",
       "      <td>Laurie Klein</td>\n",
       "      <td>NaN</td>\n",
       "      <td>NaN</td>\n",
       "    </tr>\n",
       "    <tr>\n",
       "      <th>81</th>\n",
       "      <td>837065</td>\n",
       "      <td>Ilse</td>\n",
       "      <td>Ilse</td>\n",
       "      <td>[[Ilze]], Ilsa</td>\n",
       "      <td>{Infobox given name\\n</td>\n",
       "    </tr>\n",
       "    <tr>\n",
       "      <th>82</th>\n",
       "      <td>471294</td>\n",
       "      <td>Hombres, Hispana</td>\n",
       "      <td>Hispana Hombres</td>\n",
       "      <td>NaN</td>\n",
       "      <td>NaN</td>\n",
       "    </tr>\n",
       "    <tr>\n",
       "      <th>83</th>\n",
       "      <td>221263</td>\n",
       "      <td>Brotherly</td>\n",
       "      <td>Brotherly</td>\n",
       "      <td>None</td>\n",
       "      <td>redirect [[family]</td>\n",
       "    </tr>\n",
       "    <tr>\n",
       "      <th>84</th>\n",
       "      <td>156560</td>\n",
       "      <td>Kak</td>\n",
       "      <td>Kak</td>\n",
       "      <td>None</td>\n",
       "      <td>{wiktionarypar</td>\n",
       "    </tr>\n",
       "    <tr>\n",
       "      <th>85</th>\n",
       "      <td>99225</td>\n",
       "      <td>Grinder, Linda</td>\n",
       "      <td>Linda Grinder</td>\n",
       "      <td>NaN</td>\n",
       "      <td>NaN</td>\n",
       "    </tr>\n",
       "    <tr>\n",
       "      <th>86</th>\n",
       "      <td>408828</td>\n",
       "      <td>Grits</td>\n",
       "      <td>Grits</td>\n",
       "      <td>NaN</td>\n",
       "      <td>NaN</td>\n",
       "    </tr>\n",
       "    <tr>\n",
       "      <th>87</th>\n",
       "      <td>449917</td>\n",
       "      <td>Sun Wenyan</td>\n",
       "      <td>Sun Wenyan</td>\n",
       "      <td></td>\n",
       "      <td>{Chinese name</td>\n",
       "    </tr>\n",
       "    <tr>\n",
       "      <th>88</th>\n",
       "      <td>777760</td>\n",
       "      <td>Nico ALLSTARS</td>\n",
       "      <td>Nico ALLSTARS</td>\n",
       "      <td>NaN</td>\n",
       "      <td>NaN</td>\n",
       "    </tr>\n",
       "    <tr>\n",
       "      <th>89</th>\n",
       "      <td>504201</td>\n",
       "      <td>Baker, Dorian</td>\n",
       "      <td>Dorian Baker</td>\n",
       "      <td>NaN</td>\n",
       "      <td>NaN</td>\n",
       "    </tr>\n",
       "    <tr>\n",
       "      <th>90</th>\n",
       "      <td>57689</td>\n",
       "      <td>Ceravolo, Enrico</td>\n",
       "      <td>Enrico Ceravolo</td>\n",
       "      <td>NaN</td>\n",
       "      <td>NaN</td>\n",
       "    </tr>\n",
       "    <tr>\n",
       "      <th>91</th>\n",
       "      <td>225621</td>\n",
       "      <td>Macho Cat Garage</td>\n",
       "      <td>Macho Cat Garage</td>\n",
       "      <td>NaN</td>\n",
       "      <td>NaN</td>\n",
       "    </tr>\n",
       "    <tr>\n",
       "      <th>92</th>\n",
       "      <td>100489</td>\n",
       "      <td>Hindley, Fisher</td>\n",
       "      <td>Fisher Hindley</td>\n",
       "      <td>NaN</td>\n",
       "      <td>NaN</td>\n",
       "    </tr>\n",
       "    <tr>\n",
       "      <th>93</th>\n",
       "      <td>1658355</td>\n",
       "      <td>Frederick, Christian</td>\n",
       "      <td>Christian Frederick</td>\n",
       "      <td>None</td>\n",
       "      <td>redirect[[Christian VIII of Denmark]</td>\n",
       "    </tr>\n",
       "    <tr>\n",
       "      <th>94</th>\n",
       "      <td>98858</td>\n",
       "      <td>Triality</td>\n",
       "      <td>Triality</td>\n",
       "      <td>None</td>\n",
       "      <td>{for</td>\n",
       "    </tr>\n",
       "    <tr>\n",
       "      <th>95</th>\n",
       "      <td>815789</td>\n",
       "      <td>Bennet, Paul</td>\n",
       "      <td>Paul Bennet</td>\n",
       "      <td></td>\n",
       "      <td>{Infobox person\\n</td>\n",
       "    </tr>\n",
       "    <tr>\n",
       "      <th>96</th>\n",
       "      <td>98863</td>\n",
       "      <td>Sylverblue</td>\n",
       "      <td>Sylverblue</td>\n",
       "      <td>NaN</td>\n",
       "      <td>NaN</td>\n",
       "    </tr>\n",
       "    <tr>\n",
       "      <th>97</th>\n",
       "      <td>142945</td>\n",
       "      <td>Left Rights, The</td>\n",
       "      <td>The Left Rights</td>\n",
       "      <td>None</td>\n",
       "      <td>REDIRECT [[Mindless Self Indulgence]</td>\n",
       "    </tr>\n",
       "    <tr>\n",
       "      <th>98</th>\n",
       "      <td>566607</td>\n",
       "      <td>Brandenburg, Juliane</td>\n",
       "      <td>Juliane Brandenburg</td>\n",
       "      <td>NaN</td>\n",
       "      <td>NaN</td>\n",
       "    </tr>\n",
       "    <tr>\n",
       "      <th>99</th>\n",
       "      <td>889103</td>\n",
       "      <td>Sam</td>\n",
       "      <td>Sam</td>\n",
       "      <td>None</td>\n",
       "      <td>{wiktionary</td>\n",
       "    </tr>\n",
       "  </tbody>\n",
       "</table>\n",
       "<p>100 rows × 5 columns</p>\n",
       "</div>"
      ],
      "text/plain": [
       "    artist_id                             artist_name  \\\n",
       "0      805192                                   WIK▲N   \n",
       "1      371203                            Moutso, Pete   \n",
       "2      273232                                 Zachary   \n",
       "3      101060                        Silhouettes, The   \n",
       "4      145773                           Leavitt, Aric   \n",
       "5     1076328                               Fonograff   \n",
       "6     1172876                              Street, Al   \n",
       "7      220155                                Love .45   \n",
       "8      618464                              Sintellect   \n",
       "9      285714                             Evie Tamala   \n",
       "10     886708                     Martin, Jean-Pierre   \n",
       "11     209107                              Deejay One   \n",
       "12     388372                   wecamewithbrokenteeth   \n",
       "13     726151                     Blackbelt Band, The   \n",
       "14     152659                              Giant Tomo   \n",
       "15     155757                          Decoding Jesus   \n",
       "16     228311  Jones, Elvin & Garrison, Jimmy, Sextet   \n",
       "17     407238                                Infester   \n",
       "18     421011                  Iglu, DJ & Hartly Dark   \n",
       "19    1000880                              Diskobitch   \n",
       "20     471075                                 Seanews   \n",
       "21      98827                                CyberDog   \n",
       "22    1182563                               Serge Bec   \n",
       "23     208149                     Thirteen Over Eight   \n",
       "24     998553                                 Astolat   \n",
       "25     305463                      Insignificant, The   \n",
       "26     931972                          Wanderers, The   \n",
       "27     438242                        Greville, Andrew   \n",
       "28     351358                          Project/Object   \n",
       "29     768072                              Imagimusic   \n",
       "..        ...                                     ...   \n",
       "70     650352                           Sczebel, Greg   \n",
       "71    1234426                        Certified Ryders   \n",
       "72    1171186                           Wicki, Ludwig   \n",
       "73      57402                                   MaUVe   \n",
       "74    1594768                                 Malinké   \n",
       "75      82910                                René, DJ   \n",
       "76     100481                              Spacemaker   \n",
       "77     100483                          Cofer Brothers   \n",
       "78     835674                         Selditz, Thomas   \n",
       "79     100495                            Lee Brothers   \n",
       "80      56526                           Klein, Laurie   \n",
       "81     837065                                    Ilse   \n",
       "82     471294                        Hombres, Hispana   \n",
       "83     221263                               Brotherly   \n",
       "84     156560                                     Kak   \n",
       "85      99225                          Grinder, Linda   \n",
       "86     408828                                   Grits   \n",
       "87     449917                              Sun Wenyan   \n",
       "88     777760                           Nico ALLSTARS   \n",
       "89     504201                           Baker, Dorian   \n",
       "90      57689                        Ceravolo, Enrico   \n",
       "91     225621                        Macho Cat Garage   \n",
       "92     100489                         Hindley, Fisher   \n",
       "93    1658355                    Frederick, Christian   \n",
       "94      98858                                Triality   \n",
       "95     815789                            Bennet, Paul   \n",
       "96      98863                              Sylverblue   \n",
       "97     142945                        Left Rights, The   \n",
       "98     566607                    Brandenburg, Juliane   \n",
       "99     889103                                     Sam   \n",
       "\n",
       "                            name_formatted  \\\n",
       "0                                    WIK▲N   \n",
       "1                              Pete Moutso   \n",
       "2                                  Zachary   \n",
       "3                          The Silhouettes   \n",
       "4                             Aric Leavitt   \n",
       "5                                Fonograff   \n",
       "6                                Al Street   \n",
       "7                                 Love .45   \n",
       "8                               Sintellect   \n",
       "9                              Evie Tamala   \n",
       "10                      Jean-Pierre Martin   \n",
       "11                              Deejay One   \n",
       "12                   wecamewithbrokenteeth   \n",
       "13                      The Blackbelt Band   \n",
       "14                              Giant Tomo   \n",
       "15                          Decoding Jesus   \n",
       "16   Sextet  Jimmy  Elvin & Garrison Jones   \n",
       "17                                Infester   \n",
       "18                   DJ & Hartly Dark Iglu   \n",
       "19                              Diskobitch   \n",
       "20                                 Seanews   \n",
       "21                                CyberDog   \n",
       "22                               Serge Bec   \n",
       "23                     Thirteen Over Eight   \n",
       "24                                 Astolat   \n",
       "25                       The Insignificant   \n",
       "26                           The Wanderers   \n",
       "27                         Andrew Greville   \n",
       "28                          Project/Object   \n",
       "29                              Imagimusic   \n",
       "..                                     ...   \n",
       "70                            Greg Sczebel   \n",
       "71                        Certified Ryders   \n",
       "72                            Ludwig Wicki   \n",
       "73                                   MaUVe   \n",
       "74                                 Malinké   \n",
       "75                                 DJ René   \n",
       "76                              Spacemaker   \n",
       "77                          Cofer Brothers   \n",
       "78                          Thomas Selditz   \n",
       "79                            Lee Brothers   \n",
       "80                            Laurie Klein   \n",
       "81                                    Ilse   \n",
       "82                         Hispana Hombres   \n",
       "83                               Brotherly   \n",
       "84                                     Kak   \n",
       "85                           Linda Grinder   \n",
       "86                                   Grits   \n",
       "87                              Sun Wenyan   \n",
       "88                           Nico ALLSTARS   \n",
       "89                            Dorian Baker   \n",
       "90                         Enrico Ceravolo   \n",
       "91                        Macho Cat Garage   \n",
       "92                          Fisher Hindley   \n",
       "93                     Christian Frederick   \n",
       "94                                Triality   \n",
       "95                             Paul Bennet   \n",
       "96                              Sylverblue   \n",
       "97                         The Left Rights   \n",
       "98                     Juliane Brandenburg   \n",
       "99                                     Sam   \n",
       "\n",
       "                                          birth_place  \\\n",
       "0                                                 NaN   \n",
       "1                                                 NaN   \n",
       "2   [[Zechariah (given name)|Zechariah]], [[Zakari...   \n",
       "3                                                None   \n",
       "4                                                 NaN   \n",
       "5                                                 NaN   \n",
       "6                                                 NaN   \n",
       "7                                                 NaN   \n",
       "8                                                 NaN   \n",
       "9       [[Tasikmalaya]], [[West Java]], [[Indonesia]]   \n",
       "10                                                NaN   \n",
       "11                                                NaN   \n",
       "12                                                NaN   \n",
       "13                                                NaN   \n",
       "14                                                NaN   \n",
       "15                                                NaN   \n",
       "16                                                NaN   \n",
       "17                                                NaN   \n",
       "18                                                NaN   \n",
       "19                                                NaN   \n",
       "20                                                NaN   \n",
       "21                                               None   \n",
       "22                                                NaN   \n",
       "23                                               None   \n",
       "24                                               None   \n",
       "25                                                NaN   \n",
       "26                                               None   \n",
       "27                                                NaN   \n",
       "28                                                NaN   \n",
       "29                                                NaN   \n",
       "..                                                ...   \n",
       "70       [[Salmon Arm]], [[British Columbia]], Canada   \n",
       "71                                                NaN   \n",
       "72                                                NaN   \n",
       "73                                                NaN   \n",
       "74                                               None   \n",
       "75                                                NaN   \n",
       "76                                                NaN   \n",
       "77                                                NaN   \n",
       "78                                                NaN   \n",
       "79                                                NaN   \n",
       "80                                                NaN   \n",
       "81                                     [[Ilze]], Ilsa   \n",
       "82                                                NaN   \n",
       "83                                               None   \n",
       "84                                               None   \n",
       "85                                                NaN   \n",
       "86                                                NaN   \n",
       "87                                                      \n",
       "88                                                NaN   \n",
       "89                                                NaN   \n",
       "90                                                NaN   \n",
       "91                                                NaN   \n",
       "92                                                NaN   \n",
       "93                                               None   \n",
       "94                                               None   \n",
       "95                                                      \n",
       "96                                                NaN   \n",
       "97                                               None   \n",
       "98                                                NaN   \n",
       "99                                               None   \n",
       "\n",
       "                                                genre  \n",
       "0                                                 NaN  \n",
       "1                                                 NaN  \n",
       "2                {otheruses}}\\n{{Infobox given name\\n  \n",
       "3                                              {About  \n",
       "4                                                 NaN  \n",
       "5                                                 NaN  \n",
       "6                                                 NaN  \n",
       "7                                                 NaN  \n",
       "8                                                 NaN  \n",
       "9                                     Dangdut]]\\n}}\\n  \n",
       "10                                                NaN  \n",
       "11                                                NaN  \n",
       "12                                                NaN  \n",
       "13                                                NaN  \n",
       "14                                                NaN  \n",
       "15                                                NaN  \n",
       "16                                                NaN  \n",
       "17                                                NaN  \n",
       "18                                                NaN  \n",
       "19                                                NaN  \n",
       "20                                                NaN  \n",
       "21  REDIRECT [[Cyberdog]]\\n\\n{{Redirect category s...  \n",
       "22                                                NaN  \n",
       "23                       REDIRECT [[Innerpartysystem]  \n",
       "24            [File:Elaine, by Alfred Tennyson 03.jpg  \n",
       "25                                                NaN  \n",
       "26                               REDIRECT [[Wanderer]  \n",
       "27                                                NaN  \n",
       "28                                                NaN  \n",
       "29                                                NaN  \n",
       "..                                                ...  \n",
       "70                                         Soul music  \n",
       "71                                                NaN  \n",
       "72                                                NaN  \n",
       "73                                                NaN  \n",
       "74  REDIRECT [[Mandinka people]]\\n\\n{{Redirect cat...  \n",
       "75                                                NaN  \n",
       "76                                                NaN  \n",
       "77                                                NaN  \n",
       "78                                                NaN  \n",
       "79                                                NaN  \n",
       "80                                                NaN  \n",
       "81                              {Infobox given name\\n  \n",
       "82                                                NaN  \n",
       "83                                 redirect [[family]  \n",
       "84                                     {wiktionarypar  \n",
       "85                                                NaN  \n",
       "86                                                NaN  \n",
       "87                                      {Chinese name  \n",
       "88                                                NaN  \n",
       "89                                                NaN  \n",
       "90                                                NaN  \n",
       "91                                                NaN  \n",
       "92                                                NaN  \n",
       "93               redirect[[Christian VIII of Denmark]  \n",
       "94                                               {for  \n",
       "95                                  {Infobox person\\n  \n",
       "96                                                NaN  \n",
       "97               REDIRECT [[Mindless Self Indulgence]  \n",
       "98                                                NaN  \n",
       "99                                        {wiktionary  \n",
       "\n",
       "[100 rows x 5 columns]"
      ]
     },
     "execution_count": 96,
     "metadata": {},
     "output_type": "execute_result"
    }
   ],
   "source": [
    "retrieve_metadata(a, a['name_formatted'])"
   ]
  },
  {
   "cell_type": "code",
   "execution_count": 117,
   "metadata": {},
   "outputs": [
    {
     "name": "stdout",
     "output_type": "stream",
     "text": [
      "Processes started\n",
      "2.14195990562\n",
      "[[' Pete Moutso', nan, nan], ['WIK\\xe2\\x96\\xb2N', nan, nan], [' Al Street', nan, nan], ['Fonograff', nan, nan], [' Aric Leavitt', nan, nan], ['Zachary', '[[Zechariah (given name)|Zechariah]], [[Zakariya]]', '{otheruses}}\\n{{Infobox given name\\n'], ['Sintellect', nan, nan], ['wecamewithbrokenteeth', nan, nan], [' The Blackbelt Band', nan, nan], [' Jean-Pierre Martin', nan, nan], [' The Silhouettes', None, '{About'], ['Giant Tomo', nan, nan], ['Evie Tamala', ' [[Tasikmalaya]], [[West Java]], [[Indonesia]]', 'Dangdut]]\\n}}\\n'], ['Diskobitch', nan, nan], ['Seanews', nan, nan], ['Infester', nan, nan], ['Decoding Jesus', nan, nan], ['CyberDog', None, 'REDIRECT [[Cyberdog]]\\n\\n{{Redirect category shell'], [' The Insignificant', nan, nan], ['Thirteen Over Eight', None, 'REDIRECT [[Innerpartysystem]'], ['Astolat', None, '[File:Elaine, by Alfred Tennyson 03.jpg'], ['Deejay One', nan, nan], ['Serge Bec', nan, nan], ['Sailing Conductors', nan, nan], ['Project/Object', nan, nan], ['Disappointment Incorporated', nan, nan], [' Bruno Macedo', nan, nan], [' The Wanderers', None, 'REDIRECT [[Wanderer]'], [' Andrew Greville', nan, nan], ['Jumbo Jets', nan, nan], ['Stereobate', None, 'REDIRECT [[stylobate]'], ['Imagimusic', nan, nan], ['Gloria Deluxe', None, 'redirect [[Cynthia Hopkins]] {{R from album}'], ['Love .45', nan, nan], [' DJ Reverend', nan, nan], ['Blasco', None, \"''Blasco''' is a surname which roots can be found it in [[Aragon]], more specifically in the Jaca's mountains\"], [' Allison Williams', None, \"''Allison Williams''' may refer to:\\n\\n*[[Allison Williams (actress)]] (born 1988), American actress\\n*[[Allison Williams (reporter)]] (born 1984), ESPN reporter\\n*[[Allison Williams (Miss West Virginia)]] (born c. 1981), 2003 pageant titleholde\"], ['Current', None, '{wiktionary'], [' Dr. I-Bolit', nan, nan], ['We Barbarians', '[[Long Beach, California|Long Beach]], [[California]], [[United States]]', 'Indie rock]], [[Alternative rock]]\\n'], [' Yoshirou Ookura', nan, nan], ['Softys', nan, nan], ['Talkshow Boy', nan, nan], ['Peacemaker', None, '{confused'], [' David Soames', ' [[Grimsby]], England', '{EngvarB'], ['Mike 7', nan, nan], [' George Gao', None, \"''George Gao''' ({{zh\"], ['Sling Ting', nan, nan], [' Gustav Ruppke', nan, nan], [' Jos\\xc3\\xa9 Souc', nan, nan], [' Vera Mann', nan, nan], [' The High Level Ranters', '[[Newcastle upon Tyne]], [[Tyne and Wear]]', 'English folk music]], [[Celtic music]]\\n'], ['Phluid', nan, nan], ['Sebapola', nan, nan], [' DJ & Hartly Dark Iglu', nan, nan], ['Nodesha', None, '{BLP sources'], ['Antonym', None, 'Redirect [[Opposite (semantics)]]\\n\\n{{Redirect category shell'], [' Dennis Matthews', None, \"''Dennis Matthews''' may refer to\"], [' Wieland Samolak', nan, nan], ['Vertebrats', nan, nan], [' Alexander Purkart', nan, nan], ['No Water', nan, nan], [' Susan Enan', ' [[Peterborough]], [[Cambridgeshire]], [[England]]', 'Acoustic music'], [' Teresa Catal\\xc3\\xa1n', nan, nan], ['Certified Ryders', nan, nan], [' Greg Sczebel', '[[Salmon Arm]], [[British Columbia]], Canada', 'Soul music'], ['Champale', None, '{Use dmy dates'], [' Ludwig Wicki', nan, nan], ['Rezerwat', None, '{Infobox film\\n'], ['MaUVe', nan, nan], ['Spacemaker', nan, nan], ['Malink\\xc3\\xa9', None, 'REDIRECT [[Mandinka people]]\\n\\n{{Redirect category shell'], [' DJ Ren\\xc3\\xa9', nan, nan], [' Thomas Selditz', nan, nan], ['Cofer Brothers', nan, nan], ['Lee Brothers', nan, nan], ['Q Text', nan, nan], [' Laurie Klein', nan, nan], ['Ilse', '[[Ilze]], Ilsa', '{Infobox given name\\n'], ['Kak', None, '{wiktionarypar'], [' Linda Grinder', nan, nan], ['Nico ALLSTARS', nan, nan], ['Grits', nan, nan], [' Dorian Baker', nan, nan], ['Macho Cat Garage', nan, nan], [' Enrico Ceravolo', nan, nan], [' Hispana Hombres', nan, nan], ['Triality', None, '{for'], ['Brotherly', None, 'redirect [[family]'], [' Fisher Hindley', nan, nan], [' Christian Frederick', None, 'redirect[[Christian VIII of Denmark]'], [' Paul Bennet', ' ', '{Infobox person\\n'], ['Sylverblue', nan, nan], [' The Left Rights', None, 'REDIRECT [[Mindless Self Indulgence]'], [' Juliane Brandenburg', nan, nan], ['Sun Wenyan', '', '{Chinese name'], ['Sam', None, '{wiktionary'], [' Sextet  Jimmy  Elvin & Garrison Jones', nan, nan], [' John Bertrand', None, \"''John Bertrand''' may refer to:\\n\\n* [[John Bertrand (sailor, born 1946)]] (born 1946), Australian Olympic and America's Cup sailor\\n* [[John Bertrand (sailor, born 1956)]] (born 1956), American Olympic sailo\"], [' Marina Phillips', nan, nan]]\n"
     ]
    }
   ],
   "source": [
    "#https://sebastianraschka.com/Articles/2014_multiprocessing.html\n",
    "import multiprocessing as mp\n",
    "# Define an output queue\n",
    "output = mp.Queue()\n",
    "\n",
    "def get_1_artist(artist, output):\n",
    "    try:\n",
    "        page = read_wiki_page(artist)\n",
    "        birth_place= read_birthplace(page)\n",
    "        genre = extract_genre(page)\n",
    "    except:\n",
    "        birth_place = np.nan\n",
    "        genre = np.nan\n",
    "    output.put([artist, birth_place, genre])\n",
    "\n",
    "start = time.time()\n",
    "processes = [mp.Process(target=get_1_artist, args=(name_formatted, output)) for name_formatted in a['name_formatted']]\n",
    "\n",
    "for p in processes:\n",
    "    p.start()\n",
    "\n",
    "print(\"Processes started\")\n",
    "\n",
    "# Exit the completed processes\n",
    "for p in processes:\n",
    "    p.join()\n",
    "\n",
    "results = [output.get() for p in processes]\n",
    "end = time.time()\n",
    "print(end-start)\n",
    "print(results)"
   ]
  },
  {
   "cell_type": "code",
   "execution_count": 107,
   "metadata": {},
   "outputs": [
    {
     "data": {
      "text/plain": [
       "' Pete Moutso'"
      ]
     },
     "execution_count": 107,
     "metadata": {},
     "output_type": "execute_result"
    }
   ],
   "source": [
    "a['name_formatted'][1]"
   ]
  },
  {
   "cell_type": "code",
   "execution_count": null,
   "metadata": {},
   "outputs": [],
   "source": []
  },
  {
   "cell_type": "code",
   "execution_count": null,
   "metadata": {},
   "outputs": [],
   "source": []
  },
  {
   "cell_type": "code",
   "execution_count": null,
   "metadata": {},
   "outputs": [],
   "source": []
  },
  {
   "cell_type": "code",
   "execution_count": null,
   "metadata": {},
   "outputs": [],
   "source": []
  },
  {
   "cell_type": "code",
   "execution_count": null,
   "metadata": {},
   "outputs": [],
   "source": []
  },
  {
   "cell_type": "code",
   "execution_count": null,
   "metadata": {},
   "outputs": [],
   "source": []
  },
  {
   "cell_type": "code",
   "execution_count": null,
   "metadata": {},
   "outputs": [],
   "source": []
  },
  {
   "cell_type": "code",
   "execution_count": null,
   "metadata": {},
   "outputs": [],
   "source": []
  },
  {
   "cell_type": "code",
   "execution_count": null,
   "metadata": {},
   "outputs": [],
   "source": []
  },
  {
   "cell_type": "code",
   "execution_count": null,
   "metadata": {},
   "outputs": [],
   "source": []
  },
  {
   "cell_type": "code",
   "execution_count": null,
   "metadata": {},
   "outputs": [],
   "source": []
  },
  {
   "cell_type": "code",
   "execution_count": null,
   "metadata": {},
   "outputs": [],
   "source": []
  },
  {
   "cell_type": "code",
   "execution_count": null,
   "metadata": {},
   "outputs": [],
   "source": []
  },
  {
   "cell_type": "code",
   "execution_count": null,
   "metadata": {},
   "outputs": [],
   "source": []
  },
  {
   "cell_type": "code",
   "execution_count": null,
   "metadata": {},
   "outputs": [],
   "source": []
  },
  {
   "cell_type": "code",
   "execution_count": null,
   "metadata": {},
   "outputs": [],
   "source": []
  },
  {
   "cell_type": "code",
   "execution_count": null,
   "metadata": {},
   "outputs": [],
   "source": []
  },
  {
   "cell_type": "code",
   "execution_count": null,
   "metadata": {},
   "outputs": [],
   "source": []
  },
  {
   "cell_type": "code",
   "execution_count": null,
   "metadata": {},
   "outputs": [],
   "source": []
  },
  {
   "cell_type": "code",
   "execution_count": null,
   "metadata": {},
   "outputs": [],
   "source": []
  },
  {
   "cell_type": "code",
   "execution_count": null,
   "metadata": {},
   "outputs": [],
   "source": []
  },
  {
   "cell_type": "code",
   "execution_count": null,
   "metadata": {},
   "outputs": [],
   "source": []
  },
  {
   "cell_type": "code",
   "execution_count": null,
   "metadata": {},
   "outputs": [],
   "source": []
  },
  {
   "cell_type": "code",
   "execution_count": null,
   "metadata": {},
   "outputs": [],
   "source": []
  },
  {
   "cell_type": "code",
   "execution_count": null,
   "metadata": {},
   "outputs": [],
   "source": []
  },
  {
   "cell_type": "code",
   "execution_count": null,
   "metadata": {},
   "outputs": [],
   "source": []
  },
  {
   "cell_type": "code",
   "execution_count": null,
   "metadata": {},
   "outputs": [],
   "source": []
  },
  {
   "cell_type": "code",
   "execution_count": null,
   "metadata": {},
   "outputs": [],
   "source": []
  },
  {
   "cell_type": "code",
   "execution_count": null,
   "metadata": {},
   "outputs": [],
   "source": []
  },
  {
   "cell_type": "code",
   "execution_count": null,
   "metadata": {},
   "outputs": [],
   "source": []
  },
  {
   "cell_type": "code",
   "execution_count": null,
   "metadata": {},
   "outputs": [],
   "source": []
  },
  {
   "cell_type": "code",
   "execution_count": null,
   "metadata": {},
   "outputs": [],
   "source": []
  }
 ],
 "metadata": {
  "kernelspec": {
   "display_name": "Python 2",
   "language": "python",
   "name": "python2"
  },
  "language_info": {
   "codemirror_mode": {
    "name": "ipython",
    "version": 2
   },
   "file_extension": ".py",
   "mimetype": "text/x-python",
   "name": "python",
   "nbconvert_exporter": "python",
   "pygments_lexer": "ipython2",
   "version": "2.7.15"
  }
 },
 "nbformat": 4,
 "nbformat_minor": 2
}
